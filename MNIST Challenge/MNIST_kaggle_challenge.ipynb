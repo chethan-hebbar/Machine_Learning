{
 "cells": [
  {
   "cell_type": "markdown",
   "metadata": {},
   "source": [
    "# Kaggle MNIST digit challenge"
   ]
  },
  {
   "cell_type": "markdown",
   "metadata": {},
   "source": [
    "## Getting the data and processing it"
   ]
  },
  {
   "cell_type": "code",
   "execution_count": 93,
   "metadata": {},
   "outputs": [],
   "source": [
    "# Getting the dataset from torchvision\n",
    "import numpy\n",
    "import torch\n",
    "import matplotlib\n",
    "import torchvision\n",
    "import torch.nn as nn\n",
    "import matplotlib.pyplot as plt\n",
    "import torch.nn.functional as F\n",
    "import torchvision.transforms as transforms\n",
    "from torchvision.datasets import MNIST\n",
    "from torch.utils.data import random_split\n",
    "from torch.utils.data import DataLoader\n",
    "import pandas as pd\n",
    "import os"
   ]
  },
  {
   "cell_type": "code",
   "execution_count": 94,
   "metadata": {},
   "outputs": [],
   "source": [
    "# download the mnist dataset\n",
    "dataset = MNIST(root = 'data/', train = True, transform = transforms.ToTensor(), download = True)\n",
    "test_dataset = MNIST(root = 'data/', train = False, transform = transforms.ToTensor())\n",
    "\n",
    "# splitting the dataset into validation and training for cross validation\n",
    "train_ds, test_ds = random_split(dataset, [57000, 3000])"
   ]
  },
  {
   "cell_type": "code",
   "execution_count": 95,
   "metadata": {},
   "outputs": [
    {
     "name": "stdout",
     "output_type": "stream",
     "text": [
      "torch.Size([28000, 784])\n"
     ]
    }
   ],
   "source": [
    "# getting the kaggle testdataset\n",
    "test_kaggle = pd.read_csv(\"test.csv\")\n",
    "\n",
    "# converting it to a pytorch tensor,\n",
    "test_kag = torch.tensor(test_kaggle.values, dtype = torch.float32)\n",
    "print(test_kag.shape)"
   ]
  },
  {
   "cell_type": "code",
   "execution_count": 96,
   "metadata": {},
   "outputs": [],
   "source": [
    "# declaring the batch size\n",
    "batch_size = 200"
   ]
  },
  {
   "cell_type": "code",
   "execution_count": 97,
   "metadata": {},
   "outputs": [],
   "source": [
    "# defining the data loader for training and testing...\n",
    "train_loader = DataLoader(train_ds, batch_size, shuffle = True)\n",
    "validation_loader = DataLoader(test_ds, batch_size * 2)\n",
    "\n",
    "test_loader = DataLoader(test_dataset, batch_size * 2)\n",
    "\n",
    "# now that we have the kaggle dataset tensor, lets convert it to a data loader, we need to keep in mind that this has a different shape\n",
    "test_kaggle_loader = DataLoader(test_kag, batch_size * 2)"
   ]
  },
  {
   "cell_type": "code",
   "execution_count": 98,
   "metadata": {},
   "outputs": [
    {
     "name": "stdout",
     "output_type": "stream",
     "text": [
      "torch.Size([200, 1, 28, 28])\n"
     ]
    }
   ],
   "source": [
    "# we wanna get the output and input sizes\n",
    "out_size = 10 \n",
    "# number of digits is obviously 10\n",
    "\n",
    "for batch in train_loader:\n",
    "    for image in batch:\n",
    "        print(image.shape)\n",
    "        break\n",
    "    break"
   ]
  },
  {
   "cell_type": "code",
   "execution_count": 99,
   "metadata": {},
   "outputs": [
    {
     "name": "stdout",
     "output_type": "stream",
     "text": [
      "torch.Size([400, 784])\n"
     ]
    }
   ],
   "source": [
    "for batch in test_kaggle_loader:\n",
    "    print(batch.shape)\n",
    "    break"
   ]
  },
  {
   "cell_type": "code",
   "execution_count": 100,
   "metadata": {},
   "outputs": [],
   "source": [
    "# so we have 221 images in each batch and each image has one color channel and 28x28 pixels\n",
    "input_size = 28 * 28"
   ]
  },
  {
   "cell_type": "code",
   "execution_count": 101,
   "metadata": {},
   "outputs": [
    {
     "name": "stdout",
     "output_type": "stream",
     "text": [
      "Label: tensor(0)\n"
     ]
    },
    {
     "data": {
      "image/png": "[encoded data removed]",
      "text/plain": [
       "<Figure size 432x288 with 1 Axes>"
      ]
     },
     "metadata": {
      "needs_background": "light"
     },
     "output_type": "display_data"
    }
   ],
   "source": [
    "# lets look at one of the digit's gray scale image\n",
    "images,labels = train_ds[0]\n",
    "plt.imshow(images[0], cmap = \"gray\")\n",
    "print(\"Label:\", labels)"
   ]
  },
  {
   "cell_type": "markdown",
   "metadata": {},
   "source": [
    "# Vanilla Logistic Regression using Cross entropy as the loss function"
   ]
  },
  {
   "cell_type": "code",
   "execution_count": 102,
   "metadata": {},
   "outputs": [],
   "source": [
    "# creating the model...\n",
    "class MnistModel_LR(nn.Module):\n",
    "    \n",
    "    #initialising the initialiser/constructor\n",
    "    def __init__(self, input_size, out_size):\n",
    "        \n",
    "        # we construct a simple linear model to classify the digits with one layer...\n",
    "        super().__init__()\n",
    "        self.linear = nn.Linear(input_size, out_size)\n",
    "    \n",
    "    # forming the ff network\n",
    "    def forward(self, inputs):\n",
    "        inputs = inputs.reshape(-1, 784)\n",
    "        out = self.linear(inputs)\n",
    "        return out\n",
    "    \n",
    "    # training the model \n",
    "    def training_step(self, batch):\n",
    "        \n",
    "        images, labels = batch\n",
    "        out = self(images)\n",
    "        \n",
    "        # calculating the loss using the cross entropy func\n",
    "        loss = F.cross_entropy(out, labels)\n",
    "        \n",
    "        # returning the loss\n",
    "        return(loss)\n",
    "    \n",
    "    # validation step\n",
    "    def validation_step(self,batch):\n",
    "        \n",
    "        images, labels = batch\n",
    "        out = self(images)\n",
    "        \n",
    "        # getting the max prob label, i.e prediction\n",
    "        _, preds = torch.max(out, dim = 1)\n",
    "        \n",
    "        # finding the accuracy, total correct preds divided by total preds\n",
    "        acc = torch.tensor(torch.sum(preds == labels).item() / len(preds))\n",
    "        return(acc)\n",
    "    \n",
    "    # getting the results for the end of the epoch\n",
    "    def epoch_end(self, epoch, acc):\n",
    "        print(f\"Epoch:{epoch} , accuracy on test set : {acc}\")"
   ]
  },
  {
   "cell_type": "code",
   "execution_count": 103,
   "metadata": {},
   "outputs": [],
   "source": [
    "# lets define the evaluation and fit functions\n",
    "def evaluation(model, val_set):\n",
    "    \n",
    "    outputs = []\n",
    "    for batch in val_set:\n",
    "        outputs.append(model.validation_step(batch))\n",
    "        \n",
    "    accuracy_mean = torch.stack(outputs).mean()\n",
    "    return accuracy_mean\n",
    "\n",
    "# we use stochastic gradient descent to apply gradient descent in batch wise steps and optimise the losses and jumps\n",
    "def fit(model, l_r, epochs, train_set, test_set, opt = torch.optim.SGD):\n",
    "    \n",
    "    # we keep track of all epochs using history\n",
    "    history = []\n",
    "    optimiser = opt(model.parameters(), l_r)\n",
    "    \n",
    "    for epoch in range(epochs):\n",
    "        \n",
    "        # training phase\n",
    "        for batch in train_set:\n",
    "            # applying loss and gradient descent\n",
    "            loss = model.training_step(batch)\n",
    "            loss.backward()\n",
    "            optimiser.step()\n",
    "            optimiser.zero_grad()\n",
    "            \n",
    "        # validation phase\n",
    "        result = evaluation(model, test_set)\n",
    "        # prints out the accuracy on the test set\n",
    "        model.epoch_end(epoch, result)\n",
    "        history.append(result)\n",
    "        \n",
    "    return(history)"
   ]
  },
  {
   "cell_type": "code",
   "execution_count": 104,
   "metadata": {},
   "outputs": [],
   "source": [
    "model_lr = MnistModel_LR(input_size, out_size)"
   ]
  },
  {
   "cell_type": "markdown",
   "metadata": {},
   "source": [
    "## Training the LR model and getting the predictions"
   ]
  },
  {
   "cell_type": "code",
   "execution_count": 105,
   "metadata": {},
   "outputs": [
    {
     "name": "stdout",
     "output_type": "stream",
     "text": [
      "[tensor(0.1503)]\n"
     ]
    }
   ],
   "source": [
    "# evaluating using the random model with random weights\n",
    "history = [evaluation(model_lr, validation_loader)]\n",
    "print(history)"
   ]
  },
  {
   "cell_type": "code",
   "execution_count": 106,
   "metadata": {},
   "outputs": [
    {
     "name": "stdout",
     "output_type": "stream",
     "text": [
      "Epoch:0 , accuracy on test set : 0.8762499094009399\n",
      "Epoch:1 , accuracy on test set : 0.8881250619888306\n",
      "Epoch:2 , accuracy on test set : 0.893125057220459\n",
      "Epoch:3 , accuracy on test set : 0.8943749666213989\n",
      "Epoch:4 , accuracy on test set : 0.9003125429153442\n"
     ]
    }
   ],
   "source": [
    "# training the model using cross validation and with different learning rates...\n",
    "history = fit(model_lr, 0.1, 5, train_loader, validation_loader)"
   ]
  },
  {
   "cell_type": "code",
   "execution_count": 107,
   "metadata": {},
   "outputs": [
    {
     "name": "stdout",
     "output_type": "stream",
     "text": [
      "Epoch:0 , accuracy on test set : 0.8987500667572021\n",
      "Epoch:1 , accuracy on test set : 0.9012499451637268\n",
      "Epoch:2 , accuracy on test set : 0.903124988079071\n",
      "Epoch:3 , accuracy on test set : 0.9037500023841858\n",
      "Epoch:4 , accuracy on test set : 0.9028124213218689\n"
     ]
    }
   ],
   "source": [
    "history += fit(model_lr, 0.05, 5, train_loader, validation_loader)"
   ]
  },
  {
   "cell_type": "code",
   "execution_count": 108,
   "metadata": {},
   "outputs": [
    {
     "name": "stdout",
     "output_type": "stream",
     "text": [
      "Epoch:0 , accuracy on test set : 0.9049999713897705\n",
      "Epoch:1 , accuracy on test set : 0.9043750166893005\n",
      "Epoch:2 , accuracy on test set : 0.9046874642372131\n",
      "Epoch:3 , accuracy on test set : 0.9040624499320984\n",
      "Epoch:4 , accuracy on test set : 0.9050000309944153\n"
     ]
    }
   ],
   "source": [
    "history += fit(model_lr, 0.01, 5, train_loader, validation_loader)"
   ]
  },
  {
   "cell_type": "code",
   "execution_count": 109,
   "metadata": {},
   "outputs": [
    {
     "name": "stdout",
     "output_type": "stream",
     "text": [
      "Epoch:0 , accuracy on test set : 0.9046874642372131\n",
      "Epoch:1 , accuracy on test set : 0.9050000309944153\n",
      "Epoch:2 , accuracy on test set : 0.9050000309944153\n",
      "Epoch:3 , accuracy on test set : 0.9053124785423279\n",
      "Epoch:4 , accuracy on test set : 0.9053124785423279\n"
     ]
    }
   ],
   "source": [
    "history += fit(model_lr, 0.005, 5, train_loader, validation_loader)"
   ]
  },
  {
   "cell_type": "code",
   "execution_count": 110,
   "metadata": {},
   "outputs": [
    {
     "name": "stdout",
     "output_type": "stream",
     "text": [
      "Epoch:0 , accuracy on test set : 0.9053124785423279\n",
      "Epoch:1 , accuracy on test set : 0.9053124785423279\n",
      "Epoch:2 , accuracy on test set : 0.9053124785423279\n",
      "Epoch:3 , accuracy on test set : 0.9053124785423279\n",
      "Epoch:4 , accuracy on test set : 0.9053124785423279\n"
     ]
    }
   ],
   "source": [
    "history += fit(model_lr, 0.001, 5, train_loader, validation_loader)"
   ]
  },
  {
   "cell_type": "code",
   "execution_count": 111,
   "metadata": {},
   "outputs": [
    {
     "data": {
      "text/plain": [
       "tensor(0.9177)"
      ]
     },
     "execution_count": 111,
     "metadata": {},
     "output_type": "execute_result"
    }
   ],
   "source": [
    "# getting the accuracy of our model on the test dataset(not kaggle)\n",
    "preds = evaluation(model_lr, test_loader)\n",
    "preds"
   ]
  },
  {
   "cell_type": "code",
   "execution_count": 112,
   "metadata": {},
   "outputs": [],
   "source": [
    "# defining a function to find out the predicted digit\n",
    "def predict(image, model):\n",
    "    \n",
    "    # reshaping the image size\n",
    "    xb = image.unsqueeze(0)\n",
    "    \n",
    "    # getting the probability prediction\n",
    "    yb = model(xb)\n",
    "    \n",
    "    # getting the maximum probability \n",
    "    _, preds  = torch.max(yb, dim = 1)\n",
    "    \n",
    "    # now returning the digit corresponding to the maximum probability\n",
    "    return preds[0].item()"
   ]
  },
  {
   "cell_type": "code",
   "execution_count": 113,
   "metadata": {},
   "outputs": [
    {
     "name": "stdout",
     "output_type": "stream",
     "text": [
      "torch.Size([1, 784])\n"
     ]
    }
   ],
   "source": [
    "# checking the size of the tensor\n",
    "img = test_kag[0]\n",
    "xb = img.unsqueeze(0)\n",
    "print(xb.shape)"
   ]
  },
  {
   "cell_type": "code",
   "execution_count": 114,
   "metadata": {},
   "outputs": [
    {
     "name": "stdout",
     "output_type": "stream",
     "text": [
      "Label: tensor(7) , Predicted: 7\n"
     ]
    },
    {
     "data": {
      "image/png": "[encoded data removed]",
      "text/plain": [
       "<Figure size 432x288 with 1 Axes>"
      ]
     },
     "metadata": {
      "needs_background": "light"
     },
     "output_type": "display_data"
    }
   ],
   "source": [
    "img, label = test_dataset[0]\n",
    "plt.imshow(img[0], cmap='gray')\n",
    "print('Label:', label, ', Predicted:', predict(img, model_lr))"
   ]
  },
  {
   "cell_type": "code",
   "execution_count": 115,
   "metadata": {},
   "outputs": [],
   "source": [
    "# storing the predictions in a list\n",
    "labels = []\n",
    "\n",
    "for i in range(len(test_kag)):\n",
    "    image = test_kag[i]\n",
    "    labels.append(predict(image, model_lr))"
   ]
  },
  {
   "cell_type": "code",
   "execution_count": 116,
   "metadata": {},
   "outputs": [
    {
     "name": "stdout",
     "output_type": "stream",
     "text": [
      "[2, 0, 9, 9, 3, 7, 0, 3, 0, 3, 5, 7, 4, 0, 4, 3, 3, 1, 9, 0, 9, 1, 8, 5, 7, 4, 2, 7, 7, 7, 7, 5, 4, 2, 6, 2, 9, 5, 1, 6, 7, 7, 4, 9, 8, 7, 8, 8, 6, 1, 6, 8, 8, 3, 8, 2, 1, 2, 2, 5, 4, 1, 7, 0, 0, 0, 1, 9, 0, 1, 6, 5, 8, 8, 2, 8, 3, 9, 2, 3, 5, 9, 1, 0, 9, 2, 4, 3, 6, 7, 2, 0, 6, 6, 8, 4, 3, 9, 7, 4, 0, 8, 2, 0, 7, 3, 0, 5, 0, 3, 0, 0, 4, 7, 1, 7, 1, 1, 8, 3, 3, 7, 2, 8, 6, 3, 8, 7, 8, 4, 3, 5, 6, 0, 0, 0, 3, 1, 3, 0, 4, 3, 4, 5, 5, 8, 7, 7, 2, 8, 4, 3, 5, 6, 5, 8, 7, 5, 7, 8, 3, 0, 4, 5, 1, 8, 7, 6, 3, 0, 2, 7, 8, 6, 1, 3, 7, 4, 1, 2, 4, 3, 8, 2, 4, 9, 2, 1, 6, 0, 6, 1, 4, 9, 6, 0, 9, 7, 6, 9, 1, 9, 0, 8, 9, 0, 8, 4, 6, 2, 0, 9, 3, 6, 8, 2, 1, 6, 3, 4, 2, 3, 1, 3, 2, 8, 4, 6, 1, 0, 0, 4, 9, 1, 7, 3, 2, 8, 8, 6, 8, 6, 2, 8, 5, 5, 4, 8, 3, 8, 9, 7, 1, 3, 8, 4, 8, 1, 4, 3, 6, 3, 8, 5, 7, 0, 6, 8, 6, 1, 6, 0, 6, 3, 9, 8, 1, 5, 8, 4, 0, 9, 2, 0, 5, 3, 7, 8, 9, 9, 5, 7, 7, 9, 9, 6, 3, 0, 3, 3, 6, 9, 8, 2, 6, 3, 7, 1, 4, 5, 8, 5, 9, 0, 0, 3, 8, 4, 1, 8, 4, 1, 1, 9, 8, 4, 5, 1, 8, 3, 6, 3, 1, 3, 0, 9, 0, 0, 6, 0, 6, 7, 1, 8, 6, 0, 6, 5, 2, 8, 6, 7, 7, 2, 5, 8, 8, 9, 2, 9, 8, 6, 3, 8, 9, 2, 3, 8, 1, 6, 4, 8, 9, 9, 7, 6, 9, 5, 3, 7, 6, 5, 5, 9, 2, 6, 2, 1, 3, 7, 1, 7, 9, 9, 6, 1, 1, 1, 7, 3, 9, 7, 6, 1, 1, 1, 9, 3, 8, 8, 5, 0, 4, 1, 2, 3, 1, 1, 3, 5, 9, 6, 6, 8, 3, 1, 4, 7, 4, 7, 4, 8, 5, 2, 8, 1, 3, 9, 5, 0, 8, 4, 7, 4, 9, 4, 1, 5, 3, 9, 8, 7, 6, 9, 5, 9, 2, 3, 3, 8, 6, 7, 5, 0, 5, 1, 7, 4, 4, 1, 1, 4, 9, 5, 6, 0, 1, 3, 1, 0, 4, 8, 1, 2, 9, 9, 4, 8, 3, 7, 0, 4, 3, 4, 2, 7, 8, 3, 2, 0, 6, 5, 4, 4, 1, 8, 3, 3, 0, 6, 7, 8, 8, 7, 8, 3, 1, 7, 4, 3, 2, 9, 0, 7, 7, 1, 0, 1, 1, 7, 0, 5, 3, 8, 8, 5, 6, 5, 7, 3, 0, 2, 8, 2, 0, 3, 0, 9, 2, 1, 1, 3, 0, 5, 0, 0, 7, 5, 6, 2, 0, 3, 8, 1, 6, 5, 4, 1, 1, 4, 6, 5, 3, 6, 0, 4, 8, 2, 4, 2, 5, 1, 2, 6, 9, 1, 7, 3, 8, 0, 8, 8, 8, 5, 3, 6, 6, 6, 0, 3, 8, 1, 7, 1, 6, 2, 8, 5, 6, 4, 7, 4, 3, 3, 2, 4, 7, 0, 0, 9, 8, 8, 9, 4, 0, 8, 1, 3, 6, 7, 6, 1, 8, 6, 1, 4, 7, 7, 8, 3, 0, 4, 9, 6, 0, 7, 4, 4, 1, 8, 4, 8, 0, 0, 8, 2, 4, 3, 3, 7, 2, 3, 4, 0, 4, 8, 1, 3, 3, 6, 3, 9, 4, 3, 8, 7, 7, 8, 6, 0, 6, 9, 8, 1, 1, 3, 4, 6, 9, 9, 2, 6, 0, 1, 8, 4, 3, 9, 8, 8, 4, 0, 8, 0, 6, 0, 9, 4, 6, 5, 5, 8, 1, 5, 7, 6, 2, 3, 7, 8, 9, 3, 1, 0, 1, 0, 6, 4, 7, 0, 7, 1, 3, 2, 7, 7, 1, 5, 1, 5, 4, 4, 3, 4, 3, 9, 0, 7, 8, 6, 4, 9, 4, 4, 1, 4, 7, 1, 1, 8, 7, 0, 4, 0, 4, 0, 0, 8, 1, 8, 6, 5, 0, 1, 5, 3, 4, 6, 3, 1, 1, 6, 9, 8, 3, 5, 3, 4, 8, 8, 5, 0, 4, 0, 4, 3, 1, 6, 9, 7, 1, 1, 3, 3, 1, 4, 9, 6, 9, 1, 5, 4, 7, 3, 4, 4, 0, 9, 7, 4, 3, 0, 5, 0, 1, 9, 0, 4, 8, 2, 8, 8, 5, 9, 3, 9, 6, 1, 5, 6, 1, 9, 0, 8, 4, 6, 7, 2, 8, 5, 8, 9, 7, 7, 2, 8, 1, 3, 4, 8, 0, 4, 1, 4, 2, 3, 6, 9, 2, 3, 4, 5, 4, 2, 3, 8, 1, 1, 0, 1, 4, 9, 1, 1, 2, 7, 1, 5, 4, 9, 1, 7, 6, 0, 4, 2, 9, 4, 1, 1, 5, 3, 5, 7, 9, 7, 8, 3, 2, 7, 2, 0, 4, 7, 1, 8, 4, 6, 1, 8, 7, 3, 5, 9, 4, 7, 9, 6, 6, 3, 3, 2, 1, 4, 8, 3, 7, 7, 9, 5, 6, 2, 6, 1, 0, 9, 3, 2, 9, 2, 6, 7, 5, 2, 3, 2, 8, 3, 0, 2, 7, 9, 4, 0, 0, 3, 1, 8, 8, 5, 3, 2, 9, 6, 7, 0, 8, 0, 7, 4, 3, 8, 7, 9, 7, 7, 0, 5, 3, 2, 1, 9, 0, 6, 8, 3, 6, 2, 2, 9, 0, 7, 0, 7, 1, 3, 4, 6, 3, 9, 2, 6, 3, 7, 3, 7, 2, 3, 4, 8, 4, 9, 9, 6, 2, 6, 1, 5, 5, 1, 9, 1, 8, 9, 4, 8, 3, 5, 2, 0, 1, 6, 1, 9, 2, 2, 7, 7, 2, 6, 2, 6, 3, 3, 9, 1, 1, 3, 6, 5, 0, 0, 6, 0, 9, 4, 7, 0, 5, 9, 8, 8, 7, 6, 9, 2, 6, 1, 2, 9, 3, 0, 2, 3, 7, 7, 6, 6, 3, 1, 3, 1, 0, 1, 7, 6, 8, 3, 3, 3, 4, 2, 9, 1, 8, 2, 0, 6, 4, 6, 7, 2, 4, 1, 0, 5, 2, 6, 1, 9, 8, 5, 4, 1, 6, 3, 8, 6, 1, 2, 0, 8, 8, 0, 3, 6, 8, 7, 7, 7, 6, 0, 2, 1, 2, 8, 4, 8, 5, 3, 8, 7, 8, 4, 4, 4, 4, 1, 8, 0, 9, 1, 9, 0, 6, 4, 8, 2, 4, 5, 8, 2, 9, 1, 8, 8, 2, 7, 2, 5, 3, 8, 9, 9, 0, 7, 0, 3, 0, 9, 7, 3, 3, 8, 8, 9, 3, 2, 5, 4, 4, 8, 3, 0, 1, 7, 9, 6, 4, 0, 4, 2, 8, 4, 5, 9, 6, 7, 8, 2, 0, 0, 5, 0, 5, 9, 9, 9, 7, 5, 4, 3, 0, 5, 4, 1, 9, 8, 4, 9, 9, 4, 7, 8, 3, 4, 7, 9, 3, 8, 6, 6, 0, 8, 5, 8, 7, 6, 5, 3, 1, 9, 4, 2, 2, 6, 9, 9, 8, 1, 1, 0, 1, 0, 0, 4, 0, 2, 7, 6, 1, 4, 7, 0, 7, 1, 0, 3, 3, 1, 9, 8, 4, 6, 5, 9, 8, 6, 8, 6, 6, 6, 1, 1, 4, 0, 7, 8, 0, 4, 6, 7, 9, 5, 9, 6, 2, 4, 7, 5, 9, 8, 5, 1, 8, 0, 9, 6, 8, 1, 3, 0, 3, 1, 9, 1, 4, 5, 8, 2, 2, 9, 1, 3, 3, 0, 0, 6, 1, 8, 3, 6, 7, 2, 3, 2, 9, 8, 1, 5, 9, 8, 7, 3, 8, 4, 0, 8, 2, 1, 6, 7, 6, 1, 1, 0, 5, 0, 9, 1, 7, 4, 0, 9, 7, 5, 9, 8, 8, 7, 8, 4, 3, 7, 9, 4, 9, 2, 7, 4, 1, 5, 8, 2, 8, 5, 9, 8, 4, 5, 9, 1, 8, 1, 9, 3, 7, 8, 1, 7, 9, 2, 5, 6, 8, 8, 5, 0, 8, 8, 4, 7, 1, 9, 6, 8, 9, 4, 9, 9, 6, 3, 2, 7, 4, 8, 0, 4, 9, 0, 8, 8, 7, 0, 9, 0, 8, 7, 0, 8, 5, 5, 3, 6, 2, 5, 3, 1, 7, 3, 1, 0, 6, 5, 9, 3, 2, 9, 4, 8, 8, 8, 6, 4, 4, 0, 7, 8, 9, 6, 7, 3, 8, 9, 2, 0, 8, 6, 0, 3, 0, 1, 8, 3, 8, 6, 0, 1, 3, 0, 7, 3, 6, 9, 2, 3, 1, 7, 7, 9, 5, 9, 9, 1, 1, 5, 8, 3, 2, 5, 4, 1, 8, 4, 0, 7, 0, 1, 0, 0, 7, 1, 3, 5, 5, 9, 9, 7, 4, 4, 6, 8, 1, 9, 2, 7, 4, 8, 5, 0, 8, 9, 8, 7, 5, 0, 1, 7, 9, 6, 3, 0, 8, 7, 4, 2, 6, 1, 7, 2, 3, 8, 8, 1, 4, 6, 2, 4, 8, 2, 3, 6, 3, 8, 2, 9, 1, 8, 2, 8, 8, 7, 7, 6, 2, 0, 3, 2, 8, 1, 5, 4, 3, 3, 1, 9, 3, 2, 1, 1, 8, 6, 8, 9, 4, 4, 9, 6, 6, 7, 3, 9, 6, 6, 1, 0, 7, 8, 8, 8, 3, 7, 7, 7, 1, 4, 6, 1, 0, 0, 8, 7, 9, 8, 8, 9, 8, 2, 4, 8, 1, 3, 6, 1, 3, 3, 6, 6, 5, 8, 8, 3, 4, 5, 9, 8, 2, 0, 1, 3, 3, 5, 6, 5, 3, 6, 1, 3, 3, 7, 1, 5, 6, 6, 1, 7, 4, 5, 9, 2, 2, 8, 0, 7, 8, 3, 2, 8, 0, 7, 7, 1, 5, 4, 4, 9, 7, 0, 3, 1, 5, 3, 2, 2, 4, 2, 1, 6, 6, 9, 3, 4, 1, 9, 4, 0, 3, 8, 1, 0, 0, 5, 3, 9, 4, 9, 1, 0, 0, 5, 7, 1, 6, 8, 3, 7, 0, 3, 8, 2, 8, 6, 7, 9, 1, 8, 4, 5, 3, 1, 3, 2, 2, 5, 3, 8, 8, 2, 7, 4, 1, 5, 7, 0, 6, 6, 2, 3, 2, 2, 9, 1, 9, 6, 9, 2, 2, 6, 0, 4, 0, 0, 0, 0, 3, 0, 4, 3, 6, 7, 8, 6, 0, 5, 1, 8, 5, 6, 0, 2, 7, 6, 1, 3, 9, 9, 3, 0, 3, 5, 9, 6, 8, 3, 1, 0, 0, 9, 0, 6, 6, 2, 4, 3, 0, 2, 7, 1, 5, 8, 8, 8, 8, 4, 7, 4, 3, 6, 5, 7, 3, 1, 6, 7, 1, 3, 1, 8, 8, 1, 5, 2, 2, 6, 9, 0, 2, 1, 2, 7, 4, 9, 8, 3, 0, 4, 3, 1, 9, 6, 9, 7, 6, 5, 0, 8, 1, 3, 8, 4, 0, 0, 0, 3, 7, 9, 8, 5, 9, 8, 1, 5, 0, 9, 1, 7, 9, 0, 8, 9, 0, 6, 9, 2, 4, 2, 1, 9, 4, 4, 8, 8, 6, 5, 6, 1, 3, 0, 9, 3, 9, 7, 0, 7, 6, 8, 8, 6, 6, 0, 7, 4, 5, 8, 7, 7, 8, 0, 8, 8, 5, 3, 6, 8, 3, 6, 1, 9, 8, 0, 9, 4, 9, 5, 8, 4, 6, 9, 3, 0, 9, 4, 6, 4, 0, 2, 0, 1, 7, 5, 9, 8, 7, 8, 6, 2, 0, 0, 3, 7, 8, 6, 1, 6, 7, 2, 9, 9, 7, 1, 1, 4, 1, 6, 6, 7, 0, 8, 4, 7, 0, 9, 4, 6, 2, 4, 8, 3, 2, 9, 6, 5, 2, 8, 8, 5, 6, 9, 2, 2, 7, 9, 3, 4, 9, 2, 8, 0, 2, 4, 0, 9, 4, 5, 8, 8, 9, 3, 3, 5, 9, 0, 7, 0, 5, 7, 1, 9, 1, 9, 9, 4, 6, 4, 6, 8, 9, 0, 0, 8, 8, 1, 6, 8, 2, 2, 0, 8, 5, 5, 7, 3, 3, 8, 8, 6, 2, 3, 4, 3, 7, 7, 9, 2, 6, 6, 9, 5, 8, 0, 6, 7, 6, 2, 2, 4, 0, 6, 2, 1, 9, 2, 5, 7, 5, 6, 2, 0, 6, 8, 2, 4, 4, 4, 7, 6, 8, 1, 4, 6, 6, 1, 8, 2, 0, 3, 0, 1, 1, 4, 7, 0, 3, 6, 5, 0, 5, 3, 0, 8, 9, 1, 5, 7, 3, 3, 6, 1, 6, 2, 9, 5, 2, 0, 7, 4, 0, 2, 7, 4, 4, 6, 0, 4, 6, 8, 9, 1, 7, 4, 7, 9, 4, 7, 4, 8, 5, 9, 5, 5, 1, 9, 3, 6, 4, 0, 2, 6, 8, 8, 0, 4, 2, 1, 2, 6, 7, 3, 7, 7, 1, 5, 5, 4, 0, 1, 4, 2, 1, 1, 4, 2, 2, 1, 1, 7, 9, 4, 8, 0, 8, 9, 3, 8, 9, 4, 6, 3, 3, 3, 9, 0, 3, 6, 9, 1, 4, 6, 0, 6, 0, 5, 0, 0, 1, 8, 0, 8, 2, 0, 1, 5, 3, 4, 9, 7, 6, 8, 8, 7, 9, 0, 3, 2, 6, 0, 6, 2, 9, 6, 5, 4, 2, 1, 4, 3, 6, 2, 8, 7, 2, 2, 0, 3, 4, 5, 3, 3, 1, 6, 4, 5, 9, 7, 0, 1, 2, 0, 3, 2, 6, 4, 2, 5, 9, 3, 4, 6, 3, 5, 8, 2, 8, 9, 8, 7, 3, 8, 9, 9, 4, 6, 7, 3, 6, 9, 9, 6, 6, 6, 9, 4, 9, 9, 4, 1, 7, 2, 8, 8, 0, 5, 6, 7, 1, 8, 0, 8, 0, 3, 2, 2, 4, 2, 1, 1, 6, 7, 6, 7, 5, 3, 6, 6, 3, 4, 8, 7, 8, 8, 9, 0, 0, 7, 7, 1, 6, 0, 8, 9, 9, 8, 6, 1, 7, 0, 1, 0, 5, 9, 9, 0, 1, 9, 0, 9, 8, 4, 2, 2, 3, 5, 0, 0, 5, 9, 8, 3, 4, 2, 5, 0, 0, 3, 2, 3, 8, 9, 0, 1, 8, 5, 9, 8, 2, 3, 3, 4, 4, 1, 0, 8, 3, 5, 5, 6, 9, 1, 9, 8, 7, 0, 3, 3, 8, 7, 0, 3, 3, 9, 7, 3, 1, 9, 6, 3, 3, 4, 0, 2, 1, 3, 9, 5, 1, 7, 9, 7, 9, 6, 1, 5, 6, 6, 9, 0, 4, 2, 2, 4, 3, 7, 6, 4, 1, 4, 2, 4, 1, 0, 2, 2, 1, 0, 2, 7, 2, 6, 9, 2, 0, 2, 0, 0, 5, 0, 3, 3, 0, 6, 6, 4, 1, 5, 9, 2, 4, 8, 4, 1, 1, 3, 0, 1, 1, 5, 0, 2, 9, 7, 3, 6, 8, 7, 8, 8, 7, 2, 6, 9, 4, 5, 7, 1, 3, 6, 0, 9, 9, 4, 6, 8, 6, 4, 1, 0, 3, 3, 0, 1, 8, 9, 3, 8, 7, 7, 3, 4, 6, 2, 9, 3, 0, 7, 2, 8, 8, 2, 4, 0, 0, 9, 8, 3, 9, 9, 0, 1, 6, 7, 7, 8, 4, 6, 8, 9, 6, 8, 3, 3, 3, 2, 8, 6, 4, 1, 9, 9, 6, 6, 6, 4, 8, 9, 4, 9, 4, 2, 2, 5, 1, 6, 2, 8, 7, 2, 8, 4, 7, 4, 1, 0, 1, 9, 0, 7, 4, 9, 0, 9, 2, 4, 0, 8, 6, 7, 4, 9, 7, 0, 2, 8, 8, 8, 4, 2, 4, 3, 2, 6, 6, 8, 8, 4, 7, 4, 1, 4, 8, 3, 2, 5, 4, 0, 9, 0, 1, 6, 9, 7, 7, 3, 9, 5, 3, 1, 9, 2, 6, 7, 7, 1, 0, 5, 1, 6, 8, 8, 6, 7, 3, 7, 2, 8, 8, 5, 0, 5, 1, 6, 6, 4, 9, 8, 1, 6, 9, 8, 5, 3, 7, 7, 8, 3, 4, 7, 0, 4, 0, 3, 4, 3, 1, 9, 6, 3, 0, 0, 2, 8, 9, 8, 1, 1, 8, 1, 3, 2, 3, 1, 0, 5, 8, 5, 0, 7, 8, 0, 6, 1, 8, 1, 1, 8, 2, 2, 6, 1, 7, 9, 7, 6, 7, 5, 1, 2, 6, 3, 7, 6, 4, 4, 4, 0, 8, 2, 0, 8, 6, 4, 8, 1, 9, 2, 9, 5, 1, 8, 1, 1, 4, 1, 0, 1, 2, 4, 6, 1, 4, 2, 9, 2, 9, 2, 6, 6, 5, 5, 5, 8, 8, 6, 1, 1, 6, 8, 2, 1, 9, 4, 7, 8, 7, 1, 0, 6, 4, 6, 5, 3, 3, 4, 0, 8, 1, 6, 0, 8, 1, 2, 1, 6, 4, 3, 9, 0, 4, 0, 3, 1, 4, 9, 2, 1, 7, 0, 9, 6, 8, 8, 8, 6, 0, 8, 7, 9, 9, 3, 1, 3, 4, 3, 1, 1, 2, 0, 0, 7, 7, 8, 1, 6, 0, 6, 7, 4, 3, 6, 9, 2, 2, 8, 9, 9, 4, 2, 7, 7, 2, 8, 1, 7, 7, 3, 7, 8, 4, 2, 5, 6, 1, 9, 7, 7, 7, 8, 9, 9, 7, 8, 9, 5, 2, 4, 5, 0, 7, 6, 1, 6, 5, 2, 7, 3, 5, 6, 9, 8, 8, 8, 2, 2, 9, 7, 9, 5, 1, 1, 1, 4, 5, 6, 1, 7, 0, 7, 9, 2, 7, 2, 3, 1, 5, 7, 1, 5, 1, 6, 0, 2, 6, 9, 9, 7, 9, 3, 7, 7, 7, 5, 6, 2, 9, 8, 8, 4, 7, 3, 1, 3, 4, 8, 2, 0, 2, 6, 8, 1, 0, 9, 9, 1, 6, 8, 8, 6, 6, 2, 3, 6, 1, 6, 6, 2, 0, 6, 0, 8, 2, 2, 8, 6, 4, 8, 5, 0, 4, 0, 0, 9, 7, 9, 2, 9, 2, 8, 5, 3, 8, 0, 7, 9, 5, 7, 3, 0, 2, 8, 0, 6, 4, 6, 9, 9, 8, 9, 2, 2, 3, 3, 7, 4, 5, 8, 5, 8, 6, 0, 5, 1, 2, 6, 8, 5, 5, 2, 9, 9, 1, 9, 3, 6, 8, 8, 2, 5, 8, 3, 9, 1, 6, 9, 6, 7, 5, 8, 8, 6, 8, 6, 7, 5, 1, 7, 8, 9, 3, 8, 8, 3, 9, 4, 8, 7, 6, 0, 5, 3, 0, 9, 9, 6, 8, 7, 9, 1, 2, 3, 2, 1, 5, 2, 9, 4, 4, 9, 3, 0, 0, 3, 1, 3, 1, 1, 3, 8, 6, 2, 7, 6, 0, 4, 4, 7, 0, 7, 0, 8, 7, 1, 3, 0, 8, 9, 0, 9, 0, 0, 1, 8, 8, 7, 4, 8, 3, 5, 9, 0, 3, 6, 3, 6, 5, 0, 4, 2, 6, 9, 3, 0, 9, 4, 5, 7, 7, 4, 2, 3, 9, 2, 8, 8, 0, 1, 9, 4, 2, 2, 1, 3, 2, 7, 3, 5, 1, 3, 0, 2, 1, 1, 7, 9, 1, 8, 9, 7, 8, 9, 7, 1, 8, 9, 9, 2, 0, 6, 1, 5, 2, 0, 9, 2, 5, 5, 3, 4, 0, 9, 0, 9, 4, 0, 4, 3, 7, 8, 0, 4, 0, 2, 6, 8, 2, 1, 9, 2, 8, 8, 5, 6, 1, 4, 8, 6, 2, 1, 3, 9, 8, 3, 7, 8, 7, 8, 2, 1, 5, 6, 4, 7, 5, 5, 4, 0, 8, 1, 6, 6, 3, 3, 7, 8, 8, 4, 3, 4, 3, 2, 1, 7, 0, 9, 4, 2, 8, 6, 8, 5, 2, 8, 4, 8, 1, 4, 3, 7, 1, 2, 1, 5, 3, 4, 7, 2, 4, 7, 6, 9, 1, 9, 8, 6, 8, 2, 6, 2, 0, 1, 1, 0, 6, 3, 9, 7, 3, 1, 9, 4, 4, 9, 7, 2, 7, 8, 1, 3, 5, 1, 2, 7, 6, 6, 3, 0, 4, 8, 9, 6, 3, 9, 1, 2, 4, 1, 3, 4, 0, 1, 8, 0, 2, 9, 2, 9, 7, 9, 1, 4, 7, 3, 3, 9, 9, 1, 3, 7, 8, 4, 9, 7, 9, 7, 1, 4, 4, 0, 0, 0, 3, 0, 8, 3, 0, 4, 1, 2, 8, 1, 0, 8, 8, 3, 4, 6, 9, 3, 2, 7, 2, 6, 8, 1, 0, 1, 8, 1, 3, 7, 4, 9, 1, 3, 5, 0, 3, 5, 4, 8, 6, 1, 9, 9, 6, 6, 6, 1, 9, 0, 3, 9, 8, 4, 8, 3, 6, 8, 9, 9, 3, 1, 8, 0, 2, 0, 8, 9, 5, 8, 0, 1, 8, 7, 2, 8, 1, 8, 3, 3, 7, 8, 6, 9, 9, 8, 7, 4, 6, 4, 9, 6, 0, 0, 4, 3, 8, 7, 1, 2, 1, 9, 2, 1, 3, 1, 9, 1, 8, 8, 8, 7, 9, 3, 8, 3, 6, 1, 7, 8, 2, 2, 6, 3, 7, 0, 5, 2, 7, 9, 6, 8, 6, 0, 9, 5, 9, 8, 1, 9, 5, 0, 7, 6, 2, 5, 5, 6, 6, 0, 4, 3, 8, 4, 3, 5, 0, 2, 6, 6, 0, 2, 6, 0, 6, 0, 5, 3, 6, 1, 9, 3, 8, 4, 8, 3, 8, 5, 4, 6, 0, 6, 1, 2, 0, 3, 5, 5, 0, 4, 1, 1, 3, 3, 9, 3, 3, 6, 4, 9, 0, 6, 9, 7, 9, 8, 5, 0, 9, 1, 4, 6, 8, 6, 8, 4, 9, 7, 1, 6, 8, 6, 7, 9, 4, 9, 6, 7, 7, 9, 1, 6, 6, 8, 0, 6, 3, 9, 7, 6, 7, 0, 1, 6, 5, 4, 5, 6, 2, 3, 3, 9, 5, 8, 3, 8, 6, 9, 2, 0, 6, 2, 7, 6, 0, 0, 3, 8, 1, 2, 9, 3, 0, 6, 1, 2, 9, 8, 6, 5, 1, 3, 6, 7, 1, 5, 1, 8, 1, 7, 3, 7, 8, 5, 2, 4, 9, 6, 8, 6, 6, 0, 8, 1, 7, 7, 1, 9, 0, 1, 4, 9, 8, 7, 3, 1, 6, 2, 2, 7, 2, 4, 1, 5, 6, 1, 5, 3, 2, 6, 9, 1, 7, 4, 8, 6, 5, 6, 3, 8, 1, 3, 8, 9, 6, 7, 1, 3, 3, 7, 7, 1, 8, 0, 6, 3, 9, 3, 3, 6, 8, 2, 0, 1, 0, 1, 1, 3, 8, 2, 9, 0, 3, 8, 1, 0, 8, 9, 8, 3, 3, 1, 3, 6, 0, 2, 7, 2, 9, 8, 5, 7, 1, 7, 4, 3, 9, 4, 4, 3, 2, 0, 0, 0, 3, 1, 1, 4, 3, 9, 2, 8, 2, 8, 4, 9, 4, 8, 4, 9, 1, 0, 7, 1, 2, 1, 6, 2, 4, 0, 4, 6, 0, 5, 1, 4, 2, 6, 2, 7, 7, 3, 4, 3, 4, 0, 1, 4, 8, 6, 2, 1, 1, 7, 3, 2, 9, 8, 2, 5, 2, 1, 0, 2, 5, 0, 0, 0, 4, 2, 7, 3, 0, 2, 1, 9, 0, 8, 5, 3, 8, 2, 2, 0, 2, 7, 8, 4, 0, 3, 0, 2, 2, 8, 0, 9, 2, 3, 0, 2, 9, 4, 7, 1, 4, 2, 2, 1, 6, 7, 6, 2, 3, 3, 6, 7, 3, 9, 1, 2, 3, 5, 0, 1, 0, 9, 9, 9, 0, 8, 5, 1, 4, 3, 6, 4, 8, 1, 2, 2, 6, 4, 2, 9, 8, 2, 6, 1, 8, 3, 1, 7, 4, 6, 0, 1, 3, 8, 1, 4, 0, 3, 6, 6, 1, 6, 6, 3, 9, 1, 5, 6, 6, 1, 4, 0, 3, 6, 0, 8, 6, 8, 9, 4, 7, 7, 7, 8, 8, 7, 5, 2, 7, 8, 1, 1, 9, 5, 4, 1, 0, 1, 3, 2, 3, 6, 8, 3, 8, 2, 7, 1, 7, 7, 0, 0, 3, 0, 0, 2, 0, 0, 7, 1, 7, 8, 6, 5, 7, 1, 6, 6, 9, 4, 9, 1, 3, 4, 0, 4, 9, 2, 8, 6, 2, 7, 4, 7, 5, 0, 3, 7, 5, 6, 6, 9, 0, 3, 5, 2, 8, 9, 8, 2, 2, 9, 7, 1, 7, 7, 2, 7, 3, 2, 2, 8, 4, 0, 2, 2, 2, 1, 1, 2, 9, 2, 3, 8, 1, 6, 9, 9, 4, 3, 9, 7, 9, 0, 7, 3, 5, 2, 3, 0, 1, 9, 9, 7, 9, 2, 9, 4, 7, 0, 6, 5, 1, 9, 5, 9, 7, 2, 2, 3, 6, 3, 3, 8, 2, 8, 3, 1, 4, 7, 3, 8, 4, 3, 7, 4, 1, 9, 0, 4, 8, 0, 6, 5, 6, 5, 2, 0, 3, 3, 1, 5, 1, 4, 1, 1, 1, 1, 3, 7, 1, 0, 4, 2, 9, 3, 5, 9, 3, 5, 2, 0, 0, 8, 0, 4, 2, 4, 3, 8, 7, 9, 4, 0, 1, 4, 9, 4, 4, 3, 2, 0, 8, 4, 1, 0, 9, 3, 4, 9, 6, 9, 0, 6, 1, 1, 7, 4, 7, 8, 7, 3, 7, 0, 1, 8, 6, 2, 5, 4, 8, 9, 1, 0, 2, 8, 7, 8, 4, 4, 7, 6, 9, 4, 1, 9, 8, 8, 3, 4, 2, 4, 1, 8, 7, 8, 7, 4, 9, 4, 7, 3, 6, 9, 1, 3, 1, 0, 1, 8, 1, 6, 9, 3, 3, 6, 5, 5, 8, 1, 9, 2, 3, 7, 9, 9, 2, 9, 8, 3, 4, 5, 1, 8, 9, 6, 1, 3, 8, 2, 9, 6, 5, 3, 5, 4, 8, 0, 2, 6, 8, 9, 9, 0, 6, 6, 7, 5, 8, 2, 0, 9, 8, 0, 1, 9, 7, 2, 3, 3, 0, 4, 8, 3, 1, 3, 9, 0, 3, 8, 4, 9, 4, 6, 8, 9, 6, 9, 3, 8, 6, 4, 0, 4, 8, 6, 0, 0, 9, 1, 4, 2, 6, 6, 3, 8, 8, 8, 8, 2, 4, 2, 7, 6, 4, 7, 8, 6, 9, 8, 6, 1, 5, 4, 3, 9, 9, 3, 0, 8, 2, 9, 1, 6, 9, 1, 0, 1, 8, 7, 6, 8, 8, 4, 1, 7, 3, 9, 1, 1, 2, 3, 9, 0, 9, 2, 2, 4, 1, 7, 7, 7, 8, 3, 1, 1, 6, 2, 1, 0, 8, 7, 7, 5, 1, 1, 8, 6, 3, 6, 6, 9, 8, 1, 7, 4, 8, 1, 6, 7, 8, 0, 7, 6, 1, 6, 8, 1, 3, 9, 0, 7, 8, 3, 2, 7, 0, 8, 1, 4, 0, 8, 7, 0, 6, 5, 1, 7, 0, 1, 0, 6, 1, 4, 8, 6, 8, 9, 5, 1, 0, 2, 2, 0, 7, 8, 8, 5, 1, 8, 3, 7, 2, 8, 8, 4, 9, 1, 0, 3, 3, 5, 9, 2, 7, 6, 3, 3, 8, 0, 0, 9, 7, 5, 5, 0, 3, 8, 7, 2, 1, 0, 7, 1, 5, 7, 0, 2, 5, 4, 2, 6, 1, 3, 8, 1, 3, 6, 6, 8, 4, 2, 3, 0, 1, 4, 4, 1, 1, 8, 8, 7, 6, 7, 5, 1, 9, 2, 0, 9, 1, 4, 3, 9, 4, 6, 9, 8, 3, 0, 8, 4, 7, 0, 0, 8, 0, 4, 7, 0, 2, 2, 7, 9, 6, 9, 3, 6, 1, 1, 1, 4, 8, 7, 9, 6, 2, 2, 2, 8, 5, 7, 1, 1, 1, 2, 9, 1, 8, 1, 3, 2, 1, 0, 6, 4, 7, 6, 5, 9, 1, 2, 8, 8, 4, 4, 3, 7, 4, 4, 9, 2, 8, 8, 6, 1, 3, 4, 5, 6, 8, 7, 0, 0, 1, 5, 4, 8, 5, 7, 3, 2, 0, 9, 9, 4, 9, 5, 0, 3, 6, 3, 3, 1, 7, 4, 0, 0, 2, 7, 7, 8, 8, 7, 4, 5, 0, 1, 9, 7, 4, 5, 0, 9, 8, 6, 3, 3, 1, 6, 8, 8, 0, 9, 9, 1, 7, 3, 7, 4, 0, 3, 0, 4, 9, 9, 8, 8, 0, 9, 0, 1, 6, 8, 6, 0, 2, 5, 7, 0, 6, 9, 8, 4, 2, 5, 3, 6, 6, 8, 2, 5, 4, 3, 5, 2, 9, 5, 4, 1, 7, 2, 3, 8, 9, 9, 2, 4, 0, 8, 1, 9, 7, 8, 6, 6, 8, 3, 2, 6, 7, 0, 6, 0, 2, 2, 3, 0, 6, 3, 3, 4, 2, 1, 4, 3, 3, 0, 0, 3, 2, 4, 1, 5, 9, 2, 4, 0, 3, 8, 3, 9, 9, 1, 1, 0, 0, 9, 0, 8, 2, 0, 9, 8, 6, 2, 3, 2, 0, 6, 3, 8, 1, 9, 2, 0, 8, 2, 8, 9, 4, 3, 6, 0, 2, 0, 4, 5, 3, 4, 1, 2, 2, 4, 9, 4, 3, 2, 1, 9, 1, 6, 1, 0, 3, 4, 0, 1, 9, 4, 0, 0, 4, 8, 1, 9, 2, 3, 3, 4, 3, 7, 0, 7, 9, 7, 9, 5, 9, 7, 7, 0, 4, 2, 1, 7, 8, 8, 0, 4, 9, 8, 8, 2, 4, 1, 4, 1, 4, 1, 0, 9, 9, 5, 6, 4, 9, 1, 2, 6, 0, 3, 0, 3, 3, 0, 4, 0, 1, 0, 6, 4, 9, 3, 7, 1, 4, 1, 7, 6, 0, 7, 7, 1, 5, 0, 3, 6, 0, 2, 8, 8, 8, 5, 7, 7, 2, 9, 6, 7, 8, 8, 8, 7, 3, 1, 7, 3, 1, 8, 0, 1, 0, 4, 3, 2, 2, 9, 7, 9, 3, 6, 2, 3, 4, 1, 3, 0, 9, 9, 2, 6, 4, 0, 0, 7, 8, 1, 8, 3, 8, 1, 6, 5, 8, 9, 2, 2, 0, 7, 1, 6, 8, 1, 6, 8, 4, 3, 5, 9, 1, 2, 5, 3, 1, 9, 2, 8, 8, 6, 3, 6, 0, 8, 2, 5, 1, 3, 7, 4, 4, 4, 8, 0, 6, 3, 6, 0, 4, 3, 6, 1, 7, 6, 2, 7, 1, 7, 0, 6, 9, 6, 8, 1, 3, 6, 8, 1, 9, 8, 6, 6, 9, 8, 6, 8, 2, 4, 0, 6, 1, 8, 3, 1, 0, 0, 9, 9, 9, 8, 8, 4, 1, 6, 4, 9, 1, 8, 9, 2, 3, 4, 6, 1, 0, 1, 6, 7, 9, 0, 0, 8, 1, 4, 2, 5, 2, 8, 4, 6, 9, 7, 1, 8, 3, 5, 4, 9, 3, 3, 5, 3, 0, 0, 8, 9, 2, 4, 3, 7, 6, 5, 9, 6, 5, 0, 9, 1, 3, 8, 5, 7, 7, 0, 7, 7, 1, 5, 6, 7, 0, 4, 3, 0, 0, 0, 0, 7, 6, 8, 8, 6, 7, 1, 9, 1, 0, 2, 3, 5, 1, 8, 8, 8, 7, 6, 2, 6, 6, 8, 3, 8, 5, 1, 5, 2, 6, 5, 1, 5, 8, 3, 5, 5, 3, 2, 3, 8, 5, 8, 6, 7, 0, 3, 8, 8, 4, 2, 6, 4, 5, 8, 3, 0, 9, 1, 1, 3, 0, 9, 6, 7, 8, 6, 5, 3, 6, 2, 0, 2, 9, 1, 8, 9, 9, 0, 2, 5, 5, 6, 1, 4, 1, 3, 1, 8, 5, 0, 1, 9, 3, 9, 5, 0, 7, 9, 8, 3, 0, 1, 3, 3, 8, 1, 8, 3, 7, 0, 1, 6, 4, 8, 3, 0, 6, 0, 4, 8, 8, 2, 1, 5, 4, 0, 1, 4, 1, 7, 3, 9, 2, 9, 8, 2, 1, 7, 6, 6, 1, 5, 9, 8, 9, 0, 2, 3, 1, 7, 0, 1, 5, 2, 7, 3, 8, 6, 9, 3, 4, 0, 5, 1, 5, 9, 1, 0, 9, 4, 5, 4, 8, 7, 1, 8, 3, 2, 4, 1, 1, 8, 0, 8, 2, 8, 9, 0, 9, 7, 0, 9, 9, 2, 7, 6, 1, 7, 1, 6, 0, 2, 9, 9, 9, 7, 8, 0, 4, 0, 9, 3, 8, 9, 4, 2, 0, 3, 2, 0, 2, 9, 4, 8, 5, 5, 6, 9, 6, 8, 4, 7, 6, 7, 4, 9, 4, 2, 1, 0, 8, 1, 3, 6, 0, 1, 9, 3, 6, 5, 8, 0, 7, 1, 3, 6, 0, 3, 3, 4, 8, 4, 7, 9, 1, 2, 9, 6, 7, 4, 3, 9, 3, 9, 5, 0, 7, 9, 8, 2, 1, 8, 3, 2, 7, 8, 7, 1, 2, 8, 7, 4, 5, 0, 9, 4, 0, 0, 2, 3, 4, 2, 0, 7, 6, 3, 2, 7, 4, 1, 2, 7, 4, 4, 2, 8, 7, 5, 8, 0, 5, 7, 9, 7, 1, 3, 5, 4, 2, 4, 7, 9, 9, 6, 4, 5, 4, 9, 1, 9, 6, 5, 6, 2, 8, 6, 8, 8, 8, 9, 6, 8, 8, 6, 4, 0, 2, 6, 1, 3, 8, 9, 8, 7, 7, 7, 8, 0, 7, 9, 0, 3, 3, 7, 4, 6, 4, 7, 2, 9, 6, 4, 0, 9, 6, 8, 8, 4, 9, 4, 4, 3, 6, 9, 0, 4, 1, 8, 5, 7, 8, 6, 2, 8, 8, 7, 0, 5, 0, 7, 2, 3, 4, 7, 8, 1, 8, 8, 9, 8, 2, 5, 0, 5, 6, 4, 7, 4, 1, 1, 9, 1, 9, 9, 4, 8, 4, 3, 4, 6, 2, 0, 1, 8, 9, 6, 7, 4, 5, 7, 5, 3, 1, 6, 0, 3, 2, 4, 5, 1, 8, 1, 8, 8, 5, 8, 8, 8, 5, 8, 7, 0, 1, 8, 1, 9, 0, 9, 8, 2, 0, 7, 3, 1, 3, 4, 7, 8, 0, 1, 2, 9, 3, 1, 6, 2, 0, 8, 0, 1, 6, 1, 9, 7, 7, 8, 6, 8, 4, 0, 7, 1, 0, 1, 3, 9, 9, 0, 4, 4, 5, 1, 6, 9, 4, 6, 6, 6, 1, 1, 3, 5, 8, 2, 4, 8, 8, 9, 8, 1, 1, 1, 8, 3, 5, 6, 5, 2, 2, 8, 7, 9, 8, 1, 9, 9, 0, 6, 6, 2, 3, 8, 3, 0, 0, 5, 0, 9, 2, 1, 3, 3, 3, 8, 8, 9, 9, 7, 5, 6, 7, 8, 7, 2, 9, 1, 6, 3, 5, 0, 7, 7, 6, 5, 8, 8, 1, 3, 4, 5, 8, 7, 4, 2, 8, 0, 4, 5, 1, 9, 7, 4, 2, 8, 8, 8, 8, 6, 8, 7, 4, 9, 7, 4, 4, 2, 6, 9, 1, 9, 8, 0, 6, 8, 3, 3, 6, 4, 6, 6, 8, 1, 7, 4, 3, 7, 2, 8, 8, 8, 4, 6, 8, 0, 0, 1, 7, 8, 4, 9, 6, 0, 7, 3, 9, 9, 2, 9, 4, 2, 0, 5, 2, 6, 4, 1, 7, 3, 0, 4, 8, 1, 6, 1, 4, 9, 2, 1, 0, 3, 3, 9, 0, 9, 6, 6, 0, 2, 8, 3, 0, 5, 8, 8, 5, 3, 5, 0, 8, 0, 7, 3, 3, 2, 5, 1, 3, 6, 5, 4, 7, 8, 2, 9, 0, 8, 8, 0, 3, 0, 8, 0, 4, 1, 6, 7, 7, 8, 5, 0, 2, 6, 4, 6, 8, 8, 6, 6, 4, 9, 4, 3, 9, 6, 3, 1, 7, 6, 1, 4, 9, 0, 6, 6, 5, 2, 0, 3, 4, 3, 1, 8, 1, 3, 3, 0, 6, 6, 8, 6, 2, 3, 2, 4, 2, 0, 6, 0, 2, 1, 2, 6, 6, 1, 7, 7, 0, 2, 9, 4, 8, 5, 0, 7, 5, 8, 5, 6, 1, 7, 0, 6, 6, 5, 9, 3, 6, 4, 2, 1, 1, 7, 8, 5, 9, 3, 3, 7, 6, 1, 8, 2, 1, 2, 5, 7, 0, 5, 2, 6, 5, 8, 1, 0, 5, 5, 2, 4, 6, 3, 0, 9, 4, 9, 4, 7, 0, 0, 4, 0, 9, 2, 7, 1, 1, 2, 1, 1, 6, 3, 3, 5, 8, 1, 8, 2, 0, 3, 8, 4, 1, 6, 8, 5, 8, 4, 3, 5, 8, 6, 7, 1, 6, 1, 9, 8, 4, 3, 9, 3, 1, 7, 8, 8, 3, 1, 7, 8, 6, 5, 4, 6, 0, 9, 8, 0, 0, 0, 2, 6, 7, 8, 1, 0, 0, 0, 9, 3, 8, 0, 4, 5, 9, 4, 2, 3, 2, 7, 2, 0, 2, 6, 2, 2, 8, 8, 8, 5, 2, 2, 2, 6, 1, 0, 2, 2, 1, 4, 3, 4, 1, 9, 7, 0, 3, 6, 5, 1, 8, 4, 3, 3, 9, 0, 6, 6, 9, 8, 1, 0, 4, 8, 4, 8, 7, 9, 2, 2, 2, 1, 1, 4, 4, 7, 8, 6, 8, 6, 8, 5, 8, 1, 8, 2, 9, 1, 9, 7, 2, 4, 4, 4, 9, 9, 3, 0, 5, 5, 5, 5, 2, 7, 0, 0, 1, 3, 5, 3, 0, 0, 0, 3, 1, 4, 0, 2, 6, 9, 7, 6, 9, 6, 6, 2, 0, 2, 2, 4, 1, 9, 2, 7, 2, 5, 9, 4, 6, 2, 7, 6, 8, 9, 1, 8, 8, 0, 2, 4, 9, 8, 1, 7, 1, 9, 9, 2, 1, 4, 5, 2, 7, 6, 3, 0, 3, 0, 6, 6, 8, 0, 0, 3, 6, 8, 8, 0, 8, 6, 4, 8, 8, 1, 5, 0, 6, 6, 4, 6, 1, 6, 4, 3, 0, 7, 2, 5, 5, 7, 7, 5, 6, 9, 0, 1, 9, 2, 9, 1, 4, 4, 9, 7, 6, 2, 8, 0, 4, 1, 8, 2, 1, 3, 4, 1, 7, 7, 2, 4, 3, 8, 6, 3, 2, 2, 6, 3, 5, 7, 1, 1, 1, 7, 7, 8, 2, 9, 7, 9, 1, 5, 6, 4, 4, 4, 1, 9, 0, 8, 4, 8, 4, 6, 2, 3, 8, 6, 7, 4, 4, 8, 9, 0, 0, 0, 8, 6, 4, 2, 3, 0, 9, 8, 5, 8, 8, 6, 7, 6, 1, 4, 0, 1, 6, 1, 4, 9, 6, 1, 1, 4, 1, 8, 7, 5, 4, 2, 5, 1, 0, 6, 9, 1, 1, 4, 4, 0, 5, 6, 0, 8, 3, 7, 4, 9, 9, 0, 2, 2, 7, 3, 0, 3, 1, 0, 1, 1, 2, 8, 3, 6, 5, 6, 2, 0, 2, 9, 7, 3, 3, 8, 8, 0, 6, 6, 8, 8, 3, 2, 7, 3, 4, 7, 7, 5, 8, 1, 1, 8, 0, 5, 7, 5, 9, 5, 0, 4, 3, 7, 6, 3, 5, 4, 5, 1, 1, 9, 4, 8, 3, 7, 5, 0, 9, 4, 7, 8, 4, 8, 1, 1, 0, 5, 6, 7, 9, 5, 6, 8, 0, 6, 0, 2, 1, 9, 9, 0, 3, 2, 8, 7, 8, 1, 3, 9, 9, 0, 7, 6, 1, 3, 4, 2, 3, 6, 4, 1, 1, 7, 4, 4, 5, 3, 2, 8, 9, 6, 6, 5, 4, 0, 6, 7, 3, 5, 2, 8, 1, 9, 0, 5, 3, 3, 9, 2, 9, 1, 7, 4, 5, 0, 5, 1, 9, 1, 1, 9, 9, 4, 6, 6, 1, 4, 8, 4, 8, 7, 6, 1, 2, 0, 4, 6, 2, 9, 9, 5, 3, 6, 4, 8, 3, 8, 2, 2, 1, 5, 8, 7, 5, 2, 8, 0, 7, 2, 5, 5, 6, 9, 8, 7, 3, 8, 2, 1, 3, 9, 1, 0, 4, 0, 6, 5, 8, 0, 0, 6, 7, 7, 1, 8, 7, 5, 6, 6, 8, 1, 4, 9, 8, 0, 4, 9, 1, 7, 7, 4, 6, 7, 3, 0, 0, 7, 8, 0, 8, 3, 0, 5, 8, 8, 1, 8, 0, 9, 0, 9, 5, 3, 0, 1, 7, 1, 1, 4, 4, 0, 4, 1, 7, 1, 5, 8, 4, 8, 6, 8, 3, 3, 1, 1, 8, 0, 4, 8, 2, 7, 2, 9, 8, 9, 8, 4, 8, 2, 3, 3, 2, 6, 8, 9, 1, 1, 2, 5, 9, 1, 7, 2, 7, 9, 1, 2, 9, 7, 5, 5, 5, 7, 4, 3, 5, 9, 7, 8, 0, 6, 1, 4, 8, 2, 3, 1, 8, 2, 4, 7, 9, 7, 3, 3, 2, 9, 2, 7, 6, 1, 9, 9, 2, 3, 2, 5, 8, 1, 6, 3, 0, 9, 1, 2, 6, 5, 3, 8, 4, 2, 6, 1, 6, 1, 0, 4, 9, 0, 1, 4, 1, 2, 1, 6, 0, 7, 6, 1, 0, 0, 1, 8, 3, 0, 6, 7, 0, 3, 2, 0, 1, 7, 8, 4, 4, 6, 1, 6, 2, 0, 0, 3, 9, 9, 8, 7, 5, 8, 0, 1, 0, 0, 0, 5, 6, 2, 2, 5, 3, 8, 8, 1, 9, 2, 3, 4, 0, 5, 3, 8, 3, 6, 8, 9, 3, 4, 8, 9, 4, 3, 2, 9, 2, 3, 7, 3, 7, 7, 7, 0, 4, 9, 4, 8, 3, 4, 6, 7, 9, 3, 7, 7, 1, 4, 9, 0, 9, 9, 8, 0, 0, 8, 9, 2, 3, 9, 4, 4, 9, 2, 1, 9, 9, 6, 9, 1, 9, 6, 4, 0, 7, 7, 2, 7, 6, 2, 8, 6, 6, 7, 3, 9, 8, 3, 0, 9, 8, 8, 0, 3, 1, 9, 3, 0, 8, 9, 4, 4, 1, 0, 9, 1, 4, 7, 4, 5, 4, 3, 8, 5, 7, 0, 1, 4, 1, 8, 1, 6, 6, 9, 4, 8, 8, 1, 8, 8, 7, 8, 0, 2, 0, 4, 4, 3, 8, 1, 7, 6, 5, 4, 6, 0, 2, 2, 1, 5, 7, 2, 4, 6, 4, 4, 9, 2, 2, 7, 6, 1, 7, 1, 2, 3, 9, 7, 8, 1, 7, 8, 2, 8, 5, 7, 3, 5, 9, 6, 2, 8, 7, 2, 8, 9, 9, 2, 9, 2, 4, 4, 1, 6, 0, 6, 8, 6, 3, 6, 9, 6, 1, 2, 2, 5, 0, 9, 4, 1, 9, 4, 3, 6, 8, 6, 5, 7, 0, 3, 0, 0, 2, 7, 0, 7, 8, 7, 2, 9, 5, 8, 0, 7, 2, 7, 6, 8, 0, 9, 7, 3, 5, 0, 3, 9, 0, 4, 6, 9, 1, 9, 1, 0, 0, 8, 8, 9, 8, 3, 9, 9, 7, 8, 2, 8, 8, 2, 3, 5, 7, 1, 1, 9, 2, 7, 9, 5, 7, 6, 1, 2, 2, 9, 1, 4, 4, 5, 4, 4, 8, 3, 7, 1, 2, 0, 7, 6, 7, 6, 7, 1, 5, 2, 9, 2, 9, 6, 6, 6, 2, 1, 4, 5, 9, 4, 3, 1, 0, 5, 1, 3, 7, 4, 6, 2, 3, 5, 2, 5, 9, 1, 9, 3, 8, 0, 1, 6, 5, 9, 7, 7, 0, 9, 6, 3, 8, 9, 0, 1, 2, 8, 1, 3, 8, 9, 9, 8, 7, 1, 4, 9, 3, 5, 7, 1, 4, 4, 7, 4, 3, 9, 1, 9, 1, 3, 9, 3, 1, 4, 7, 2, 5, 6, 5, 6, 1, 8, 9, 4, 7, 1, 1, 8, 2, 6, 4, 6, 6, 0, 6, 2, 3, 3, 4, 3, 5, 6, 8, 8, 4, 3, 8, 0, 1, 0, 9, 3, 4, 2, 3, 0, 8, 5, 8, 1, 7, 8, 0, 4, 9, 7, 9, 1, 0, 4, 3, 4, 1, 6, 8, 4, 4, 6, 0, 7, 2, 2, 3, 9, 1, 1, 2, 2, 0, 3, 8, 0, 5, 2, 6, 2, 8, 1, 8, 7, 8, 2, 3, 8, 7, 1, 6, 3, 7, 0, 5, 8, 6, 7, 4, 2, 2, 1, 7, 8, 4, 3, 9, 8, 8, 0, 2, 3, 4, 1, 3, 6, 3, 8, 7, 9, 2, 8, 3, 6, 9, 2, 3, 8, 7, 8, 7, 2, 3, 6, 9, 1, 9, 6, 4, 8, 6, 8, 0, 7, 3, 9, 4, 1, 6, 9, 1, 6, 9, 3, 5, 2, 2, 7, 9, 7, 2, 9, 0, 2, 8, 2, 1, 9, 8, 2, 9, 0, 9, 0, 5, 3, 8, 9, 5, 8, 6, 8, 9, 4, 1, 6, 4, 4, 6, 8, 7, 3, 8, 2, 4, 5, 1, 6, 4, 1, 1, 2, 3, 2, 3, 5, 8, 5, 3, 2, 1, 5, 8, 0, 4, 9, 3, 9, 6, 8, 8, 9, 9, 5, 8, 0, 5, 0, 0, 6, 6, 2, 6, 2, 0, 7, 1, 2, 8, 2, 9, 1, 6, 4, 3, 9, 0, 7, 5, 4, 3, 1, 0, 2, 5, 6, 8, 4, 4, 3, 4, 9, 7, 6, 6, 8, 4, 3, 3, 3, 8, 4, 1, 8, 2, 5, 5, 2, 4, 0, 0, 4, 1, 5, 7, 7, 8, 3, 6, 2, 6, 5, 1, 7, 3, 1, 7, 7, 4, 8, 7, 3, 3, 3, 1, 6, 1, 7, 5, 9, 3, 0, 0, 2, 0, 8, 0, 0, 2, 5, 5, 8, 5, 4, 7, 8, 6, 1, 5, 3, 7, 7, 7, 3, 1, 4, 3, 8, 4, 0, 7, 0, 6, 0, 9, 8, 1, 5, 8, 3, 6, 8, 7, 4, 1, 4, 4, 0, 2, 0, 4, 8, 5, 8, 8, 8, 9, 6, 6, 5, 1, 5, 7, 3, 5, 2, 1, 2, 3, 8, 6, 4, 8, 5, 1, 2, 7, 5, 5, 0, 4, 6, 6, 8, 4, 4, 6, 8, 5, 5, 9, 4, 6, 1, 8, 0, 2, 9, 5, 3, 3, 3, 2, 8, 1, 3, 6, 3, 4, 6, 4, 6, 3, 0, 0, 5, 5, 0, 7, 9, 1, 3, 1, 4, 8, 7, 5, 8, 0, 0, 0, 2, 6, 9, 7, 8, 4, 9, 5, 7, 4, 0, 7, 6, 8, 1, 4, 5, 3, 0, 8, 7, 8, 1, 3, 4, 1, 5, 2, 3, 0, 7, 1, 0, 3, 8, 5, 0, 3, 1, 5, 4, 5, 3, 8, 1, 6, 6, 1, 4, 7, 3, 7, 8, 6, 0, 5, 6, 6, 9, 5, 5, 2, 2, 6, 1, 5, 6, 0, 3, 2, 6, 6, 1, 5, 9, 5, 4, 6, 1, 1, 7, 2, 0, 5, 8, 1, 0, 4, 8, 6, 1, 9, 5, 1, 9, 6, 6, 7, 6, 7, 3, 8, 1, 1, 6, 4, 8, 1, 4, 4, 1, 4, 1, 1, 7, 9, 6, 3, 8, 6, 5, 6, 2, 5, 9, 4, 3, 1, 6, 6, 3, 0, 7, 4, 4, 6, 1, 1, 5, 5, 8, 1, 6, 9, 2, 7, 7, 5, 1, 9, 3, 9, 3, 2, 4, 9, 8, 3, 7, 1, 1, 6, 9, 5, 3, 8, 8, 8, 8, 9, 2, 8, 3, 4, 0, 8, 9, 6, 5, 0, 6, 7, 8, 9, 7, 4, 2, 7, 2, 8, 0, 0, 4, 2, 9, 0, 1, 9, 9, 7, 1, 7, 0, 7, 0, 3, 1, 8, 8, 1, 4, 4, 0, 7, 0, 9, 8, 1, 8, 8, 1, 2, 8, 5, 1, 0, 8, 8, 0, 3, 7, 0, 5, 3, 7, 7, 0, 5, 5, 2, 5, 2, 2, 7, 2, 7, 5, 6, 7, 6, 2, 4, 0, 1, 8, 0, 6, 9, 4, 8, 6, 2, 4, 4, 0, 1, 7, 9, 8, 8, 3, 3, 1, 4, 5, 2, 2, 7, 4, 1, 7, 4, 8, 9, 6, 8, 7, 8, 7, 0, 4, 4, 8, 8, 5, 0, 3, 6, 9, 4, 1, 0, 1, 2, 8, 1, 6, 0, 1, 2, 4, 3, 3, 2, 0, 6, 9, 2, 1, 3, 2, 2, 8, 0, 6, 1, 1, 2, 7, 4, 8, 3, 1, 9, 5, 5, 1, 8, 5, 0, 3, 7, 9, 5, 4, 5, 7, 3, 5, 7, 8, 0, 8, 1, 4, 0, 9, 1, 7, 9, 1, 6, 7, 1, 3, 6, 4, 6, 4, 0, 3, 5, 1, 4, 2, 1, 4, 0, 1, 1, 7, 5, 7, 1, 3, 3, 0, 4, 9, 4, 6, 8, 2, 9, 5, 1, 9, 5, 0, 8, 2, 3, 4, 8, 6, 7, 2, 5, 3, 8, 0, 1, 4, 7, 3, 6, 6, 5, 1, 9, 3, 0, 3, 8, 9, 7, 1, 3, 0, 5, 7, 4, 0, 4, 9, 9, 8, 2, 8, 3, 1, 8, 8, 3, 7, 5, 0, 3, 5, 4, 4, 2, 5, 9, 6, 6, 0, 8, 4, 1, 0, 8, 5, 0, 3, 8, 3, 0, 1, 1, 8, 9, 6, 1, 1, 0, 7, 2, 8, 4, 7, 2, 1, 4, 1, 8, 6, 7, 7, 6, 3, 2, 4, 1, 4, 5, 8, 3, 6, 4, 8, 4, 6, 6, 1, 7, 5, 8, 1, 3, 2, 2, 7, 0, 0, 2, 9, 1, 3, 3, 3, 3, 9, 3, 4, 1, 2, 6, 8, 1, 9, 5, 4, 7, 9, 0, 7, 2, 9, 9, 1, 4, 0, 6, 7, 8, 7, 9, 7, 6, 4, 4, 4, 6, 3, 1, 9, 3, 6, 6, 3, 2, 9, 3, 8, 2, 4, 0, 6, 0, 9, 5, 9, 0, 1, 6, 5, 2, 3, 0, 3, 0, 0, 8, 4, 8, 0, 5, 3, 0, 2, 3, 1, 2, 4, 3, 0, 2, 0, 7, 9, 3, 3, 9, 6, 5, 9, 8, 1, 8, 0, 6, 5, 1, 8, 5, 1, 7, 1, 7, 6, 2, 1, 1, 0, 5, 0, 4, 8, 9, 5, 7, 4, 8, 3, 8, 8, 3, 7, 8, 2, 2, 9, 8, 3, 0, 6, 7, 6, 2, 8, 6, 8, 1, 5, 7, 2, 1, 2, 3, 9, 4, 1, 9, 2, 8, 4, 6, 7, 8, 6, 9, 8, 4, 3, 3, 2, 0, 2, 9, 8, 1, 5, 0, 8, 5, 4, 7, 6, 8, 1, 5, 1, 1, 0, 5, 4, 2, 0, 0, 9, 0, 2, 7, 7, 5, 2, 6, 7, 6, 3, 9, 8, 4, 0, 5, 6, 3, 3, 3, 1, 6, 2, 4, 4, 4, 0, 8, 1, 8, 0, 3, 4, 5, 0, 2, 2, 0, 1, 1, 6, 1, 4, 3, 1, 5, 9, 9, 2, 5, 0, 0, 2, 4, 7, 8, 2, 8, 4, 4, 4, 4, 8, 0, 8, 8, 5, 9, 9, 4, 4, 9, 2, 4, 8, 3, 0, 9, 8, 7, 6, 2, 4, 2, 6, 3, 2, 7, 1, 1, 0, 2, 9, 9, 0, 4, 8, 7, 0, 5, 4, 4, 1, 5, 6, 6, 8, 1, 2, 3, 3, 3, 2, 9, 7, 1, 4, 4, 6, 9, 0, 2, 4, 4, 5, 7, 8, 9, 4, 2, 4, 1, 7, 8, 2, 8, 0, 1, 1, 9, 9, 7, 0, 1, 2, 0, 9, 4, 2, 1, 4, 8, 0, 8, 6, 1, 9, 5, 1, 6, 2, 1, 8, 0, 6, 1, 4, 9, 6, 6, 8, 1, 1, 7, 9, 4, 2, 7, 3, 4, 6, 0, 6, 3, 0, 6, 3, 0, 1, 3, 8, 6, 3, 1, 0, 5, 9, 1, 3, 9, 0, 2, 0, 5, 8, 9, 6, 6, 5, 2, 4, 7, 2, 0, 7, 9, 1, 3, 9, 1, 8, 6, 4, 9, 9, 6, 0, 0, 4, 8, 4, 9, 8, 3, 5, 1, 7, 7, 1, 4, 1, 6, 3, 9, 7, 6, 6, 1, 9, 4, 0, 0, 4, 4, 8, 3, 1, 7, 5, 8, 3, 7, 4, 1, 0, 3, 2, 4, 3, 2, 2, 6, 0, 9, 9, 8, 3, 1, 8, 6, 4, 2, 2, 1, 7, 3, 1, 4, 5, 0, 6, 8, 1, 7, 8, 3, 7, 6, 7, 7, 3, 9, 2, 4, 5, 7, 7, 9, 0, 9, 1, 8, 1, 8, 4, 4, 1, 9, 9, 6, 1, 7, 5, 3, 5, 3, 7, 8, 0, 0, 1, 0, 3, 6, 6, 1, 9, 4, 0, 1, 0, 2, 0, 6, 7, 7, 5, 3, 1, 8, 9, 9, 2, 4, 6, 8, 5, 0, 6, 5, 6, 8, 3, 4, 1, 8, 4, 6, 8, 7, 1, 8, 6, 8, 1, 2, 3, 3, 2, 3, 3, 6, 8, 2, 7, 6, 8, 8, 0, 9, 7, 7, 7, 8, 3, 8, 2, 3, 1, 4, 3, 6, 4, 8, 3, 1, 3, 6, 9, 6, 7, 0, 3, 9, 0, 7, 7, 0, 0, 0, 9, 3, 8, 7, 9, 8, 6, 0, 7, 7, 2, 8, 7, 9, 1, 2, 3, 6, 0, 7, 8, 1, 0, 3, 6, 9, 9, 5, 0, 3, 0, 1, 1, 8, 2, 3, 9, 5, 4, 0, 3, 5, 1, 2, 7, 6, 5, 3, 0, 5, 6, 9, 0, 7, 8, 1, 7, 1, 8, 7, 2, 7, 9, 7, 8, 2, 1, 2, 5, 4, 9, 2, 1, 3, 1, 8, 5, 6, 2, 7, 3, 9, 9, 4, 8, 6, 3, 1, 1, 7, 5, 3, 5, 2, 2, 9, 7, 3, 3, 9, 1, 1, 1, 8, 1, 6, 2, 6, 6, 8, 8, 2, 9, 7, 0, 3, 5, 7, 8, 7, 8, 7, 9, 3, 8, 1, 8, 5, 4, 7, 5, 3, 0, 5, 9, 7, 0, 7, 7, 4, 4, 5, 8, 9, 2, 9, 7, 3, 1, 4, 4, 8, 6, 4, 0, 0, 2, 6, 2, 2, 8, 4, 1, 6, 1, 8, 2, 1, 3, 1, 2, 4, 6, 4, 3, 5, 5, 5, 1, 0, 1, 1, 9, 1, 7, 2, 6, 9, 6, 5, 2, 0, 8, 8, 9, 3, 4, 8, 9, 9, 3, 8, 6, 8, 9, 8, 3, 7, 0, 4, 3, 1, 0, 1, 6, 4, 2, 1, 9, 7, 0, 9, 3, 1, 8, 3, 6, 0, 8, 2, 6, 5, 7, 9, 0, 2, 0, 8, 4, 0, 9, 9, 6, 0, 7, 5, 0, 1, 9, 6, 1, 1, 2, 7, 0, 3, 3, 8, 9, 4, 8, 4, 8, 4, 9, 9, 8, 6, 9, 8, 3, 0, 9, 6, 7, 8, 3, 5, 8, 1, 2, 7, 8, 7, 1, 6, 8, 3, 1, 6, 8, 7, 6, 9, 1, 5, 9, 0, 7, 4, 3, 3, 3, 4, 8, 9, 3, 0, 8, 2, 0, 6, 1, 6, 7, 9, 0, 4, 5, 4, 3, 8, 9, 4, 8, 7, 2, 8, 2, 6, 7, 9, 7, 0, 4, 6, 3, 7, 5, 9, 4, 2, 2, 9, 6, 7, 0, 5, 0, 0, 3, 3, 5, 3, 7, 6, 2, 2, 4, 9, 0, 5, 3, 1, 8, 5, 9, 9, 7, 1, 4, 3, 6, 7, 8, 1, 6, 4, 1, 4, 9, 7, 1, 3, 0, 8, 7, 8, 7, 1, 6, 9, 4, 8, 3, 1, 6, 8, 3, 0, 8, 4, 1, 6, 8, 1, 9, 4, 3, 8, 4, 0, 9, 4, 4, 9, 3, 2, 2, 8, 0, 4, 3, 7, 4, 4, 6, 5, 3, 0, 5, 5, 1, 4, 6, 3, 5, 9, 3, 8, 1, 3, 8, 0, 9, 2, 3, 8, 9, 2, 4, 3, 1, 0, 7, 7, 3, 6, 8, 4, 8, 8, 2, 0, 3, 7, 7, 0, 8, 3, 8, 2, 3, 0, 9, 8, 7, 2, 0, 1, 8, 3, 9, 2, 4, 4, 1, 4, 3, 2, 9, 1, 1, 9, 0, 2, 7, 4, 7, 8, 6, 7, 7, 7, 6, 7, 9, 4, 7, 1, 1, 8, 1, 1, 1, 1, 6, 3, 1, 1, 5, 6, 1, 3, 8, 1, 0, 7, 3, 9, 7, 5, 0, 5, 9, 6, 3, 0, 2, 2, 2, 4, 2, 0, 6, 7, 7, 0, 4, 7, 3, 5, 8, 7, 4, 0, 7, 4, 2, 4, 2, 9, 8, 2, 0, 4, 4, 7, 8, 0, 9, 9, 6, 1, 6, 6, 7, 9, 1, 3, 8, 0, 9, 4, 4, 9, 0, 0, 8, 1, 1, 0, 2, 8, 2, 0, 9, 2, 3, 6, 2, 0, 5, 9, 2, 9, 4, 1, 6, 1, 4, 1, 6, 4, 2, 1, 5, 9, 6, 0, 4, 4, 1, 3, 3, 3, 0, 4, 1, 5, 6, 1, 2, 0, 7, 8, 6, 4, 1, 2, 8, 4, 4, 8, 2, 1, 1, 9, 8, 1, 4, 0, 2, 7, 1, 4, 0, 7, 4, 4, 4, 5, 1, 7, 9, 6, 4, 5, 8, 7, 1, 4, 7, 9, 7, 8, 0, 8, 6, 9, 8, 7, 1, 2, 8, 1, 1, 9, 8, 8, 8, 6, 0, 7, 6, 4, 6, 3, 2, 6, 0, 9, 1, 6, 5, 2, 7, 3, 4, 9, 1, 0, 6, 4, 7, 6, 4, 0, 5, 0, 9, 7, 8, 3, 6, 4, 4, 9, 7, 7, 4, 2, 2, 1, 1, 5, 3, 5, 4, 7, 7, 3, 4, 8, 7, 7, 1, 1, 9, 9, 4, 4, 3, 0, 3, 8, 8, 1, 6, 4, 0, 6, 2, 9, 0, 6, 3, 6, 6, 6, 5, 1, 0, 9, 3, 6, 3, 8, 0, 7, 2, 0, 3, 2, 5, 7, 9, 6, 9, 8, 4, 4, 8, 9, 8, 8, 9, 1, 5, 1, 1, 6, 7, 0, 2, 8, 2, 2, 5, 5, 4, 6, 8, 1, 4, 0, 9, 4, 3, 7, 9, 3, 0, 2, 9, 6, 3, 3, 3, 2, 3, 4, 6, 7, 9, 3, 6, 7, 3, 3, 3, 1, 2, 4, 5, 9, 9, 4, 1, 9, 7, 8, 8, 1, 8, 0, 6, 7, 9, 6, 7, 1, 2, 7, 8, 6, 0, 8, 8, 1, 7, 7, 3, 5, 3, 7, 4, 4, 0, 4, 1, 9, 1, 3, 2, 1, 6, 6, 0, 9, 2, 6, 0, 2, 1, 7, 9, 5, 8, 8, 7, 8, 3, 0, 2, 1, 9, 9, 9, 1, 3, 3, 6, 9, 0, 3, 7, 4, 1, 8, 1, 7, 5, 4, 2, 8, 0, 6, 4, 6, 4, 7, 9, 6, 7, 8, 0, 2, 3, 9, 8, 7, 2, 3, 4, 4, 4, 6, 8, 6, 6, 1, 2, 8, 1, 7, 6, 7, 1, 8, 7, 6, 2, 9, 7, 8, 8, 4, 6, 8, 0, 1, 7, 3, 2, 0, 8, 8, 3, 5, 4, 1, 8, 6, 4, 1, 0, 1, 1, 0, 2, 4, 7, 6, 4, 3, 8, 6, 4, 6, 9, 8, 4, 6, 1, 6, 2, 3, 7, 9, 9, 1, 3, 8, 2, 8, 4, 9, 5, 8, 8, 9, 2, 6, 1, 5, 5, 8, 8, 7, 0, 3, 4, 2, 6, 3, 6, 1, 3, 7, 7, 2, 7, 3, 3, 3, 9, 1, 2, 1, 8, 1, 1, 6, 0, 6, 9, 6, 9, 6, 6, 8, 1, 0, 0, 7, 6, 9, 8, 8, 7, 6, 9, 7, 4, 8, 2, 3, 5, 8, 6, 8, 2, 1, 0, 8, 9, 4, 4, 4, 0, 0, 9, 6, 8, 0, 3, 9, 9, 9, 7, 9, 7, 3, 7, 8, 8, 2, 3, 8, 2, 8, 2, 7, 2, 1, 2, 7, 1, 4, 0, 5, 3, 8, 5, 3, 3, 8, 6, 9, 9, 0, 2, 5, 7, 4, 6, 8, 6, 2, 8, 3, 7, 8, 8, 4, 9, 7, 0, 3, 8, 7, 4, 8, 2, 8, 7, 7, 5, 7, 8, 0, 3, 5, 1, 5, 9, 9, 0, 4, 9, 9, 4, 7, 9, 0, 8, 4, 3, 5, 3, 0, 9, 4, 4, 8, 6, 1, 2, 1, 1, 9, 2, 7, 7, 0, 1, 8, 1, 6, 9, 8, 3, 4, 0, 3, 1, 0, 5, 3, 9, 8, 1, 7, 8, 8, 6, 8, 1, 1, 7, 1, 4, 8, 0, 8, 5, 6, 0, 2, 7, 1, 6, 8, 0, 1, 2, 9, 0, 5, 4, 8, 1, 2, 1, 1, 2, 7, 3, 3, 6, 5, 2, 8, 5, 9, 8, 4, 3, 5, 3, 4, 0, 6, 6, 3, 8, 4, 6, 2, 1, 2, 9, 9, 0, 3, 4, 9, 6, 8, 6, 9, 3, 8, 2, 8, 4, 1, 1, 7, 3, 8, 8, 2, 3, 3, 9, 4, 7, 2, 4, 0, 1, 4, 3, 6, 2, 4, 1, 5, 9, 7, 1, 7, 6, 6, 1, 6, 7, 4, 8, 2, 1, 0, 9, 6, 2, 5, 5, 3, 9, 0, 6, 2, 8, 6, 0, 3, 4, 3, 6, 7, 6, 0, 3, 5, 8, 8, 4, 0, 6, 9, 5, 6, 0, 1, 7, 0, 7, 8, 6, 4, 3, 4, 4, 6, 2, 2, 4, 7, 7, 6, 2, 8, 7, 4, 9, 0, 4, 7, 1, 3, 9, 4, 0, 1, 2, 9, 7, 9, 9, 3, 4, 5, 5, 1, 8, 8, 6, 1, 8, 8, 8, 4, 6, 5, 9, 6, 1, 0, 5, 4, 0, 3, 1, 1, 5, 5, 3, 1, 2, 4, 6, 9, 2, 4, 1, 7, 9, 8, 4, 1, 1, 4, 3, 6, 2, 2, 1, 6, 7, 7, 8, 7, 3, 0, 1, 1, 5, 3, 1, 1, 3, 2, 7, 1, 2, 1, 8, 8, 0, 7, 5, 5, 4, 0, 8, 7, 7, 8, 8, 3, 8, 2, 0, 7, 4, 1, 1, 8, 1, 5, 4, 2, 1, 0, 2, 4, 7, 0, 2, 8, 0, 2, 1, 9, 7, 3, 3, 4, 4, 1, 1, 4, 2, 3, 1, 6, 9, 8, 8, 9, 8, 6, 7, 8, 1, 6, 3, 7, 6, 8, 7, 3, 3, 5, 7, 7, 6, 0, 8, 1, 7, 9, 3, 3, 8, 1, 3, 9, 4, 3, 1, 9, 7, 7, 2, 3, 4, 8, 0, 9, 4, 1, 1, 7, 2, 6, 6, 4, 1, 0, 4, 2, 1, 3, 7, 4, 0, 3, 8, 5, 8, 9, 9, 7, 5, 6, 8, 2, 4, 7, 0, 1, 7, 3, 8, 6, 9, 9, 5, 3, 1, 7, 0, 8, 1, 4, 1, 1, 1, 8, 7, 4, 7, 9, 6, 9, 6, 2, 4, 4, 2, 1, 8, 7, 5, 4, 6, 2, 1, 6, 7, 1, 5, 0, 0, 5, 8, 9, 7, 2, 0, 5, 9, 2, 8, 4, 2, 4, 3, 0, 1, 8, 5, 1, 3, 2, 1, 3, 2, 4, 0, 4, 1, 8, 3, 7, 9, 8, 8, 8, 6, 4, 3, 7, 4, 9, 6, 8, 8, 6, 6, 5, 7, 8, 4, 4, 2, 3, 6, 6, 0, 0, 6, 6, 9, 1, 4, 4, 7, 8, 7, 3, 2, 3, 8, 4, 9, 6, 2, 0, 3, 9, 8, 0, 0, 7, 8, 8, 3, 5, 8, 6, 3, 7, 5, 0, 2, 7, 8, 6, 1, 8, 2, 4, 4, 3, 4, 5, 3, 3, 8, 2, 1, 5, 7, 8, 7, 4, 9, 3, 1, 7, 3, 3, 6, 8, 9, 5, 8, 2, 8, 8, 8, 7, 2, 9, 7, 8, 1, 7, 8, 2, 0, 3, 1, 2, 6, 9, 6, 4, 9, 6, 7, 8, 3, 1, 6, 9, 9, 4, 9, 6, 8, 8, 8, 1, 9, 8, 9, 3, 1, 8, 0, 5, 2, 7, 1, 0, 8, 2, 4, 0, 3, 8, 9, 6, 6, 2, 8, 6, 7, 0, 0, 3, 3, 6, 5, 1, 1, 7, 9, 3, 1, 5, 8, 3, 2, 6, 8, 3, 8, 7, 4, 2, 9, 7, 3, 9, 8, 2, 3, 5, 1, 0, 9, 9, 2, 3, 7, 7, 9, 7, 8, 6, 0, 5, 4, 3, 7, 4, 1, 3, 4, 8, 7, 0, 0, 5, 6, 4, 5, 1, 4, 9, 8, 8, 7, 9, 2, 9, 8, 2, 1, 6, 2, 3, 5, 5, 3, 2, 0, 9, 8, 6, 1, 4, 0, 1, 1, 5, 6, 8, 8, 3, 3, 9, 0, 0, 3, 2, 4, 8, 9, 8, 4, 1, 9, 0, 9, 9, 2, 9, 4, 4, 7, 9, 9, 1, 2, 0, 5, 3, 9, 6, 7, 2, 5, 4, 4, 0, 1, 0, 9, 4, 0, 1, 9, 6, 0, 2, 1, 4, 3, 7, 8, 2, 7, 9, 2, 8, 7, 5, 6, 4, 9, 8, 7, 0, 1, 1, 6, 8, 6, 3, 8, 6, 8, 8, 5, 9, 2, 8, 3, 6, 3, 6, 9, 0, 5, 2, 0, 5, 8, 7, 4, 4, 7, 0, 2, 8, 4, 0, 8, 1, 0, 6, 2, 5, 0, 9, 0, 8, 5, 4, 2, 8, 3, 8, 7, 0, 9, 1, 4, 1, 8, 2, 2, 4, 2, 9, 8, 7, 1, 8, 3, 4, 7, 1, 9, 0, 9, 8, 7, 9, 4, 1, 9, 7, 0, 0, 8, 3, 4, 0, 8, 8, 4, 2, 5, 5, 5, 7, 1, 5, 3, 8, 8, 0, 9, 4, 0, 1, 4, 8, 3, 6, 2, 3, 4, 4, 8, 6, 6, 2, 1, 6, 8, 5, 9, 1, 7, 9, 0, 7, 9, 4, 2, 6, 0, 6, 4, 1, 7, 2, 8, 0, 6, 0, 1, 9, 9, 3, 7, 0, 2, 4, 0, 2, 1, 2, 1, 7, 6, 9, 0, 0, 1, 4, 8, 7, 3, 8, 6, 9, 3, 8, 3, 7, 9, 6, 0, 1, 7, 1, 1, 4, 1, 6, 6, 3, 8, 8, 1, 9, 6, 2, 1, 5, 1, 8, 7, 9, 0, 5, 1, 3, 2, 6, 1, 4, 9, 4, 9, 5, 2, 6, 6, 3, 4, 3, 4, 7, 0, 7, 0, 8, 2, 0, 0, 7, 7, 1, 0, 5, 2, 2, 3, 9, 1, 7, 6, 8, 3, 2, 0, 1, 5, 8, 2, 6, 0, 6, 5, 4, 0, 3, 6, 6, 4, 6, 7, 1, 8, 9, 5, 8, 7, 4, 4, 2, 8, 9, 8, 3, 3, 7, 3, 2, 0, 4, 9, 0, 3, 7, 6, 2, 0, 0, 7, 2, 1, 7, 1, 0, 8, 8, 0, 5, 7, 8, 8, 3, 5, 1, 9, 6, 3, 2, 0, 6, 8, 7, 0, 3, 9, 8, 0, 9, 5, 7, 6, 2, 2, 5, 3, 8, 8, 2, 1, 1, 5, 4, 6, 0, 2, 3, 2, 0, 7, 1, 1, 1, 7, 9, 0, 8, 9, 0, 8, 1, 7, 3, 2, 7, 1, 9, 3, 3, 7, 9, 4, 2, 7, 8, 7, 2, 5, 9, 0, 6, 6, 8, 7, 8, 8, 7, 0, 2, 9, 4, 0, 1, 9, 6, 7, 2, 3, 7, 6, 9, 9, 0, 3, 6, 4, 4, 2, 3, 5, 4, 6, 3, 8, 7, 0, 2, 7, 7, 7, 0, 0, 1, 9, 0, 6, 9, 7, 8, 1, 3, 1, 1, 2, 3, 9, 0, 0, 8, 2, 2, 3, 0, 9, 4, 9, 8, 2, 5, 1, 1, 5, 2, 8, 1, 5, 1, 8, 5, 3, 6, 7, 9, 1, 8, 8, 2, 1, 8, 8, 0, 9, 0, 2, 3, 3, 6, 0, 0, 0, 8, 0, 6, 3, 3, 7, 2, 5, 6, 8, 8, 3, 8, 0, 3, 7, 4, 0, 1, 3, 1, 8, 0, 8, 9, 5, 3, 0, 3, 7, 0, 6, 8, 3, 2, 6, 7, 7, 3, 1, 8, 7, 6, 3, 2, 6, 4, 9, 5, 8, 2, 7, 3, 2, 4, 8, 4, 9, 4, 1, 1, 6, 8, 9, 5, 1, 7, 3, 8, 0, 1, 3, 4, 5, 6, 2, 7, 9, 9, 9, 6, 7, 0, 1, 6, 8, 4, 3, 8, 4, 1, 6, 4, 5, 1, 2, 6, 9, 2, 4, 7, 0, 2, 1, 8, 1, 7, 7, 5, 3, 2, 8, 7, 0, 1, 4, 8, 9, 1, 7, 9, 7, 0, 6, 0, 2, 8, 2, 9, 4, 3, 0, 3, 8, 9, 1, 3, 8, 9, 2, 9, 1, 8, 1, 8, 0, 4, 8, 0, 9, 1, 0, 5, 9, 7, 7, 5, 8, 4, 7, 9, 7, 9, 6, 9, 5, 8, 4, 0, 0, 8, 9, 6, 6, 1, 6, 0, 2, 1, 8, 5, 7, 4, 4, 1, 4, 6, 2, 8, 0, 8, 5, 6, 1, 1, 3, 1, 7, 0, 3, 3, 5, 8, 7, 2, 3, 3, 7, 3, 9, 9, 8, 6, 6, 0, 5, 5, 4, 3, 0, 6, 1, 1, 3, 2, 6, 1, 3, 3, 7, 3, 8, 0, 0, 0, 1, 5, 8, 8, 7, 1, 0, 4, 3, 2, 3, 9, 7, 4, 4, 9, 2, 9, 9, 3, 9, 8, 1, 0, 6, 4, 1, 9, 4, 0, 9, 8, 0, 8, 8, 9, 4, 3, 1, 5, 5, 0, 6, 6, 6, 5, 6, 4, 4, 0, 4, 8, 5, 9, 4, 6, 4, 5, 8, 5, 7, 4, 1, 1, 2, 8, 3, 1, 0, 3, 5, 3, 7, 7, 1, 9, 9, 7, 3, 5, 9, 4, 2, 3, 2, 2, 8, 6, 5, 0, 7, 7, 3, 9, 8, 5, 0, 8, 9, 0, 6, 3, 3, 8, 9, 2, 6, 1, 7, 1, 8, 8, 1, 8, 0, 3, 8, 0, 1, 8, 0, 3, 3, 9, 8, 4, 1, 1, 3, 5, 1, 7, 4, 1, 5, 9, 9, 0, 7, 7, 6, 4, 1, 6, 8, 7, 8, 2, 1, 9, 4, 2, 9, 5, 3, 4, 2, 4, 7, 3, 9, 7, 8, 6, 5, 7, 8, 0, 1, 9, 0, 2, 6, 1, 0, 2, 4, 4, 6, 1, 1, 2, 8, 2, 6, 4, 7, 7, 1, 6, 8, 2, 4, 2, 7, 8, 6, 6, 4, 4, 8, 5, 2, 5, 7, 6, 7, 7, 9, 3, 0, 8, 9, 4, 5, 3, 8, 1, 3, 0, 8, 5, 1, 7, 0, 6, 3, 5, 9, 1, 5, 9, 9, 8, 0, 4, 3, 0, 6, 0, 6, 5, 8, 2, 6, 0, 2, 2, 9, 8, 1, 6, 2, 1, 9, 4, 8, 4, 7, 9, 8, 7, 1, 6, 7, 9, 9, 2, 4, 4, 8, 5, 9, 8, 6, 3, 6, 7, 2, 4, 6, 8, 4, 1, 9, 1, 6, 9, 6, 8, 8, 8, 9, 6, 0, 6, 9, 2, 7, 7, 6, 4, 9, 7, 7, 3, 5, 6, 6, 5, 9, 4, 5, 4, 0, 5, 5, 1, 8, 1, 2, 1, 1, 2, 3, 6, 8, 2, 8, 2, 3, 8, 2, 1, 4, 8, 6, 8, 8, 6, 0, 9, 7, 6, 2, 4, 3, 2, 9, 7, 6, 4, 6, 8, 1, 8, 5, 7, 1, 8, 3, 2, 9, 8, 8, 0, 5, 7, 3, 1, 8, 3, 3, 7, 0, 3, 7, 8, 1, 8, 8, 0, 4, 9, 6, 1, 8, 9, 0, 6, 7, 6, 9, 0, 8, 3, 3, 1, 9, 7, 6, 6, 3, 0, 2, 8, 2, 6, 5, 9, 7, 1, 7, 1, 5, 8, 1, 6, 8, 9, 2, 9, 9, 8, 1, 7, 5, 1, 4, 5, 2, 5, 1, 9, 0, 7, 1, 7, 3, 0, 6, 0, 6, 8, 8, 4, 1, 1, 8, 0, 7, 3, 3, 7, 4, 6, 7, 3, 1, 6, 3, 8, 9, 7, 4, 9, 1, 3, 4, 7, 1, 4, 1, 8, 2, 3, 6, 7, 1, 3, 4, 1, 0, 0, 8, 9, 6, 3, 0, 5, 9, 4, 0, 6, 4, 2, 0, 2, 8, 9, 1, 9, 7, 3, 2, 9, 3, 7, 4, 8, 8, 2, 5, 7, 8, 6, 0, 1, 6, 3, 9, 5, 0, 6, 7, 3, 8, 5, 5, 9, 8, 8, 8, 3, 1, 3, 7, 5, 2, 9, 5, 4, 6, 7, 3, 2, 0, 9, 5, 0, 2, 9, 0, 1, 1, 0, 8, 5, 3, 6, 9, 6, 1, 1, 7, 3, 0, 6, 7, 5, 0, 1, 1, 1, 4, 4, 5, 2, 4, 2, 8, 9, 1, 3, 5, 1, 7, 6, 5, 1, 1, 9, 4, 0, 7, 8, 8, 9, 2, 8, 2, 1, 5, 2, 0, 4, 3, 9, 8, 7, 0, 4, 9, 8, 2, 3, 7, 0, 1, 7, 4, 9, 7, 0, 3, 4, 0, 6, 4, 3, 7, 3, 7, 4, 9, 9, 7, 9, 1, 3, 6, 5, 8, 1, 0, 8, 9, 0, 1, 0, 8, 7, 5, 8, 4, 1, 8, 2, 7, 1, 2, 0, 2, 0, 6, 8, 7, 1, 3, 3, 1, 3, 8, 0, 5, 8, 1, 1, 8, 9, 1, 1, 9, 2, 2, 3, 4, 0, 1, 5, 6, 3, 3, 3, 7, 7, 1, 0, 8, 8, 7, 3, 9, 1, 9, 2, 3, 8, 9, 6, 8, 8, 2, 6, 2, 9, 2, 2, 5, 2, 8, 5, 1, 8, 8, 8, 5, 7, 1, 8, 4, 1, 4, 3, 1, 1, 8, 8, 4, 2, 0, 1, 8, 7, 2, 7, 8, 3, 1, 7, 1, 2, 4, 0, 1, 6, 5, 0, 7, 9, 1, 5, 9, 7, 5, 3, 4, 7, 4, 2, 2, 6, 1, 1, 3, 9, 0, 0, 7, 6, 0, 6, 4, 2, 8, 5, 3, 6, 6, 1, 1, 2, 2, 1, 6, 7, 2, 0, 1, 8, 9, 1, 7, 8, 7, 3, 7, 0, 0, 1, 5, 5, 8, 4, 4, 4, 4, 9, 9, 2, 0, 3, 1, 7, 1, 3, 4, 7, 2, 4, 3, 3, 3, 3, 8, 0, 8, 9, 7, 1, 9, 0, 8, 6, 6, 5, 9, 0, 2, 1, 4, 9, 8, 5, 7, 1, 8, 5, 1, 0, 4, 2, 4, 7, 3, 1, 9, 5, 0, 9, 9, 1, 2, 4, 1, 6, 9, 6, 3, 6, 4, 3, 9, 9, 8, 7, 7, 6, 6, 6, 0, 7, 4, 8, 6, 3, 4, 0, 0, 4, 9, 1, 5, 3, 0, 1, 6, 6, 7, 1, 2, 0, 9, 2, 4, 1, 5, 4, 9, 1, 6, 1, 7, 2, 1, 5, 2, 9, 1, 3, 2, 1, 1, 8, 4, 9, 8, 4, 0, 4, 6, 2, 0, 9, 6, 9, 4, 5, 3, 3, 6, 9, 8, 7, 5, 0, 0, 8, 8, 0, 0, 3, 3, 1, 3, 9, 5, 3, 3, 7, 8, 9, 0, 8, 2, 8, 0, 7, 1, 7, 6, 3, 0, 6, 4, 3, 7, 6, 7, 4, 2, 0, 9, 2, 2, 6, 1, 8, 6, 4, 5, 2, 3, 6, 9, 8, 5, 5, 2, 4, 2, 1, 5, 3, 8, 6, 9, 2, 6, 1, 4, 6, 5, 1, 1, 9, 3, 8, 3, 8, 8, 1, 9, 8, 1, 6, 3, 4, 2, 2, 8, 5, 3, 4, 3, 2, 7, 0, 3, 9, 5, 4, 7, 4, 8, 0, 7, 9, 3, 1, 8, 4, 8, 0, 3, 7, 0, 8, 5, 3, 6, 0, 5, 1, 3, 6, 9, 6, 5, 9, 7, 1, 8, 6, 5, 2, 5, 0, 6, 2, 2, 9, 9, 1, 6, 3, 3, 3, 7, 2, 9, 8, 5, 0, 1, 6, 6, 0, 1, 1, 8, 7, 4, 4, 9, 9, 0, 8, 8, 6, 7, 1, 4, 3, 6, 8, 8, 1, 1, 6, 9, 8, 1, 1, 1, 6, 1, 6, 9, 3, 5, 0, 8, 7, 7, 5, 7, 3, 5, 6, 0, 0, 1, 3, 4, 8, 8, 8, 7, 7, 2, 8, 6, 4, 7, 4, 8, 0, 6, 6, 9, 5, 1, 0, 6, 1, 6, 7, 1, 3, 2, 4, 0, 7, 7, 3, 4, 4, 3, 2, 8, 0, 4, 5, 5, 2, 8, 5, 6, 4, 4, 8, 6, 0, 9, 4, 1, 7, 3, 1, 7, 9, 9, 9, 2, 8, 0, 5, 1, 4, 3, 2, 4, 3, 1, 5, 8, 1, 4, 4, 1, 9, 7, 8, 6, 3, 2, 0, 3, 9, 1, 9, 4, 5, 1, 3, 9, 9, 4, 3, 2, 8, 1, 8, 1, 4, 1, 9, 0, 4, 0, 9, 0, 4, 1, 5, 0, 8, 0, 9, 2, 8, 1, 8, 7, 1, 8, 6, 6, 4, 0, 8, 6, 3, 7, 9, 2, 2, 5, 1, 4, 3, 3, 6, 9, 1, 0, 7, 2, 5, 4, 7, 5, 1, 9, 9, 3, 4, 3, 3, 8, 8, 7, 0, 8, 3, 7, 2, 1, 8, 6, 1, 7, 0, 9, 1, 0, 6, 5, 0, 2, 3, 9, 1, 7, 0, 8, 6, 2, 4, 9, 8, 7, 2, 4, 2, 3, 8, 2, 1, 7, 5, 1, 4, 5, 1, 8, 1, 7, 4, 4, 1, 3, 1, 0, 5, 2, 9, 1, 6, 9, 1, 1, 5, 1, 8, 4, 2, 5, 5, 8, 7, 6, 4, 0, 7, 9, 8, 6, 3, 8, 7, 4, 6, 2, 6, 4, 2, 2, 8, 8, 3, 9, 9, 1, 4, 0, 2, 1, 0, 0, 0, 9, 2, 3, 8, 3, 1, 4, 3, 0, 2, 8, 6, 0, 2, 7, 4, 5, 6, 2, 8, 4, 3, 0, 0, 0, 7, 7, 8, 4, 8, 6, 4, 2, 1, 2, 0, 6, 7, 4, 3, 5, 2, 0, 0, 4, 4, 9, 8, 8, 1, 9, 1, 2, 1, 5, 4, 9, 8, 5, 1, 8, 1, 5, 7, 4, 5, 6, 7, 6, 3, 8, 3, 4, 2, 3, 6, 3, 6, 8, 3, 4, 8, 4, 0, 1, 9, 1, 7, 7, 2, 7, 2, 4, 1, 0, 4, 6, 2, 5, 6, 0, 3, 1, 4, 8, 2, 1, 8, 4, 7, 4, 3, 0, 3, 7, 0, 2, 8, 6, 1, 8, 4, 0, 9, 0, 4, 1, 5, 3, 9, 4, 6, 5, 0, 5, 0, 1, 4, 8, 1, 0, 8, 8, 9, 6, 5, 4, 5, 5, 8, 3, 1, 9, 9, 2, 0, 3, 2, 3, 4, 3, 0, 6, 6, 8, 9, 3, 9, 2, 5, 9, 6, 3, 6, 9, 8, 2, 6, 8, 4, 1, 1, 3, 8, 8, 0, 4, 5, 4, 0, 2, 6, 6, 9, 1, 2, 3, 1, 1, 0, 5, 4, 4, 0, 6, 7, 1, 7, 2, 3, 6, 4, 8, 1, 8, 3, 9, 0, 2, 9, 5, 1, 3, 8, 2, 3, 7, 8, 0, 2, 9, 9, 9, 1, 0, 1, 5, 8, 4, 2, 4, 5, 3, 8, 6, 7, 9, 8, 2, 8, 1, 1, 2, 5, 0, 6, 9, 8, 8, 7, 8, 8, 9, 9, 2, 1, 3, 9, 6, 3, 4, 6, 1, 0, 9, 4, 1, 1, 3, 7, 9, 7, 6, 9, 6, 3, 4, 9, 6, 6, 9, 0, 4, 7, 7, 8, 9, 3, 0, 3, 2, 2, 4, 3, 0, 7, 9, 6, 1, 0, 8, 3, 3, 5, 2, 1, 2, 2, 2, 7, 1, 8, 3, 5, 5, 7, 6, 2, 2, 0, 1, 7, 8, 3, 7, 0, 1, 1, 9, 9, 8, 1, 1, 4, 3, 7, 2, 7, 3, 4, 7, 1, 0, 5, 6, 9, 7, 7, 0, 5, 9, 3, 4, 4, 5, 9, 9, 9, 4, 3, 2, 7, 3, 0, 3, 3, 8, 1, 4, 8, 1, 5, 0, 8, 6, 8, 0, 7, 7, 3, 6, 1, 0, 6, 3, 9, 3, 4, 7, 5, 6, 4, 2, 2, 2, 5, 3, 7, 8, 0, 0, 6, 1, 6, 4, 4, 0, 9, 0, 3, 5, 1, 7, 1, 4, 1, 8, 4, 9, 8, 0, 3, 8, 7, 4, 4, 6, 6, 8, 6, 9, 3, 1, 8, 6, 1, 9, 9, 3, 7, 7, 2, 7, 2, 2, 0, 6, 9, 0, 1, 5, 6, 2, 6, 7, 5, 5, 7, 6, 9, 7, 9, 4, 1, 3, 2, 6, 1, 5, 9, 9, 7, 8, 7, 0, 8, 4, 5, 7, 6, 5, 6, 0, 4, 7, 5, 1, 0, 1, 1, 9, 4, 8, 3, 5, 1, 7, 4, 4, 2, 9, 9, 3, 1, 7, 3, 0, 6, 2, 1, 4, 1, 5, 3, 9, 7, 7, 4, 3, 2, 6, 9, 1, 3, 5, 7, 0, 3, 9, 3, 5, 9, 1, 6, 8, 7, 2, 0, 0, 5, 2, 1, 8, 4, 4, 4, 4, 2, 9, 5, 9, 3, 9, 6, 7, 4, 0, 3, 4, 8, 7, 6, 1, 8, 2, 6, 0, 3, 0, 3, 5, 3, 4, 2, 8, 8, 0, 2, 8, 3, 9, 8, 9, 7, 8, 2, 6, 1, 2, 4, 1, 3, 4, 3, 2, 0, 8, 8, 4, 6, 8, 8, 7, 8, 5, 1, 2, 2, 0, 7, 6, 4, 1, 8, 7, 8, 2, 4, 6, 0, 2, 3, 8, 0, 5, 7, 4, 1, 7, 9, 9, 4, 1, 5, 0, 2, 0, 3, 3, 6, 4, 9, 4, 8, 6, 5, 2, 9, 0, 2, 1, 9, 8, 2, 5, 4, 7, 4, 8, 3, 4, 3, 2, 8, 4, 1, 3, 0, 2, 7, 2, 7, 2, 2, 6, 6, 0, 1, 4, 6, 1, 0, 2, 7, 6, 6, 1, 1, 9, 5, 6, 7, 6, 9, 5, 0, 3, 9, 9, 2, 6, 6, 9, 7, 9, 3, 2, 7, 4, 1, 4, 8, 7, 8, 4, 8, 8, 5, 6, 0, 8, 9, 3, 2, 6, 4, 6, 6, 5, 1, 8, 6, 8, 3, 7, 1, 1, 3, 6, 8, 4, 4, 0, 3, 9, 8, 6, 3, 7, 4, 3, 4, 1, 7, 2, 3, 6, 4, 6, 6, 3, 9, 4, 1, 8, 2, 3, 6, 0, 7, 7, 7, 3, 8, 0, 1, 4, 6, 0, 6, 8, 5, 8, 1, 9, 2, 5, 3, 3, 3, 7, 1, 0, 2, 2, 3, 2, 9, 3, 1, 8, 0, 8, 3, 8, 5, 0, 1, 7, 8, 1, 0, 1, 2, 6, 8, 2, 9, 4, 7, 2, 0, 8, 9, 9, 6, 1, 6, 7, 7, 3, 5, 3, 9, 0, 3, 2, 9, 4, 9, 2, 6, 1, 7, 9, 9, 0, 9, 7, 1, 9, 2, 7, 4, 6, 3, 3, 9, 7, 8, 1, 1, 0, 3, 9, 2, 5, 5, 5, 6, 5, 0, 9, 5, 8, 0, 0, 1, 7, 0, 1, 6, 7, 6, 2, 2, 9, 0, 0, 3, 3, 4, 6, 4, 2, 0, 7, 1, 2, 6, 2, 2, 6, 7, 5, 0, 2, 8, 4, 0, 8, 2, 6, 5, 9, 7, 8, 7, 5, 3, 9, 1, 1, 2, 5, 9, 4, 2, 5, 0, 1, 4, 0, 3, 6, 6, 0, 7, 8, 9, 7, 5, 3, 8, 7, 9, 1, 1, 6, 3, 3, 4, 0, 1, 1, 7, 8, 5, 7, 6, 5, 5, 9, 8, 0, 8, 8, 5, 6, 0, 4, 8, 2, 8, 7, 9, 5, 8, 6, 9, 7, 1, 8, 8, 4, 7, 2, 3, 7, 9, 0, 0, 1, 9, 5, 2, 8, 9, 8, 4, 5, 7, 8, 5, 5, 6, 0, 6, 8, 4, 2, 2, 0, 8, 8, 7, 7, 3, 7, 2, 7, 1, 4, 6, 8, 4, 9, 5, 8, 1, 8, 6, 9, 8, 1, 6, 6, 4, 3, 3, 0, 8, 0, 3, 8, 6, 2, 6, 1, 6, 7, 6, 0, 6, 4, 8, 4, 6, 7, 4, 8, 8, 7, 4, 3, 1, 0, 8, 4, 0, 1, 8, 9, 6, 0, 6, 9, 9, 1, 9, 4, 2, 0, 9, 9, 1, 2, 9, 6, 3, 8, 1, 7, 8, 7, 2, 8, 8, 0, 0, 6, 5, 9, 3, 5, 4, 0, 3, 4, 3, 6, 7, 0, 0, 5, 8, 4, 6, 2, 2, 2, 8, 4, 6, 1, 6, 4, 4, 6, 6, 4, 0, 0, 4, 6, 4, 9, 9, 3, 0, 3, 1, 2, 1, 5, 1, 8, 4, 5, 3, 1, 9, 8, 2, 0, 2, 8, 2, 8, 3, 7, 6, 9, 6, 1, 3, 0, 1, 3, 7, 7, 9, 6, 6, 4, 5, 5, 6, 8, 3, 8, 3, 5, 7, 6, 3, 7, 7, 3, 4, 5, 1, 2, 8, 8, 8, 1, 8, 6, 5, 2, 5, 3, 1, 6, 6, 1, 4, 3, 0, 0, 3, 4, 8, 9, 0, 3, 2, 9, 3, 0, 6, 3, 2, 9, 6, 1, 8, 5, 7, 0, 8, 4, 1, 8, 8, 2, 9, 8, 0, 1, 4, 8, 7, 6, 3, 8, 4, 5, 0, 6, 6, 0, 5, 9, 0, 7, 4, 8, 8, 5, 9, 7, 9, 9, 1, 1, 1, 2, 0, 7, 5, 0, 6, 0, 8, 7, 1, 9, 8, 5, 2, 6, 1, 6, 4, 2, 3, 9, 8, 8, 9, 0, 2, 9, 4, 8, 8, 1, 0, 9, 0, 1, 7, 9, 4, 0, 1, 3, 9, 8, 9, 4, 8, 0, 1, 5, 8, 8, 1, 6, 9, 7, 0, 1, 7, 5, 8, 4, 6, 1, 8, 4, 9, 3, 9, 6, 9, 0, 0, 1, 2, 9, 3, 8, 2, 1, 1, 2, 4, 3, 1, 3, 5, 2, 3, 3, 5, 4, 8, 0, 5, 3, 8, 9, 3, 5, 8, 8, 6, 6, 0, 8, 9, 8, 0, 4, 1, 0, 1, 3, 1, 8, 6, 3, 1, 8, 0, 3, 8, 6, 9, 3, 1, 6, 1, 1, 6, 4, 3, 8, 6, 9, 4, 2, 8, 6, 7, 2, 7, 7, 6, 8, 3, 2, 0, 7, 0, 7, 5, 0, 9, 9, 6, 4, 8, 6, 1, 2, 0, 3, 9, 7, 6, 0, 3, 4, 1, 7, 4, 7, 1, 0, 0, 6, 0, 6, 5, 9, 7, 8, 2, 5, 1, 1, 0, 3, 8, 8, 9, 1, 2, 6, 6, 6, 9, 0, 3, 8, 6, 1, 3, 8, 6, 4, 3, 4, 8, 0, 0, 1, 0, 9, 2, 2, 1, 7, 5, 4, 1, 6, 0, 3, 8, 9, 9, 7, 8, 2, 5, 8, 8, 8, 2, 1, 8, 4, 1, 6, 9, 3, 9, 9, 1, 8, 7, 4, 1, 2, 2, 5, 6, 5, 8, 7, 3, 6, 1, 2, 6, 8, 1, 8, 6, 7, 4, 1, 9, 3, 4, 0, 9, 1, 1, 0, 1, 8, 1, 3, 9, 0, 3, 8, 5, 9, 0, 9, 8, 7, 7, 1, 0, 1, 0, 3, 4, 9, 6, 3, 0, 2, 4, 9, 7, 1, 4, 1, 9, 3, 8, 2, 0, 4, 1, 3, 2, 6, 7, 1, 5, 1, 1, 2, 4, 0, 0, 4, 8, 8, 5, 2, 5, 8, 5, 9, 0, 3, 2, 4, 8, 2, 0, 2, 4, 5, 1, 6, 8, 9, 1, 0, 3, 2, 6, 1, 1, 6, 0, 2, 9, 0, 0, 0, 8, 2, 4, 3, 8, 8, 1, 6, 7, 4, 6, 4, 3, 2, 0, 9, 8, 6, 4, 3, 0, 2, 0, 3, 0, 3, 2, 2, 1, 8, 4, 7, 7, 2, 7, 3, 1, 3, 7, 0, 3, 7, 2, 2, 2, 0, 7, 9, 1, 2, 0, 6, 6, 6, 3, 6, 2, 4, 9, 4, 5, 8, 9, 3, 7, 4, 2, 9, 4, 8, 6, 7, 0, 3, 8, 7, 1, 3, 1, 6, 5, 0, 6, 0, 1, 9, 6, 9, 0, 8, 8, 7, 4, 0, 9, 9, 6, 8, 0, 2, 4, 8, 4, 4, 1, 7, 1, 1, 9, 0, 2, 7, 6, 8, 0, 2, 0, 6, 0, 6, 9, 0, 3, 9, 7, 7, 9, 5, 0, 3, 8, 9, 8, 0, 1, 4, 6, 7, 8, 7, 7, 9, 7, 6, 8, 8, 2, 1, 4, 9, 7, 5, 8, 1, 2, 1, 1, 7, 1, 9, 6, 0, 1, 9, 9, 1, 0, 1, 8, 5, 0, 7, 4, 6, 6, 2, 9, 2, 1, 3, 9, 8, 9, 3, 8, 9, 3, 4, 1, 1, 8, 9, 9, 7, 5, 4, 1, 6, 0, 8, 2, 6, 0, 3, 0, 6, 8, 7, 2, 0, 3, 9, 7, 8, 4, 6, 4, 0, 5, 8, 9, 3, 3, 0, 1, 2, 1, 3, 8, 7, 2, 8, 8, 8, 0, 4, 4, 4, 2, 3, 6, 1, 4, 4, 1, 1, 6, 5, 7, 1, 8, 4, 1, 5, 9, 4, 3, 3, 3, 4, 0, 7, 4, 1, 3, 8, 1, 1, 6, 5, 7, 3, 9, 5, 4, 5, 6, 4, 3, 5, 9, 3, 9, 3, 8, 0, 8, 9, 6, 8, 5, 7, 9, 0, 9, 7, 2, 9, 1, 8, 8, 1, 4, 7, 3, 8, 1, 5, 7, 5, 0, 2, 7, 3, 9, 0, 1, 3, 2, 2, 2, 4, 0, 0, 4, 9, 5, 9, 1, 7, 0, 1, 4, 5, 8, 3, 0, 4, 0, 9, 6, 9, 0, 1, 0, 7, 3, 5, 6, 8, 2, 9, 1, 6, 1, 5, 1, 4, 1, 9, 5, 8, 9, 9, 6, 3, 8, 7, 9, 0, 3, 9, 3, 7, 1, 8, 7, 9, 3, 3, 9, 9, 0, 2, 3, 9, 4, 7, 6, 4, 3, 8, 5, 9, 7, 4, 4, 1, 5, 1, 0, 3, 9, 9, 1, 6, 5, 6, 4, 8, 6, 3, 2, 7, 9, 7, 5, 1, 2, 2, 0, 9, 9, 1, 4, 5, 9, 9, 4, 2, 1, 2, 8, 4, 0, 2, 8, 3, 2, 8, 8, 3, 4, 4, 1, 8, 1, 2, 0, 0, 4, 6, 9, 6, 1, 9, 0, 3, 5, 5, 8, 2, 8, 8, 8, 1, 2, 8, 9, 4, 4, 0, 2, 8, 0, 3, 4, 2, 7, 3, 8, 7, 6, 8, 9, 9, 0, 0, 9, 2, 3, 1, 9, 2, 9, 2, 0, 6, 9, 3, 7, 9, 7, 5, 2, 8, 8, 2, 1, 1, 2, 1, 4, 7, 4, 8, 7, 4, 9, 4, 0, 3, 2, 0, 2, 6, 1, 0, 8, 5, 5, 6, 2, 2, 1, 3, 8, 8, 3, 3, 6, 7, 3, 6, 4, 3, 8, 6, 2, 7, 9, 8, 2, 7, 3, 9, 7, 8, 1, 9, 8, 3, 8, 4, 2, 2, 6, 2, 8, 0, 7, 7, 8, 4, 6, 6, 9, 3, 4, 8, 0, 4, 3, 8, 2, 5, 0, 6, 1, 1, 9, 2, 7, 1, 8, 7, 3, 9, 8, 1, 3, 3, 7, 9, 2, 1, 8, 3, 8, 3, 9, 4, 2, 1, 4, 6, 7, 4, 6, 2, 6, 4, 1, 9, 7, 1, 6, 6, 3, 8, 4, 8, 3, 7, 3, 9, 8, 4, 6, 9, 0, 2, 9, 8, 1, 7, 2, 5, 3, 3, 7, 9, 3, 9, 5, 9, 9, 2, 8, 8, 6, 1, 1, 8, 2, 2, 9, 6, 8, 8, 8, 1, 8, 1, 8, 0, 6, 0, 3, 9, 3, 3, 6, 9, 3, 2, 0, 8, 3, 0, 1, 9, 6, 0, 8, 0, 1, 5, 7, 1, 3, 8, 0, 8, 0, 6, 2, 9, 6, 8, 2, 0, 7, 1, 2, 3, 1, 2, 4, 3, 8, 7, 3, 5, 0, 9, 4, 7, 2, 2, 9, 5, 9, 6, 8, 2, 2, 2, 1, 1, 2, 2, 8, 8, 8, 3, 9, 9, 0, 3, 1, 5, 3, 3, 0, 7, 8, 4, 5, 6, 0, 3, 7, 7, 6, 1, 3, 1, 2, 1, 4, 0, 4, 7, 0, 3, 7, 9, 8, 9, 6, 3, 1, 8, 8, 1, 5, 1, 0, 6, 6, 2, 8, 6, 1, 7, 1, 7, 0, 3, 3, 7, 9, 2, 0, 5, 8, 0, 1, 1, 1, 7, 7, 3, 3, 4, 4, 6, 9, 6, 0, 8, 1, 3, 5, 6, 7, 2, 1, 7, 5, 7, 4, 6, 7, 8, 1, 6, 3, 1, 5, 5, 9, 9, 9, 4, 6, 6, 1, 7, 8, 4, 4, 1, 3, 2, 9, 6, 8, 5, 9, 0, 2, 2, 7, 1, 3, 0, 6, 2, 6, 7, 9, 9, 3, 3, 9, 2, 1, 6, 8, 4, 0, 2, 4, 8, 2, 8, 6, 7, 3, 1, 4, 9, 5, 9, 4, 1, 5, 8, 1, 3, 5, 2, 7, 5, 8, 7, 1, 3, 4, 6, 9, 4, 8, 0, 9, 6, 4, 0, 8, 5, 9, 0, 3, 3, 3, 6, 8, 9, 3, 8, 9, 7, 6, 7, 2, 7, 7, 7, 3, 4, 8, 9, 6, 0, 2, 1, 5, 7, 9, 9, 0, 2, 0, 0, 2, 3, 6, 0, 2, 3, 3, 9, 1, 9, 2, 8, 4, 0, 9, 2, 4, 3, 1, 0, 2, 7, 6, 2, 3, 3, 7, 3, 3, 4, 0, 8, 9, 8, 7, 5, 1, 3, 5, 7, 3, 3, 3, 5, 7, 1, 9, 7, 5, 1, 5, 2, 8, 9, 8, 1, 8, 6, 9, 7, 2, 8, 3, 1, 7, 3, 9, 2, 6, 7, 3, 5, 4, 0, 7, 2, 4, 8, 2, 5, 1, 9, 8, 5, 1, 6, 3, 4, 9, 2, 6, 8, 4, 7, 1, 4, 4, 9, 6, 9, 4, 4, 2, 6, 3, 2, 7, 7, 2, 7, 1, 1, 7, 4, 0, 6, 2, 3, 9, 9, 9, 2, 7, 1, 6, 4, 1, 6, 7, 4, 6, 8, 7, 5, 4, 9, 2, 1, 4, 6, 6, 2, 7, 9, 5, 3, 4, 4, 8, 5, 7, 4, 8, 6, 8, 1, 3, 8, 6, 6, 2, 8, 2, 6, 8, 5, 3, 0, 0, 9, 9, 0, 1, 2, 4, 5, 3, 0, 9, 2, 9, 6, 1, 9, 7, 5, 8, 2, 0, 6, 3, 5, 5, 7, 0, 0, 4, 1, 6, 5, 1, 1, 5, 8, 4, 0, 3, 3, 1, 2, 8, 2, 7, 8, 9, 9, 7, 9, 1, 8, 8, 4, 4, 8, 4, 8, 5, 5, 8, 4, 2, 0, 3, 6, 8, 2, 4, 6, 2, 1, 1, 0, 7, 1, 8, 9, 3, 0, 5, 6, 7, 6, 1, 5, 2, 1, 8, 3, 7, 0, 8, 2, 4, 2, 8, 0, 3, 5, 9, 1, 3, 9, 5, 8, 0, 3, 6, 9, 0, 4, 9, 9, 1, 6, 8, 8, 1, 1, 4, 3, 8, 0, 7, 4, 6, 8, 5, 0, 3, 5, 6, 8, 4, 1, 2, 0, 3, 9, 6, 7, 8, 8, 9, 7, 8, 9, 6, 1, 3, 3, 4, 8, 3, 0, 8, 9, 1, 3, 0, 8, 6, 8, 4, 2, 7, 8, 3, 1, 9, 7, 8, 2, 1, 8, 0, 4, 0, 3, 8, 2, 9, 8, 1, 9, 2, 5, 2, 0, 4, 8, 3, 4, 0, 0, 6, 5, 7, 2, 7, 2, 3, 7, 9, 8, 3, 8, 8, 9, 6, 1, 8, 7, 3, 9, 6, 6, 4, 3, 8, 1, 4, 2, 8, 7, 5, 4, 9, 9, 2, 4, 5, 9, 4, 7, 1, 6, 6, 6, 2, 8, 4, 1, 5, 3, 3, 8, 3, 1, 2, 5, 0, 3, 6, 8, 7, 9, 7, 3, 0, 2, 5, 7, 8, 4, 7, 3, 7, 6, 6, 8, 3, 1, 4, 2, 2, 4, 9, 5, 1, 6, 6, 6, 7, 7, 8, 9, 0, 3, 4, 5, 0, 1, 6, 2, 8, 0, 9, 3, 8, 5, 8, 8, 8, 7, 0, 5, 7, 9, 6, 5, 6, 2, 2, 3, 2, 8, 5, 2, 9, 4, 3, 3, 8, 4, 4, 6, 6, 0, 4, 2, 5, 5, 1, 3, 9, 6, 2, 4, 5, 8, 1, 2, 7, 3, 6, 4, 2, 2, 4, 0, 1, 6, 6, 1, 7, 7, 2, 6, 5, 7, 4, 2, 8, 4, 9, 9, 8, 6, 1, 8, 1, 6, 2, 9, 3, 4, 8, 9, 9, 8, 3, 3, 4, 6, 9, 2, 6, 3, 3, 4, 4, 1, 1, 9, 5, 5, 1, 2, 1, 0, 0, 2, 7, 1, 1, 3, 8, 5, 4, 2, 6, 7, 8, 6, 9, 9, 6, 8, 2, 3, 6, 6, 2, 9, 0, 3, 6, 9, 5, 7, 1, 3, 7, 8, 2, 9, 7, 7, 9, 9, 5, 6, 8, 9, 8, 5, 3, 1, 8, 0, 7, 8, 0, 5, 9, 2, 8, 6, 2, 0, 0, 7, 0, 0, 8, 8, 1, 7, 1, 1, 3, 1, 7, 8, 5, 8, 3, 2, 3, 2, 9, 4, 6, 3, 7, 1, 5, 7, 8, 4, 8, 3, 0, 3, 4, 8, 0, 2, 8, 7, 4, 6, 3, 4, 9, 8, 6, 1, 7, 5, 9, 4, 6, 9, 2, 1, 7, 5, 7, 6, 4, 3, 6, 6, 9, 6, 5, 1, 5, 2, 6, 5, 0, 4, 1, 4, 2, 7, 8, 9, 8, 8, 0, 6, 2, 4, 9, 9, 9, 3, 3, 5, 3, 1, 0, 2, 7, 4, 1, 1, 8, 2, 7, 7, 2, 8, 0, 6, 8, 1, 5, 8, 4, 4, 8, 5, 3, 2, 1, 5, 7, 4, 4, 9, 2, 5, 8, 5, 3, 7, 7, 3, 3, 5, 7, 0, 7, 9, 4, 2, 6, 8, 9, 1, 9, 9, 7, 2, 2, 9, 7, 8, 0, 9, 4, 6, 7, 3, 5, 7, 7, 5, 9, 9, 0, 7, 8, 0, 6, 4, 6, 6, 8, 5, 4, 8, 8, 2, 8, 6, 8, 6, 7, 7, 9, 4, 4, 4, 1, 0, 6, 8, 6, 7, 5, 1, 8, 1, 9, 3, 7, 2, 6, 2, 4, 9, 8, 3, 2, 9, 6, 0, 2, 9, 8, 9, 2, 2, 6, 0, 3, 3, 6, 6, 1, 6, 1, 0, 8, 0, 0, 9, 3, 3, 9, 9, 3, 3, 5, 9, 8, 1, 8, 5, 8, 6, 2, 0, 6, 8, 0, 0, 2, 5, 5, 1, 1, 1, 8, 2, 4, 2, 8, 7, 9, 2, 9, 8, 2, 8, 2, 6, 5, 5, 8, 5, 8, 0, 0, 3, 2, 9, 7, 7, 8, 2, 1, 8, 1, 4, 4, 2, 7, 6, 8, 4, 7, 2, 7, 7, 5, 8, 8, 5, 5, 9, 3, 9, 7, 6, 0, 4, 8, 3, 6, 2, 4, 8, 3, 4, 8, 0, 9, 9, 0, 3, 5, 1, 1, 1, 9, 4, 8, 0, 8, 8, 2, 5, 2, 5, 8, 7, 5, 0, 2, 8, 1, 0, 4, 3, 4, 2, 5, 0, 7, 3, 6, 3, 7, 5, 3, 3, 2, 8, 6, 2, 4, 0, 6, 0, 6, 2, 1, 4, 7, 8, 0, 3, 1, 3, 5, 3, 7, 4, 0, 2, 4, 0, 2, 4, 2, 4, 3, 5, 3, 7, 6, 2, 6, 0, 6, 7, 9, 6, 4, 3, 2, 8, 2, 7, 5, 2, 3, 6, 0, 3, 0, 8, 5, 1, 5, 1, 8, 4, 8, 8, 8, 1, 8, 8, 4, 1, 7, 0, 4, 4, 1, 8, 7, 7, 4, 0, 3, 6, 3, 4, 2, 2, 8, 2, 1, 4, 3, 1, 4, 8, 4, 0, 8, 2, 8, 8, 3, 2, 8, 5, 8, 6, 3, 3, 3, 7, 1, 9, 6, 6, 7, 8, 9, 0, 2, 1, 4, 2, 4, 5, 1, 8, 6, 8, 7, 6, 7, 6, 9, 8, 4, 7, 4, 1, 4, 6, 2, 4, 3, 8, 8, 9, 7, 6, 3, 9, 1, 6, 3, 8, 0, 9, 6, 4, 2, 5, 6, 3, 5, 2, 0, 5, 7, 3, 9, 5, 5, 0, 0, 4, 3, 1, 9, 1, 1, 1, 4, 8, 6, 4, 4, 3, 0, 8, 8, 1, 4, 2, 4, 0, 1, 0, 3, 9, 0, 8, 8, 7, 0, 8, 8, 8, 6, 8, 5, 6, 6, 5, 9, 4, 6, 4, 2, 1, 8, 5, 2, 7, 0, 1, 0, 0, 9, 3, 2, 1, 6, 8, 7, 7, 5, 5, 2, 8, 3, 3, 2, 8, 8, 3, 0, 9, 9, 6, 4, 6, 8, 0, 4, 3, 6, 7, 5, 3, 2, 7, 7, 5, 6, 2, 3, 3, 6, 4, 6, 1, 3, 1, 7, 8, 2, 6, 6, 4, 4, 8, 6, 7, 8, 8, 5, 2, 8, 9, 8, 0, 9, 2, 9, 3, 2, 4, 0, 6, 6, 2, 4, 7, 8, 1, 3, 8, 1, 2, 7, 1, 8, 7, 9, 9, 4, 3, 4, 3, 3, 1, 2, 6, 8, 8, 1, 2, 1, 1, 0, 8, 6, 5, 2, 6, 2, 2, 3, 6, 9, 7, 4, 9, 0, 1, 1, 1, 1, 3, 5, 1, 1, 2, 3, 1, 2, 6, 1, 9, 0, 8, 0, 2, 1, 4, 4, 5, 7, 0, 8, 7, 8, 1, 3, 7, 2, 2, 2, 4, 2, 9, 3, 9, 1, 8, 3, 2, 5, 9, 4, 3, 7, 1, 0, 4, 9, 2, 9, 2, 0, 0, 5, 0, 3, 6, 0, 2, 7, 5, 0, 7, 4, 9, 9, 3, 6, 2, 9, 1, 3, 2, 3, 0, 0, 6, 3, 8, 7, 0, 6, 2, 0, 4, 9, 1, 5, 3, 5, 8, 9, 6, 7, 1, 5, 0, 1, 0, 0, 6, 4, 7, 9, 4, 9, 3, 8, 8, 9, 6, 7, 0, 8, 1, 3, 8, 7, 7, 4, 2, 1, 5, 7, 1, 7, 8, 2, 8, 0, 8, 3, 1, 0, 1, 3, 3, 6, 6, 6, 6, 1, 0, 8, 3, 7, 0, 5, 9, 6, 6, 2, 2, 5, 6, 1, 7, 5, 1, 7, 8, 1, 0, 4, 6, 3, 0, 2, 1, 8, 8, 3, 0, 7, 2, 8, 2, 7, 0, 8, 4, 5, 6, 7, 3, 8, 5, 0, 3, 3, 8, 1, 4, 4, 8, 8, 3, 9, 6, 1, 1, 6, 6, 4, 4, 0, 0, 1, 4, 2, 5, 9, 6, 8, 8, 5, 9, 0, 3, 0, 9, 2, 6, 3, 9, 3, 9, 6, 8, 9, 8, 3, 7, 2, 7, 1, 7, 4, 6, 7, 8, 6, 1, 8, 7, 9, 5, 6, 1, 2, 9, 3, 1, 8, 3, 1, 4, 1, 1, 8, 5, 8, 2, 2, 8, 2, 7, 5, 3, 6, 8, 8, 9, 6, 6, 1, 9, 9, 0, 0, 2, 3, 4, 7, 5, 3, 6, 9, 9, 2, 3, 9, 7, 3, 8, 6, 0, 0, 0, 9, 8, 6, 3, 6, 6, 6, 0, 7, 7, 3, 8, 1, 9, 6, 7, 9, 4, 7, 0, 1, 6, 4, 2, 2, 8, 5, 3, 8, 5, 8, 2, 8, 3, 2, 4, 7, 4, 2, 6, 3, 7, 8, 2, 0, 3, 4, 8, 8, 8, 7, 1, 4, 8, 8, 8, 1, 5, 2, 6, 7, 7, 4, 6, 5, 4, 6, 0, 0, 7, 0, 8, 8, 3, 6, 3, 8, 8, 3, 6, 1, 7, 9, 9, 1, 8, 8, 1, 4, 1, 9, 5, 9, 1, 9, 8, 2, 6, 4, 8, 3, 1, 7, 9, 8, 1, 6, 8, 0, 6, 1, 1, 2, 1, 0, 7, 0, 7, 4, 4, 4, 2, 6, 3, 1, 9, 8, 6, 5, 5, 5, 7, 6, 5, 0, 7, 8, 3, 9, 4, 3, 4, 3, 7, 5, 6, 2, 6, 0, 2, 9, 8, 1, 1, 2, 5, 3, 9, 8, 8, 9, 6, 9, 0, 5, 5, 2, 0, 1, 7, 4, 7, 9, 3, 0, 3, 5, 1, 9, 5, 6, 9, 6, 3, 1, 4, 8, 2, 8, 8, 6, 6, 8, 3, 3, 4, 2, 2, 8, 0, 1, 8, 0, 7, 1, 9, 3, 7, 1, 0, 4, 3, 6, 7, 8, 3, 2, 7, 7, 6, 5, 4, 7, 6, 8, 8, 6, 1, 1, 2, 4, 6, 1, 3, 1, 8, 1, 9, 4, 3, 4, 3, 3, 4, 3, 7, 9, 9, 8, 0, 8, 2, 5, 8, 9, 0, 7, 1, 7, 4, 3, 6, 8, 9, 3, 9, 8, 7, 4, 0, 8, 9, 3, 9, 7, 5, 0, 2, 5, 2, 2, 8, 2, 0, 5, 4, 8, 3, 2, 4, 3, 0, 1, 2, 8, 1, 8, 1, 2, 4, 8, 3, 6, 2, 4, 9, 3, 7, 3, 6, 1, 5, 2, 5, 8, 5, 6, 8, 2, 2, 2, 1, 3, 6, 3, 9, 1, 7, 8, 0, 6, 7, 4, 6, 0, 8, 8, 6, 1, 6, 4, 7, 6, 7, 3, 4, 3, 7, 4, 4, 6, 6, 9, 3, 7, 9, 3, 8, 2, 5, 4, 5, 4, 0, 0, 9, 7, 7, 5, 7, 4, 5, 4, 7, 9, 7, 1, 8, 9, 9, 5, 7, 1, 2, 0, 6, 9, 6, 5, 9, 0, 4, 8, 0, 5, 9, 3, 3, 8, 7, 0, 7, 0, 5, 4, 3, 5, 7, 0, 3, 4, 8, 1, 0, 0, 9, 9, 6, 4, 4, 5, 1, 0, 0, 9, 9, 7, 4, 7, 2, 1, 8, 4, 4, 4, 5, 6, 6, 2, 1, 1, 4, 2, 1, 8, 7, 1, 9, 8, 3, 3, 8, 0, 0, 5, 1, 2, 9, 4, 0, 0, 8, 7, 5, 6, 1, 9, 7, 2, 8, 7, 8, 2, 9, 1, 5, 2, 8, 8, 9, 9, 3, 8, 8, 3, 3, 4, 8, 3, 2, 8, 1, 4, 9, 6, 4, 8, 4, 3, 1, 8, 1, 3, 4, 5, 6, 3, 1, 9, 2, 6, 5, 1, 4, 7, 8, 0, 0, 6, 1, 0, 7, 7, 3, 8, 7, 4, 7, 7, 0, 0, 8, 1, 3, 7, 2, 1, 4, 7, 7, 1, 8, 8, 2, 9, 0, 0, 3, 1, 7, 6, 6, 3, 6, 1, 4, 8, 9, 4, 9, 3, 6, 8, 8, 8, 8, 8, 8, 9, 3, 8, 3, 7, 0, 0, 4, 0, 7, 7, 4, 8, 9, 2, 8, 3, 3, 1, 8, 8, 1, 1, 6, 1, 9, 8, 3, 1, 4, 7, 1, 4, 7, 3, 5, 1, 6, 9, 5, 3, 8, 2, 8, 8, 0, 6, 6, 0, 6, 0, 0, 3, 6, 2, 2, 6, 8, 1, 7, 1, 5, 3, 4, 6, 2, 7, 6, 8, 1, 2, 4, 2, 2, 3, 5, 6, 7, 8, 9, 4, 4, 6, 2, 7, 8, 5, 1, 7, 1, 6, 2, 1, 1, 2, 2, 8, 4, 0, 7, 9, 2, 7, 6, 7, 1, 2, 2, 3, 5, 2, 4, 6, 9, 4, 9, 8, 0, 4, 3, 9, 3, 4, 1, 4, 7, 5, 8, 6, 9, 9, 9, 9, 4, 1, 4, 8, 3, 5, 6, 6, 0, 2, 9, 2, 0, 4, 8, 6, 9, 9, 6, 3, 6, 2, 1, 5, 6, 0, 0, 2, 8, 4, 9, 6, 7, 5, 2, 6, 8, 0, 8, 1, 8, 9, 7, 3, 0, 6, 8, 3, 4, 5, 3, 2, 4, 6, 7, 4, 8, 2, 8, 9, 9, 0, 6, 0, 2, 1, 1, 4, 8, 7, 2, 3, 2, 1, 9, 6, 0, 3, 8, 3, 3, 9, 2, 0, 7, 7, 2, 0, 8, 6, 1, 1, 1, 6, 1, 2, 4, 1, 8, 0, 8, 8, 3, 5, 0, 8, 1, 8, 8, 1, 8, 7, 8, 9, 7, 9, 9, 4, 3, 8, 3, 7, 0, 0, 9, 1, 7, 0, 4, 0, 0, 0, 0, 5, 7, 6, 3, 2, 6, 8, 2, 3, 7, 2, 8, 1, 8, 1, 4, 9, 0, 7, 8, 8, 2, 1, 9, 1, 7, 0, 8, 5, 3, 6, 2, 6, 5, 0, 6, 4, 0, 1, 6, 1, 2, 6, 4, 6, 4, 9, 1, 9, 5, 9, 8, 5, 6, 0, 0, 1, 4, 9, 1, 3, 4, 8, 6, 4, 5, 1, 9, 8, 9, 6, 4, 1, 8, 2, 3, 7, 2, 8, 3, 3, 1, 6, 3, 1, 4, 2, 2, 1, 6, 2, 9, 2, 0, 0, 7, 4, 5, 4, 4, 5, 8, 6, 1, 8, 1, 8, 4, 6, 4, 1, 2, 9, 9, 6, 6, 9, 7, 6, 4, 6, 3, 9, 5, 0, 0, 6, 2, 1, 7, 6, 4, 8, 3, 4, 1, 4, 6, 1, 9, 1, 8, 0, 6, 8, 1, 2, 0, 9, 8, 6, 2, 4, 4, 7, 7, 8, 8, 3, 7, 6, 3, 8, 8, 5, 2, 7, 4, 6, 8, 3, 3, 7, 1, 3, 8, 8, 8, 0, 0, 6, 8, 3, 8, 9, 2, 1, 6, 3, 6, 9, 3, 1, 9, 7, 4, 8, 7, 7, 4, 8, 0, 3, 8, 7, 1, 3, 0, 8, 4, 4, 2, 4, 9, 5, 4, 8, 9, 3, 9, 7, 6, 6, 8, 5, 2, 3, 7, 7, 4, 9, 5, 3, 8, 5, 7, 2, 7, 4, 3, 0, 4, 7, 5, 8, 5, 1, 0, 0, 4, 7, 7, 0, 7, 2, 8, 8, 0, 1, 9, 5, 9, 8, 5, 4, 7, 4, 9, 8, 9, 1, 3, 0, 4, 0, 3, 7, 7, 2, 0, 2, 4, 7, 2, 2, 1, 4, 4, 6, 8, 6, 5, 0, 3, 8, 4, 6, 7, 6, 2, 1, 8, 4, 5, 2, 1, 8, 5, 7, 4, 0, 9, 9, 1, 7, 2, 1, 8, 5, 1, 8, 4, 5, 5, 7, 6, 8, 9, 2, 6, 6, 1, 7, 5, 4, 3, 8, 6, 9, 2, 1, 1, 4, 9, 5, 8, 8, 0, 6, 0, 0, 4, 2, 3, 6, 7, 4, 1, 8, 4, 1, 2, 0, 8, 6, 1, 5, 2, 2, 5, 7, 4, 6, 9, 6, 1, 9, 0, 8, 9, 4, 4, 9, 1, 3, 3, 4, 8, 9, 5, 4, 5, 6, 4, 9, 4, 7, 0, 1, 2, 0, 1, 8, 0, 6, 6, 1, 7, 3, 4, 9, 0, 9, 6, 9, 7, 3, 0, 2, 1, 7, 0, 0, 2, 1, 1, 6, 6, 7, 0, 2, 1, 8, 5, 5, 4, 3, 6, 1, 4, 0, 2, 4, 0, 1, 8, 4, 1, 0, 8, 2, 7, 4, 3, 3, 3, 1, 4, 2, 0, 6, 0, 4, 7, 9, 3, 7, 9, 9, 8, 7, 1, 3, 4, 3, 1, 7, 2, 7, 3, 9, 3, 7, 1, 4, 9, 3, 1, 3, 3, 8, 4, 1, 0, 9, 7, 3, 2, 3, 7, 7, 1, 7, 9, 6, 4, 7, 2, 6, 5, 6, 4, 0, 4, 8, 1, 8, 3, 9, 0, 1, 2, 2, 5, 8, 3, 4, 8, 6, 4, 2, 3, 1, 0, 8, 4, 9, 4, 0, 9, 6, 8, 5, 0, 4, 9, 1, 0, 2, 1, 7, 3, 1, 6, 4, 7, 8, 7, 8, 5, 2, 4, 7, 7, 2, 2, 8, 4, 1, 7, 5, 3, 2, 1, 6, 5, 1, 4, 8, 8, 2, 6, 1, 8, 2, 5, 9, 2, 2, 4, 0, 2, 0, 2, 9, 4, 4, 4, 7, 7, 5, 8, 9, 1, 5, 0, 6, 8, 1, 0, 0, 9, 4, 9, 3, 5, 6, 2, 9, 1, 9, 1, 8, 3, 0, 6, 4, 9, 2, 8, 4, 5, 1, 2, 2, 1, 2, 0, 6, 0, 7, 8, 8, 8, 7, 2, 2, 6, 4, 8, 7, 0, 0, 4, 9, 8, 1, 5, 3, 2, 4, 2, 2, 9, 8, 8, 2, 0, 0, 9, 6, 3, 1, 5, 0, 8, 3, 2, 8, 2, 4, 6, 3, 2, 6, 8, 0, 7, 5, 2, 0, 2, 9, 4, 5, 0, 0, 8, 4, 9, 4, 7, 9, 5, 4, 2, 1, 6, 1, 5, 9, 4, 1, 1, 8, 8, 3, 4, 9, 0, 9, 0, 4, 9, 3, 2, 3, 0, 4, 7, 5, 1, 5, 6, 1, 7, 8, 3, 6, 1, 4, 0, 3, 5, 3, 1, 2, 9, 5, 9, 1, 9, 7, 0, 6, 7, 1, 8, 8, 7, 2, 1, 4, 8, 0, 3, 6, 0, 1, 3, 4, 4, 9, 7, 0, 4, 4, 1, 2, 0, 3, 8, 6, 8, 1, 4, 0, 7, 2, 8, 8, 8, 8, 1, 9, 9, 0, 6, 0, 5, 3, 9, 3, 8, 3, 7, 1, 6, 2, 9, 2, 5, 0, 4, 7, 7, 8, 4, 0, 6, 3, 5, 2, 6, 0, 0, 9, 7, 9, 2, 4, 5, 0, 6, 4, 1, 2, 9, 8, 9, 7, 8, 8, 9, 1, 7, 7, 6, 7, 3, 3, 2, 4, 3, 8, 8, 6, 2, 5, 7, 4, 7, 3, 4, 1, 2, 8, 1, 4, 8, 2, 2, 5, 7, 8, 8, 6, 7, 4, 0, 3, 2, 1, 4, 3, 8, 8, 0, 7, 1, 1, 3, 9, 8, 9, 1, 7, 9, 3, 3, 0, 6, 6, 6, 2, 1, 9, 6, 2, 4, 6, 5, 3, 9, 8, 6, 1, 7, 5, 6, 8, 5, 9, 6, 8, 3, 0, 8, 8, 2, 8, 9, 2, 9, 6, 0, 5, 3, 6, 3, 8, 2, 0, 9, 9, 0, 3, 1, 4, 7, 8, 2, 8, 8, 5, 2, 6, 0, 9, 7, 6, 2, 1, 8, 4, 4, 7, 7, 8, 9, 6, 5, 8, 9, 9, 9, 4, 0, 3, 2, 6, 3, 9, 4, 9, 5, 4, 4, 1, 9, 2, 0, 6, 8, 8, 9, 7, 4, 7, 9, 5, 3, 1, 0, 2, 3, 4, 4, 2, 6, 8, 0, 5, 8, 1, 8, 5, 3, 1, 6, 1, 6, 1, 6, 4, 3, 9, 4, 6, 3, 1, 1, 6, 9, 3, 7, 2, 3, 5, 5, 5, 6, 0, 6, 1, 7, 8, 8, 0, 8, 3, 1, 3, 9, 2, 7, 0, 8, 0, 0, 3, 0, 6, 5, 1, 5, 6, 2, 9, 7, 9, 6, 9, 3, 6, 2, 1, 7, 3, 3, 9, 4, 3, 6, 8, 1, 1, 5, 8, 3, 4, 2, 2, 1, 1, 4, 2, 8, 1, 8, 9, 0, 8, 1, 8, 1, 9, 9, 0, 0, 4, 7, 1, 0, 8, 1, 3, 9, 9, 7, 1, 2, 9, 5, 6, 1, 8, 8, 6, 1, 9, 3, 8, 2, 5, 3, 1, 9, 0, 0, 7, 8, 5, 8, 5, 6, 3, 2, 2, 4, 4, 9, 9, 8, 8, 8, 1, 9, 6, 7, 0, 4, 4, 5, 2, 9, 2, 1, 0, 9, 7, 7, 7, 6, 0, 1, 9, 6, 0, 8, 4, 1, 8, 9, 3, 1, 0, 3, 6, 5, 7, 6, 6, 8, 1, 8, 1, 7, 3, 3, 4, 1, 8, 3, 0, 8, 2, 9, 1, 4, 1, 9, 2, 1, 7, 5, 7, 6, 3, 2, 4, 8, 7, 8, 0, 2, 1, 4, 3, 4, 0, 0, 9, 1, 1, 1, 1, 4, 8, 7, 9, 2, 9, 1, 6, 4, 1, 2, 2, 1, 1, 7, 3, 9, 4, 7, 9, 9, 0, 0, 4, 1, 1, 3, 8, 5, 0, 1, 4, 6, 6, 7, 8, 9, 7, 5, 2, 6, 1, 1, 3, 6, 8, 0, 2, 5, 7, 8, 9, 0, 9, 4, 4, 3, 1, 2, 9, 1, 3, 7, 6, 9, 1, 9, 3, 7, 1, 7, 1, 8, 3, 6, 0, 1, 5, 6, 6, 2, 3, 9, 7, 6, 6, 9, 7, 6, 6, 2, 4, 8, 8, 1, 2, 3, 7, 9, 5, 9, 4, 1, 0, 3, 1, 2, 7, 9, 0, 2, 4, 1, 8, 5, 4, 0, 0, 0, 2, 7, 0, 8, 8, 4, 6, 3, 4, 0, 6, 7, 1, 7, 8, 3, 1, 6, 3, 5, 9, 9, 1, 6, 1, 1, 4, 0, 9, 2, 4, 7, 8, 2, 8, 3, 0, 6, 6, 1, 6, 9, 9, 3, 7, 8, 5, 7, 5, 0, 9, 4, 1, 8, 8, 1, 1, 4, 7, 8, 6, 8, 2, 9, 8, 1, 5, 3, 2, 7, 5, 8, 0, 1, 0, 3, 3, 1, 5, 8, 8, 9, 3, 1, 3, 8, 6, 3, 1, 6, 9, 2, 8, 7, 9, 0, 8, 5, 4, 9, 5, 8, 8, 9, 8, 4, 4, 9, 1, 0, 9, 6, 7, 0, 6, 1, 3, 0, 6, 8, 2, 0, 1, 5, 6, 4, 8, 2, 5, 3, 3, 8, 1, 3, 3, 2, 0, 5, 2, 5, 1, 1, 8, 3, 9, 3, 4, 7, 3, 4, 7, 6, 7, 9, 7, 7, 1, 8, 9, 2, 4, 6, 7, 3, 1, 5, 4, 4, 0, 9, 7, 1, 6, 3, 0, 2, 7, 2, 7, 1, 3, 2, 4, 2, 8, 6, 8, 5, 1, 0, 5, 3, 1, 7, 3, 9, 8, 0, 9, 2, 9, 9, 6, 6, 3, 2, 6, 9, 5, 5, 4, 1, 1, 4, 6, 0, 7, 5, 8, 0, 0, 3, 9, 8, 1, 0, 9, 2, 6, 2, 0, 2, 8, 7, 0, 7, 3, 7, 5, 1, 1, 5, 7, 7, 7, 3, 4, 1, 0, 6, 9, 9, 6, 9, 1, 5, 4, 5, 8, 9, 9, 1, 1, 9, 9, 1, 7, 7, 4, 5, 8, 2, 8, 1, 3, 6, 8, 5, 2, 7, 1, 4, 0, 8, 5, 8, 9, 8, 3, 4, 5, 5, 2, 1, 3, 9, 2, 2, 9, 4, 9, 9, 5, 9, 1, 3, 2, 9, 6, 2, 2, 0, 7, 8, 7, 3, 2, 9, 4, 1, 2, 9, 2, 2, 8, 1, 0, 0, 9, 0, 6, 2, 4, 1, 0, 4, 3, 1, 1, 8, 9, 0, 8, 2, 9, 5, 0, 2, 3, 0, 7, 2, 2, 6, 0, 1, 1, 1, 7, 6, 1, 7, 7, 3, 8, 5, 0, 9, 1, 0, 8, 3, 4, 9, 8, 2, 6, 8, 0, 5, 3, 7, 3, 3, 4, 4, 7, 8, 1, 9, 3, 4, 5, 2, 7, 4, 3, 0, 7, 4, 1, 8, 4, 3, 7, 6, 2, 3, 0, 9, 1, 4, 3, 9, 9, 1, 7, 5, 6, 8, 4, 1, 8, 5, 2, 2, 2, 8, 4, 0, 7, 6, 4, 3, 2, 3, 1, 7, 6, 7, 6, 8, 9, 0, 2, 3, 6, 9, 6, 9, 4, 5, 9, 8, 9, 7, 8, 5, 9, 3, 2, 7, 4, 7, 8, 1, 6, 1, 8, 9, 7, 2, 1, 6, 0, 5, 8, 5, 7, 1, 4, 7, 2, 1, 7, 6, 6, 2, 4, 2, 3, 8, 5, 2, 9, 0, 2, 8, 3, 7, 8, 6, 0, 7, 2, 7, 2, 9, 8, 2, 0, 2, 9, 3, 0, 6, 2, 8, 0, 3, 7, 8, 1, 9, 0, 3, 1, 4, 5, 7, 9, 3, 1, 4, 3, 0, 4, 4, 2, 2, 1, 9, 5, 7, 2, 6, 2, 6, 7, 7, 8, 0, 5, 2, 7, 0, 8, 0, 2, 0, 2, 4, 8, 5, 4, 0, 8, 0, 7, 5, 1, 4, 2, 5, 6, 1, 9, 8, 8, 9, 4, 5, 7, 0, 8, 6, 6, 6, 5, 0, 0, 6, 9, 5, 4, 4, 8, 2, 2, 2, 1, 7, 7, 8, 0, 0, 1, 6, 5, 4, 2, 0, 2, 5, 7, 8, 0, 2, 4, 4, 9, 4, 4, 6, 6, 4, 0, 3, 9, 1, 3, 2, 4, 0, 0, 1, 1, 7, 6, 2, 5, 1, 2, 7, 5, 1, 8, 0, 1, 5, 7, 8, 5, 9, 1, 2, 7, 7, 0, 0, 1, 7, 3, 0, 3, 1, 4, 8, 3, 8, 3, 7, 3, 9, 1, 7, 7, 1, 2, 6, 5, 8, 0, 3, 2, 0, 6, 5, 4, 6, 7, 0, 3, 4, 6, 3, 5, 2, 7, 7, 3, 5, 4, 9, 0, 3, 1, 3, 3, 1, 2, 0, 2, 9, 8, 9, 4, 2, 9, 2, 8, 4, 5, 3, 4, 2, 6, 6, 5, 8, 9, 9, 7, 1, 9, 7, 4, 4, 8, 8, 7, 6, 1, 4, 4, 9, 0, 9, 6, 7, 8, 9, 4, 1, 9, 6, 7, 3, 7, 6, 2, 5, 9, 9, 9, 4, 2, 5, 5, 7, 0, 8, 6, 1, 8, 4, 6, 2, 7, 2, 7, 9, 9, 3, 4, 7, 1, 7, 6, 6, 1, 3, 0, 1, 3, 0, 1, 3, 2, 6, 5, 3, 4, 3, 9, 9, 3, 3, 0, 7, 5, 9, 6, 6, 4, 6, 8, 7, 3, 6, 1, 8, 8, 6, 7, 9, 1, 6, 0, 4, 2, 2, 5, 8, 9, 1, 9, 2, 9, 8, 7, 4, 1, 8, 7, 1, 8, 8, 2, 6, 7, 6, 0, 7, 6, 3, 1, 0, 7, 9, 8, 7, 8, 1, 0, 9, 9, 4, 0, 0, 7, 7, 4, 4, 7, 1, 8, 7, 1, 3, 3, 0, 0, 9, 1, 7, 0, 2, 0, 8, 8, 0, 2, 7, 9, 2, 4, 4, 9, 8, 8, 0, 4, 3, 6, 1, 9, 4, 8, 9, 6, 8, 9, 4, 9, 8, 8, 9, 2, 3, 8, 6, 4, 4, 5, 0, 1, 9, 0, 5, 8, 8, 1, 8, 4, 8, 2, 5, 8, 5, 1, 1, 8, 8, 0, 8, 4, 8, 9, 3, 2, 0, 8, 4, 9, 0, 6, 0, 1, 9, 9, 9, 4, 1, 4, 9, 1, 6, 5, 1, 8, 3, 1, 7, 4, 6, 3, 9, 8, 7, 7, 5, 4, 8, 8, 5, 2, 4, 8, 8, 3, 1, 1, 3, 2, 9, 0, 4, 9, 4, 9, 0, 0, 3, 1, 4, 2, 0, 4, 1, 0, 7, 1, 9, 4, 8, 1, 4, 7, 8, 8, 1, 5, 4, 3, 0, 8, 9, 5, 9, 5, 0, 9, 5, 1, 7, 8, 8, 9, 2, 1, 4, 9, 6, 3, 8, 8, 7, 9, 7, 6, 3, 3, 5, 3, 2, 0, 8, 8, 1, 1, 9, 1, 3, 0, 6, 9, 0, 0, 6, 9, 0, 1, 7, 8, 2, 6, 7, 7, 7, 7, 2, 2, 8, 1, 0, 9, 0, 2, 0, 7, 3, 7, 4, 5, 7, 8, 1, 1, 6, 4, 4, 7, 2, 6, 1, 0, 8, 2, 9, 8, 4, 5, 2, 6, 6, 1, 8, 3, 1, 1, 6, 3, 8, 2, 6, 7, 6, 0, 9, 8, 2, 9, 0, 0, 5, 8, 0, 1, 0, 8, 7, 2, 9, 6, 9, 0, 2, 4, 1, 2, 0, 1, 4, 7, 6, 6, 9, 1, 7, 0, 7, 1, 1, 8, 8, 5, 2, 9, 1, 2, 0, 0, 7, 5, 9, 0, 3, 2, 6, 7, 5, 3, 2, 1, 9, 4, 6, 0, 9, 1, 8, 8, 8, 1, 8, 8, 3, 4, 3, 3, 6, 2, 1, 8, 6, 4, 6, 3, 6, 8, 1, 8, 0, 5, 0, 0, 9, 8, 1, 9, 0, 1, 8, 4, 2, 8, 9, 3, 1, 4, 2, 3, 4, 5, 0, 0, 3, 0, 6, 6, 1, 9, 1, 4, 9, 8, 2, 0, 4, 1, 5, 6, 4, 9, 4, 1, 0, 4, 1, 7, 0, 7, 3, 6, 9, 9, 6, 2, 6, 8, 5, 0, 6, 3, 1, 0, 0, 8, 6, 6, 1, 3, 1, 9, 1, 6, 9, 9, 9, 3, 2, 0, 9, 3, 1, 6, 2, 3, 8, 5, 1, 6, 7, 9, 3, 9, 5, 5, 8, 4, 3, 9, 4, 0, 9, 7, 8, 5, 8, 1, 5, 0, 7, 9, 0, 4, 0, 0, 4, 8, 5, 1, 8, 9, 0, 0, 7, 4, 3, 8, 6, 7, 8, 7, 7, 1, 6, 8, 3, 4, 7, 6, 3, 0, 7, 9, 6, 8, 3, 9, 2, 3, 0, 1, 2, 8, 9, 8, 3, 9, 3, 3, 8, 9, 5, 7, 9, 2, 9, 7, 5, 2, 4, 8, 8, 7, 4, 3, 9, 4, 7, 5, 6, 0, 3, 6, 5, 0, 4, 8, 3, 9, 2, 7, 0, 7, 4, 2, 9, 3, 2, 0, 6, 2, 4, 0, 1, 4, 0, 6, 7, 0, 0, 5, 5, 2, 1, 3, 7, 1, 2, 6, 3, 8, 7, 0, 3, 9, 5, 4, 4, 9, 2, 8, 0, 0, 9, 9, 3, 3, 5, 8, 2, 7, 8, 9, 5, 1, 1, 3, 6, 1, 2, 3, 5, 4, 2, 1, 3, 7, 3, 7, 5, 6, 9, 7, 4, 9, 0, 8, 8, 6, 7, 1, 5, 7, 4, 7, 0, 9, 3, 2, 1, 7, 2, 4, 3, 3, 9, 7, 3, 6, 0, 0, 1, 3, 0, 5, 2, 8, 9, 7, 5, 2, 5, 8, 0, 9, 7, 6, 7, 6, 2, 3, 3, 7, 7, 3, 2, 0, 3, 4, 6, 8, 2, 8, 1, 1, 6, 9, 1, 1, 8, 1, 8, 3, 0, 6, 3, 2, 4, 3, 9, 2, 0, 9, 5, 9, 8, 2, 7, 8, 8, 0, 3, 1, 4, 1, 0, 1, 9, 8, 9, 2, 2, 2, 1, 5, 9, 2, 2, 6, 8, 3, 9, 1, 9, 1, 0, 3, 2, 9, 7, 4, 4, 2, 2, 6, 1, 1, 9, 1, 5, 2, 8, 3, 0, 5, 6, 8, 3, 6, 2, 7, 9, 0, 8, 8, 7, 4, 6, 9, 8, 3, 7, 5, 2, 7, 6, 6, 7, 7, 6, 6, 2, 2, 8, 9, 8, 4, 7, 3, 5, 2, 8, 8, 8, 0, 6, 6, 0, 0, 0, 1, 0, 6, 3, 4, 2, 0, 6, 2, 0, 9, 8, 1, 6, 8, 5, 1, 9, 8, 8, 9, 0, 8, 1, 6, 4, 8, 5, 1, 8, 0, 6, 1, 4, 2, 6, 7, 5, 5, 4, 2, 7, 5, 5, 8, 9, 3, 1, 9, 3, 6, 1, 7, 1, 3, 4, 6, 7, 9, 7, 1, 3, 0, 1, 8, 5, 2, 1, 1, 9, 4, 9, 7, 4, 1, 5, 3, 0, 1, 0, 8, 7, 3, 7, 8, 0, 7, 7, 7, 7, 1, 4, 4, 6, 9, 9, 5, 7, 1, 8, 8, 9, 4, 1, 6, 7, 3, 4, 4, 8, 3, 8, 7, 4, 7, 1, 9, 0, 4, 8, 6, 3, 5, 3, 7, 1, 8, 7, 9, 7, 0, 3, 1, 7, 2, 7, 0, 8, 5, 2, 6, 7, 5, 7, 9, 6, 7, 2, 8, 2, 8, 2, 6, 9, 9, 7, 8, 2, 4, 9, 6, 4, 4, 9, 6, 7, 1, 8, 6, 0, 3, 2, 7, 0, 9, 5, 2, 3, 5, 3, 7, 9, 7, 9, 2, 3, 8, 5, 2, 7, 5, 0, 1, 1, 8, 0, 8, 8, 6, 3, 0, 8, 4, 9, 6, 4, 1, 0, 9, 3, 8, 4, 2, 8, 1, 1, 6, 3, 1, 2, 7, 8, 6, 2, 8, 7, 8, 9, 7, 7, 0, 2, 3, 0, 8, 9, 8, 4, 4, 8, 9, 7, 7, 9, 3, 8, 3, 3, 8, 0, 6, 2, 7, 7, 2, 5, 2, 9, 8, 0, 3, 3, 4, 4, 3, 2, 5, 2, 8, 9, 7, 2, 6, 1, 0, 4, 8, 3, 2, 7, 4, 4, 4, 6, 4, 7, 9, 2, 1, 8, 8, 3, 5, 2, 9, 1, 2, 7, 1, 4, 4, 6, 5, 7, 2, 6, 4, 3, 1, 6, 9, 0, 4, 8, 1, 1, 0, 0, 9, 6, 1, 2, 4, 0, 7, 3, 2, 1, 0, 3, 2, 3, 9, 7, 4, 0, 7, 5, 5, 4, 1, 4, 8, 7, 0, 0, 3, 1, 0, 6, 1, 8, 7, 7, 6, 8, 0, 9, 5, 9, 2, 2, 5, 9, 8, 5, 2, 9, 8, 6, 7, 1, 0, 9, 8, 5, 1, 9, 1, 3, 1, 8, 2, 5, 3, 4, 8, 3, 4, 2, 7, 0, 8, 6, 8, 3, 3, 4, 8, 3, 1, 3, 7, 1, 7, 1, 1, 9, 4, 1, 3, 6, 1, 8, 1, 5, 2, 7, 2, 6, 1, 8, 9, 4, 4, 1, 6, 6, 9, 4, 0, 2, 3, 3, 1, 7, 6, 0, 7, 8, 7, 1, 2, 3, 2, 6, 7, 2, 9, 8, 7, 6, 1, 6, 0, 3, 6, 4, 4, 9, 4, 7, 1, 5, 9, 9, 2, 6, 9, 1, 1, 9, 9, 6, 2, 2, 9, 2, 7, 2, 7, 8, 8, 6, 3, 6, 7, 6, 2, 1, 9, 8, 1, 2, 0, 2, 5, 9, 7, 9, 5, 1, 5, 1, 7, 3, 8, 4, 8, 5, 6, 9, 7, 7, 3, 1, 1, 8, 9, 1, 8, 3, 8, 4, 0, 0, 7, 4, 3, 3, 7, 9, 2, 1, 2, 4, 3, 4, 4, 7, 1, 7, 3, 3, 7, 7, 2, 9, 2, 4, 2, 0, 4, 8, 8, 2, 1, 3, 9, 5, 2, 0, 2, 4, 0, 9, 6, 5, 9, 1, 1, 7, 5, 0, 4, 8, 9, 6, 2, 0, 9, 6, 2, 9, 8, 2, 7, 5, 8, 0, 6, 0, 9, 9, 9, 7, 3, 4, 7, 8, 1, 4, 6, 7, 8, 0, 3, 1, 8, 8, 3, 2, 9, 6, 6, 7, 6, 4, 9, 4, 9, 8, 1, 3, 7, 7, 1, 6, 4, 9, 0, 7, 0, 3, 4, 0, 2, 0, 2, 7, 2, 8, 0, 9, 1, 4, 2, 0, 5, 1, 0, 6, 3, 5, 7, 3, 6, 6, 5, 1, 0, 3, 6, 4, 4, 4, 7, 9, 5, 3, 7, 7, 8, 4, 0, 4, 9, 6, 3, 9, 6, 6, 0, 9, 9, 4, 1, 4, 2, 8, 4, 5, 1, 5, 8, 1, 8, 6, 7, 2, 3, 6, 9, 4, 1, 2, 8, 6, 6, 5, 3, 0, 1, 7, 1, 8, 1, 4, 0, 7, 9, 8, 1, 4, 7, 7, 7, 3, 2, 6, 7, 6, 0, 3, 4, 7, 7, 9, 4, 2, 5, 8, 6, 7, 6, 0, 7, 4, 9, 0, 2, 9, 3, 2, 4, 8, 2, 1, 0, 7, 3, 3, 2, 1, 4, 0, 2, 9, 8, 6, 8, 1, 3, 1, 9, 1, 3, 9, 2, 6, 6, 1, 1, 7, 9, 6, 4, 6, 4, 0, 4, 6, 0, 5, 2, 7, 1, 3, 7, 3, 2, 4, 2, 6, 8, 8, 3, 6, 5, 8, 1, 6, 4, 5, 0, 6, 5, 1, 7, 8, 8, 1, 1, 8, 4, 8, 1, 9, 6, 9, 1, 9, 2, 4, 3, 8, 0, 8, 1, 9, 6, 9, 7, 9, 8, 2, 3, 2, 5, 5, 9, 1, 4, 8, 9, 4, 7, 9, 6, 3, 9, 7, 8, 2, 8, 1, 7, 1, 0, 4, 8, 8, 1, 4, 7, 0, 8, 4, 0, 5, 8, 6, 2, 7, 7, 5, 5, 6, 1, 6, 8, 0, 0, 3, 6, 1, 6, 0, 7, 2, 9, 1, 6, 4, 7, 8, 4, 3, 8, 4, 2, 2, 8, 6, 9, 8, 8, 2, 5, 4, 9, 1, 0, 2, 2, 0, 6, 1, 3, 4, 7, 0, 8, 0, 8, 1, 4, 4, 7, 9, 1, 7, 9, 8, 8, 7, 9, 8, 1, 5, 7, 4, 5, 3, 0, 5, 7, 8, 3, 1, 3, 0, 9, 8, 9, 6, 8, 1, 0, 6, 0, 1, 1, 0, 3, 4, 3, 2, 1, 9, 1, 1, 6, 8, 2, 1, 0, 7, 8, 1, 1, 4, 8, 4, 3, 7, 8, 7, 9, 9, 0, 1, 9, 1, 8, 3, 1, 4, 7, 8, 0, 9, 9, 3, 8, 1, 1, 2, 6, 7, 7, 0, 4, 5, 2, 1, 3, 1, 2, 1, 3, 9, 0, 8, 1, 4, 0, 8, 6, 0, 8, 2, 0, 0, 5, 9, 4, 6, 1, 1, 4, 5, 5, 9, 8, 7, 4, 8, 5, 2, 0, 3, 8, 8, 2, 0, 2, 4, 7, 2, 4, 2, 7, 3, 3, 7, 3, 8, 0, 5, 8, 7, 9, 7, 0, 9, 4, 2, 0, 7, 6, 3, 5, 1, 3, 7, 8, 2, 4, 6, 2, 3, 3, 3, 2, 9, 1, 5, 9, 8, 5, 9, 7, 6, 1, 7, 6, 3, 0, 4, 3, 8, 4, 7, 3, 6, 1, 3, 0, 8, 1, 6, 3, 9, 0, 1, 2, 0, 6, 7, 2, 0, 1, 4, 2, 6, 7, 6, 4, 0, 3, 7, 4, 2, 1, 1, 2, 9, 0, 0, 7, 3, 3, 2, 1, 7, 9, 0, 5, 1, 2, 6, 7, 4, 2, 2, 6, 1, 1, 4, 4, 1, 4, 3, 4, 8, 1, 7, 8, 7, 0, 8, 6, 1, 3, 0, 7, 3, 7, 1, 1, 7, 6, 4, 4, 3, 6, 0, 6, 2, 9, 2, 6, 1, 9, 1, 7, 0, 7, 3, 5, 3, 0, 7, 9, 8, 2, 6, 3, 9, 1, 4, 1, 2, 6, 6, 4, 1, 7, 1, 4, 8, 0, 9, 8, 9, 7, 4, 1, 8, 0, 2, 1, 8, 7, 3, 2, 6, 4, 8, 3, 1, 6, 9, 8, 2, 9, 0, 1, 9, 3, 7, 7, 7, 9, 9, 5, 2, 3, 8, 6, 0, 2, 9, 3, 7, 2, 1, 3, 2, 6, 7, 2, 0, 1, 8, 2, 3, 1, 9, 3, 6, 8, 8, 1, 1, 3, 8, 7, 8, 4, 1, 8, 1, 6, 6, 4, 1, 2, 6, 9, 3, 3, 1, 0, 5, 2, 8, 3, 5, 2, 4, 8, 6, 1, 1, 5, 5, 8, 7, 4, 7, 2, 0, 9, 7, 8, 1, 7, 9, 2, 1, 2, 1, 6, 4, 3, 1, 6, 9, 2, 2, 0, 1, 1, 0, 4, 6, 4, 8, 0, 9, 1, 4, 0, 2, 8, 6, 7, 2, 7, 3, 1, 8, 5, 2, 4, 8, 0, 4, 1, 6, 8, 8, 2, 6, 2, 4, 7, 9, 4, 7, 6, 8, 0, 2, 4, 8, 3, 1, 0, 8, 9, 3, 4, 0, 3, 8, 3, 4, 4, 4, 8, 6, 4, 0, 2, 6, 9, 8, 0, 3, 4, 3, 0, 8, 9, 8, 7, 1, 3, 6, 8, 4, 7, 0, 2, 6, 1, 3, 6, 0, 4, 6, 6, 7, 6, 8, 0, 9, 9, 0, 2, 8, 9, 3, 6, 1, 6, 2, 3, 7, 8, 8, 8, 3, 3, 0, 9, 6, 2, 7, 0, 9, 9, 1, 8, 6, 6, 1, 4, 8, 8, 9, 8, 9, 7, 1, 4, 2, 2, 9, 8, 8, 0, 1, 0, 0, 2, 4, 4, 9, 1, 0, 1, 6, 2, 5, 6, 3, 7, 6, 8, 0, 4, 7, 6, 0, 1, 5, 4, 7, 2, 9, 7, 8, 2, 3, 4, 9, 8, 0, 6, 6, 9, 4, 0, 2, 4, 6, 8, 1, 6, 9, 6, 3, 6, 2, 7, 6, 9, 6, 7, 8, 6, 8, 3, 7, 7, 8, 4, 4, 6, 1, 6, 0, 1, 8, 3, 1, 1, 7, 9, 3, 6, 8, 5, 2, 9, 1, 4, 8, 4, 5, 9, 6, 6, 8, 1, 3, 3, 1, 4, 2, 1, 8, 5, 0, 7, 3, 9, 2, 8, 8, 9, 8, 6, 7, 4, 0, 0, 7, 2, 3, 4, 3, 8, 1, 3, 9, 1, 0, 9, 5, 8, 0, 0, 1, 4, 7, 8, 7, 8, 3, 4, 0, 4, 4, 5, 3, 4, 9, 7, 1, 3, 8, 2, 5, 7, 0, 1, 2, 7, 9, 5, 8, 1, 1, 7, 0, 1, 6, 5, 1, 7, 8, 1, 5, 7, 8, 0, 9, 5, 7, 4, 2, 7, 3, 1, 8, 6, 3, 6, 3, 1, 6, 9, 7, 6, 2, 3, 1, 7, 9, 9, 5, 2, 2, 4, 0, 7, 6, 6, 1, 1, 1, 8, 7, 1, 7, 2, 7, 9, 2, 2, 4, 0, 0, 1, 2, 4, 9, 2, 7, 4, 8, 9, 8, 2, 4, 3, 4, 8, 8, 3, 4, 3, 3, 7, 6, 8, 0, 2, 9, 9, 1, 1, 9, 3, 0, 6, 4, 3, 8, 5, 0, 3, 9, 1, 1, 6, 4, 2, 9, 2, 3, 6, 4, 1, 9, 0, 3, 8, 5, 1, 5, 8, 3, 8, 1, 5, 0, 8, 3, 8, 9, 0, 9, 0, 9, 0, 0, 8, 4, 3, 1, 7, 7, 4, 0, 2, 6, 2, 4, 0, 1, 5, 0, 7, 8, 9, 9, 7, 1, 8, 2, 4, 8, 7, 1, 1, 6, 2, 3, 2, 8, 8, 9, 5, 9, 4, 4, 6, 6, 9, 7, 9, 3, 0, 6, 3, 0, 1, 5, 4, 8, 9, 9, 9, 4, 5, 3, 7, 3, 9, 7, 5, 0, 8, 4, 2, 9, 0, 8, 8, 9, 2, 2, 1, 7, 6, 3, 6, 9, 7, 2, 3, 4, 6, 6, 4, 3, 8, 1, 4, 4, 1, 3, 0, 6, 7, 6, 1, 1, 2, 6, 9, 8, 4, 4, 1, 0, 7, 5, 1, 9, 3, 1, 3, 2, 0, 8, 7, 2, 6, 2, 7, 8, 0, 1, 2, 4, 8, 2, 7, 0, 0, 3, 4, 7, 2, 7, 3, 8, 3, 3, 7, 9, 3, 3, 2, 5, 0, 1, 3, 5, 2, 8, 9, 4, 9, 2, 4, 1, 4, 1, 4, 6, 0, 8, 4, 9, 1, 6, 4, 9, 0, 1, 8, 9, 9, 3, 9, 9, 4, 4, 5, 6, 0, 0, 7, 7, 0, 6, 8, 1, 8, 8, 1, 4, 7, 4, 2, 4, 1, 5, 4, 7, 6, 9, 4, 2, 3, 9, 7, 1, 0, 5, 5, 1, 3, 7, 4, 1, 3, 8, 5, 6, 5, 0, 0, 3, 8, 9, 0, 5, 4, 6, 7, 4, 6, 9, 8, 4, 9, 8, 8, 0, 3, 2, 4, 6, 0, 0, 6, 5, 0, 6, 1, 5, 7, 7, 2, 7, 0, 3, 0, 0, 5, 3, 8, 7, 6, 0, 9, 3, 8, 0, 2, 7, 6, 6, 4, 7, 8, 7, 1, 1, 2, 9, 6, 1, 0, 2, 2, 8, 1, 3, 5, 2, 5, 9, 8, 8, 6, 6, 1, 0, 8, 6, 9, 5, 3, 7, 2, 3, 4, 1, 0, 9, 4, 0, 7, 2, 1, 0, 7, 5, 6, 8, 0, 3, 5, 7, 5, 5, 8, 7, 2, 3, 6, 1, 1, 9, 5, 3, 1, 3, 3, 6, 8, 3, 5, 0, 7, 1, 5, 8, 5, 6, 6, 1, 3, 2, 9, 1, 1, 9, 8, 5, 9, 5, 5, 1, 8, 1, 1, 6, 5, 7, 2, 3, 3, 8, 7, 3, 9, 8, 3, 5, 1, 6, 8, 7, 7, 0, 3, 6, 7, 1, 9, 6, 3, 7, 0, 6, 9, 1, 2, 1, 1, 2, 9, 8, 3, 2, 0, 2, 3, 7, 6, 9, 6, 6, 6, 4, 6, 1, 0, 2, 3, 0, 4, 7, 6, 8, 8, 7, 2, 6, 3, 1, 2, 4, 7, 0, 0, 1, 0, 0, 0, 3, 8, 1, 8, 0, 1, 9, 3, 0, 9, 8, 5, 5, 5, 1, 3, 8, 7, 3, 2, 0, 6, 6, 6, 7, 4, 1, 7, 3, 2, 1, 4, 7, 2, 4, 0, 8, 4, 4, 5, 1, 8, 8, 8, 7, 7, 9, 1, 5, 4, 6, 7, 2, 7, 1, 8, 9, 9, 7, 8, 2, 1, 8, 6, 6, 1, 4, 1, 0, 0, 8, 1, 2, 8, 9, 9, 2, 9, 9, 7, 0, 8, 0, 0, 0, 7, 3, 3, 4, 1, 4, 0, 2, 0, 0, 2, 2, 8, 3, 0, 6, 8, 7, 2, 4, 3, 9, 6, 4, 9, 8, 6, 1, 2, 3, 1, 1, 2, 2, 7, 2, 7, 0, 6, 9, 0, 1, 0, 8, 8, 6, 4, 2, 0, 9, 9, 6, 1, 6, 7, 9, 0, 1, 3, 1, 2, 7, 8, 9, 2, 9, 1, 0, 7, 6, 5, 0, 9, 3, 5, 5, 8, 7, 3, 3, 2, 3, 3, 6, 6, 3, 1, 1, 4, 2, 8, 8, 3, 9, 5, 4, 1, 6, 7, 0, 2, 0, 8, 1, 7, 3, 4, 8, 3, 3, 1, 8, 2, 2, 0, 8, 1, 6, 8, 3, 0, 3, 0, 4, 2, 4, 8, 1, 8, 2, 3, 6, 5, 8, 9, 7, 0, 1, 9, 8, 0, 8, 0, 5, 6, 1, 4, 8, 7, 1, 3, 4, 0, 2, 8, 3, 0, 3, 8, 4, 5, 8, 1, 2, 0, 8, 9, 3, 3, 3, 7, 5, 8, 3, 1, 6, 0, 5, 9, 5, 1, 5, 5, 6, 9, 7, 0, 1, 8, 6, 8, 8, 8, 0, 6, 5, 0, 8, 2, 1, 3, 0, 5, 6, 8, 6, 1, 8, 0, 0, 8, 9, 7, 9, 5, 2, 2, 9, 4, 8, 8, 3, 8, 7, 4, 8, 5, 3, 7, 7, 1, 6, 7, 2, 0, 1, 2, 2, 3, 5, 6, 1, 7, 7, 9, 3, 4, 2, 8, 0, 6, 8, 9, 8, 7, 8, 7, 8, 7, 1, 0, 9, 6, 3, 7, 5, 7, 2, 5, 5, 6, 6, 4, 8, 5, 7, 6, 6, 2, 6, 4, 1, 4, 6, 6, 2, 1, 6, 6, 1, 8, 8, 0, 2, 8, 6, 4, 6, 3, 1, 1, 6, 6, 9, 8, 9, 4, 6, 5, 1, 5, 7, 5, 3, 9, 6, 6, 8, 6, 6, 3, 6, 0, 6, 2, 4, 6, 2, 2, 3, 4, 6, 0, 7, 5, 3, 0, 5, 1, 3, 1, 8, 8, 9, 8, 6, 8, 8, 2, 3, 8, 8, 7, 1, 4, 1, 0, 0, 5, 0, 7, 9, 9, 2, 1, 6, 4, 4, 9, 1, 3, 2, 4, 0, 4, 8, 0, 4, 1, 6, 8, 4, 1, 3, 9, 1, 7, 5, 8, 2, 3, 5, 9, 8, 9, 2, 4, 6, 1, 9, 9, 0, 1, 4, 1, 7, 1, 5, 1, 1, 4, 5, 0, 7, 3, 5, 2, 0, 1, 7, 1, 6, 8, 6, 7, 7, 3, 8, 8, 7, 7, 1, 3, 2, 0, 5, 0, 4, 2, 8, 6, 4, 7, 8, 8, 4, 1, 7, 8, 4, 0, 5, 3, 6, 5, 0, 6, 8, 2, 1, 9, 8, 2, 0, 5, 7, 0, 7, 6, 1, 6, 6, 1, 2, 1, 0, 1, 3, 0, 5, 8, 2, 7, 6, 2, 1, 4, 0, 8, 1, 3, 1, 6, 1, 9, 6, 2, 8, 0, 2, 0, 0, 6, 3, 4, 8, 4, 0, 0, 1, 4, 0, 2, 8, 4, 0, 5, 6, 6, 8, 1, 6, 4, 4, 7, 2, 1, 5, 2, 6, 6, 3, 8, 8, 1, 3, 1, 5, 5, 0, 1, 9, 9, 9, 5, 3, 7, 9, 9, 8, 2, 3, 4, 8, 8, 4, 0, 7, 2, 1, 4, 9, 7, 2, 9, 7, 4, 5, 5, 4, 0, 2, 2, 5, 4, 5, 3, 7, 6, 1, 2, 8, 2, 0, 8, 9, 9, 6, 5, 4, 9, 6, 5, 1, 6, 2, 7, 9, 7, 6, 4, 1, 6, 3, 9, 2, 6, 1, 8, 8, 8, 0, 6, 9, 5, 4, 5, 6, 3, 3, 2, 0, 4, 8, 9, 4, 1, 3, 4, 7, 4, 5, 9, 4, 7, 7, 8, 6, 4, 9, 0, 0, 0, 7, 7, 0, 9, 0, 6, 0, 0, 0, 1, 8, 4, 6, 8, 6, 5, 8, 9, 1, 3, 1, 0, 2, 6, 5, 4, 2, 1, 9, 6, 7, 7, 8, 3, 8, 4, 4, 9, 3, 0, 7, 1, 1, 0, 5, 6, 9, 1, 0, 3, 3, 1, 2, 9, 9, 5, 1, 7, 5, 7, 7, 2, 7, 6, 6, 5, 3, 8, 1, 1, 1, 3, 4, 6, 6, 1, 5, 7, 4, 6, 8, 1, 7, 1, 5, 9, 0, 6, 3, 1, 2, 8, 8, 9, 8, 3, 9, 7, 2, 8, 4, 3, 9, 1, 1, 3, 1, 7, 5, 0, 2, 4, 5, 8, 4, 2, 8, 2, 3, 3, 3, 5, 7, 6, 8, 8, 5, 8, 1, 9, 9, 8, 7, 1, 9, 7, 6, 6, 6, 2, 1, 7, 3, 1, 5, 1, 6, 2, 0, 1, 0, 0, 2, 3, 9, 9, 0, 8, 6, 5, 8, 5, 0, 2, 7, 6, 4, 2, 1, 3, 4, 4, 5, 3, 8, 0, 1, 2, 0, 1, 8, 7, 0, 4, 3, 2, 3, 2, 3, 0, 3, 9, 3, 0, 3, 4, 9, 8, 7, 8, 4, 7, 9, 7, 6, 9, 6, 4, 7, 6, 1, 1, 6, 2, 7, 9, 5, 3, 1, 9, 0, 2, 4, 9, 7, 6, 7, 3, 7, 1, 4, 7, 7, 6, 1, 0, 5, 8, 7, 5, 4, 0, 8, 9, 2, 0, 0, 9, 0, 8, 2, 6, 2, 4, 7, 5, 3, 8, 0, 1, 4, 7, 4, 4, 5, 6, 9, 4, 9, 6, 3, 4, 9, 1, 1, 9, 1, 5, 4, 1, 8, 3, 2, 6, 3, 4, 6, 0, 6, 4, 4, 3, 3, 4, 4, 2, 8, 4, 0, 6, 8, 2, 7, 9, 6, 3, 9, 4, 3, 2, 5, 1, 3, 0, 9, 3, 0, 6, 2, 1, 6, 6, 2, 6, 5, 8, 7, 2, 4, 1, 9, 9, 7, 0, 6, 8, 3, 9, 0, 4, 4, 9, 8, 0, 0, 6, 7, 1, 8, 4, 9, 9, 8, 4, 8, 1, 0, 2, 5, 7, 4, 7, 6, 8, 7, 8, 2, 1, 3, 6, 8, 9, 6, 4, 8, 1, 2, 3, 1, 7, 6, 7, 9, 5, 1, 2, 4, 8, 3, 2, 8, 8, 0, 2, 9, 4, 6, 3, 3, 2, 3, 3, 0, 9, 4, 8, 6, 6, 6, 3, 8, 7, 1, 4, 0, 8, 5, 1, 0, 7, 1, 4, 2, 5, 4, 3, 6, 2, 3, 6, 0, 6, 2, 1, 3, 1, 7, 9, 4, 6, 9, 8, 0, 9, 2, 0, 3, 5, 9, 5, 9, 0, 2, 9, 4, 9, 8, 4, 8, 9, 3, 4, 0, 5, 1, 9, 1, 5, 2, 1, 8, 3, 9, 6, 8, 4, 6, 6, 0, 9, 8, 8, 7, 7, 4, 6, 8, 2, 8, 8, 3, 1, 2, 6, 2, 1, 0, 0, 6, 2, 5, 4, 6, 2, 8, 9, 8, 8, 9, 0, 2, 2, 9, 1, 1, 1, 6, 9, 2, 7, 8, 0, 5, 2, 0, 6, 2, 3, 8, 4, 0, 7, 1, 4, 6, 4, 0, 7, 3, 8, 7, 8, 6, 7, 1, 0, 3, 0, 9, 2, 0, 2, 8, 0, 5, 0, 3, 6, 1, 4, 9, 1, 5, 2, 3, 0, 7, 2, 9, 2, 6, 7, 0, 4, 3, 7, 3, 0, 4, 9, 6, 9, 9, 4, 5, 3, 3, 4, 1, 8, 8, 1, 4, 8, 7, 4, 3, 8, 4, 8, 6, 4, 3, 4, 8, 5, 6, 8, 1, 5, 8, 8, 7, 4, 2, 0, 0, 5, 3, 9, 8, 4, 3, 2, 7, 1, 0, 7, 1, 1, 7, 7, 0, 0, 5, 1, 8, 7, 7, 4, 2, 4, 7, 8, 0, 8, 9, 7, 9, 5, 0, 7, 5, 7, 7, 8, 3, 3, 4, 5, 1, 6, 9, 7, 1, 2, 2, 9, 6, 6, 1, 4, 2, 0, 6, 8, 1, 6, 3, 6, 3, 7, 7, 2, 7, 6, 9, 8, 3, 1, 1, 6, 4, 3, 6, 1, 4, 8, 4, 1, 6, 1, 9, 7, 7, 7, 1, 3, 9, 3, 7, 4, 6, 7, 7, 3, 7, 6, 2, 8, 8, 9, 3, 3, 4, 3, 6, 1, 9, 0, 7, 3, 3, 1, 5, 9, 0, 4, 2, 8, 6, 6, 3, 9, 0, 8, 4, 9, 9, 7, 8, 1, 8, 0, 9, 7, 1, 9, 2, 5, 1, 3, 0, 2, 7, 6, 2, 3, 9, 7, 2, 7, 0, 7, 7, 6, 0, 6, 8, 4, 7, 5, 3, 2, 3, 2, 2, 3, 4, 4, 4, 7, 4, 0, 7, 3, 6, 2, 3, 2, 0, 3, 9, 8, 6, 7, 8, 0, 6, 7, 2, 0, 2, 7, 9, 2, 8, 5, 3, 4, 5, 7, 1, 8, 8, 3, 8, 0, 0, 2, 4, 1, 7, 8, 8, 3, 1, 8, 2, 6, 0, 3, 8, 8, 0, 5, 8, 1, 5, 4, 3, 6, 4, 8, 0, 5, 4, 0, 6, 0, 5, 9, 3, 3, 0, 1, 7, 2, 2, 2, 8, 9, 0, 8, 0, 9, 8, 2, 9, 4, 3, 2, 9, 2, 9, 4, 1, 7, 2, 1, 3, 3, 7, 1, 1, 7, 7, 3, 9, 3, 3, 8, 3, 5, 1, 4, 6, 9, 4, 0, 3, 6, 3, 6, 6, 2, 9, 9, 9, 7, 8, 6, 6, 0, 9, 1, 3, 1, 4, 6, 2, 0, 2, 2, 2, 8, 8, 8, 0, 1, 0, 1, 7, 6, 9, 4, 9, 9, 4, 9, 8, 9, 7, 9, 6, 3, 9, 8, 0, 8, 7, 0, 6, 8, 1, 5, 7, 5, 4, 7, 8, 8, 3, 3, 2, 3, 6, 3, 8, 5, 5, 2, 5, 2, 4, 2, 9, 7, 9, 9, 2, 6, 9, 6, 0, 0, 9, 0, 8, 2, 1, 7, 6, 2, 0, 1, 6, 2, 3, 8, 9, 1, 2, 5, 8, 2, 0, 7, 9, 1, 1, 0, 8, 6, 7, 4, 4, 7, 1, 2, 0, 3, 4, 2, 7, 7, 1, 3, 4, 1, 3, 6, 3, 6, 6, 9, 8, 2, 8, 5, 8, 3, 6, 4, 6, 2, 0, 2, 7, 1, 9, 8, 8, 4, 6, 6, 3, 6, 8, 2, 9, 6, 1, 8, 7, 3, 6, 6, 3, 7, 0, 2, 1, 3, 9, 9, 8, 3, 9, 2, 9, 2, 3, 2, 0, 3, 3, 9, 0, 4, 0, 6, 9, 5, 2, 4, 4, 5, 0, 1, 5, 9, 4, 3, 3, 4, 0, 1, 0, 8, 8, 4, 0, 3, 5, 8, 6, 9, 4, 4, 7, 4, 3, 5, 0, 9, 2, 3, 6, 9, 8, 2, 5, 8, 7, 0, 2, 2, 5, 6, 7, 2, 2, 1, 1, 8, 5, 7, 2, 2, 3, 3, 7, 9, 6, 8, 4, 4, 1, 5, 8, 9, 0, 8, 8, 2, 3, 6, 2, 9, 8, 0, 1, 0, 5, 4, 8, 7, 4, 6, 6, 2, 9, 2, 2, 6, 2, 4, 0, 7, 6, 2, 1, 2, 2, 4, 4, 5, 2, 6, 9, 9, 6, 2, 4, 9, 8, 2, 4, 9, 6, 0, 8, 1, 0, 9, 8, 6, 4, 3, 8, 4, 7, 6, 1, 9, 1, 8, 3, 0, 4, 8, 0, 9, 0, 0, 3, 2, 7, 1, 4, 2, 8, 4, 7, 8, 4, 3, 1, 0, 3, 2, 4, 4, 2, 7, 9, 4, 1, 4, 2, 3, 9, 8, 2, 9, 1, 6, 6, 9, 6, 1, 4, 0, 9, 9, 3, 9, 6, 9, 9, 0, 7, 0, 0, 2, 8, 9, 1, 1, 3, 7, 0, 6, 7, 7, 0, 0, 6, 0, 3, 9, 5, 6, 6, 1, 2, 6, 3, 9, 8, 7, 8, 0, 9, 3, 8, 0, 1, 0, 7, 3, 0, 6, 2, 8, 2, 8, 4, 9, 6, 3, 9, 3, 9, 7, 1, 3, 2, 6, 2, 5, 5, 2, 0, 6, 8, 5, 7, 0, 8, 9, 4, 0, 2, 1, 5, 1, 6, 8, 1, 0, 2, 8, 2, 9, 8, 5, 3, 6, 4, 7, 2, 1, 8, 3, 8, 8, 4, 8, 0, 8, 8, 0, 2, 6, 0, 2, 6, 3, 3, 6, 2, 8, 1, 2, 6, 8, 1, 2, 8, 5, 4, 0, 0, 1, 8, 2, 0, 7, 9, 9, 2, 0, 4, 9, 0, 6, 0, 3, 1, 8, 2, 2, 6, 2, 7, 6, 0, 0, 5, 1, 6, 3, 7, 8, 1, 5, 8, 2, 0, 6, 3, 5, 4, 3, 7, 0, 1, 8, 8, 1, 8, 3, 3, 6, 8, 8, 0, 9, 8, 6, 2, 5, 1, 5, 0, 9, 8, 0, 7, 5, 8, 2, 0, 0, 8, 2, 2, 8, 3, 1, 3, 5, 8, 1, 0, 6, 8, 3, 1, 6, 0, 0, 2, 1, 8, 2, 6, 9, 6, 3, 7, 3, 3, 7, 2, 1, 9, 9, 0, 0, 3, 6, 2, 6, 8, 2, 1, 4, 3, 0, 3, 1, 8, 7, 8, 7, 1, 3, 5, 1, 1, 4, 2, 3, 4, 9, 2, 0, 1, 5, 3, 1, 4, 0, 6, 0, 7, 1, 7, 1, 2, 7, 4, 0, 9, 6, 2, 6, 3, 2, 6, 7, 3, 1, 0, 4, 3, 3, 0, 1, 4, 3, 1, 3, 5, 5, 7, 6, 9, 6, 7, 5, 6, 9, 8, 5, 1, 3, 0, 6, 7, 8, 7, 6, 7, 4, 2, 6, 3, 7, 3, 6, 1, 8, 2, 8, 8, 7, 9, 4, 1, 8, 8, 7, 3, 8, 8, 5, 0, 2, 7, 8, 9, 9, 7, 7, 2, 3, 1, 4, 8, 0, 9, 0, 4, 6, 1, 5, 3, 8, 3, 0, 1, 8, 1, 4, 6, 8, 7, 6, 8, 0, 8, 3, 4, 6, 3, 0, 2, 4, 4, 9, 1, 5, 1, 0, 7, 4, 4, 1, 2, 4, 5, 5, 9, 9, 2, 2, 2, 4, 4, 9, 6, 2, 5, 2, 2, 0, 2, 7, 9, 3, 0, 7, 0, 8, 0, 1, 0, 8, 2, 9, 4, 0, 8, 9, 4, 9, 3, 8, 0, 3, 3, 8, 0, 7, 0, 6, 7, 2, 0, 3, 6, 2, 1, 8, 6, 0, 1, 3, 8, 0, 3, 6, 3, 8, 1, 1, 2, 6, 8, 8, 9, 4, 9, 5, 9, 9, 6, 6, 4, 9, 0, 4, 0, 1, 3, 0, 0, 5, 4, 7, 2, 1, 6, 7, 2, 2, 1, 8, 1, 8, 9, 6, 2, 9, 9, 7, 4, 0, 9, 6, 8, 8, 4, 9, 7, 9, 5, 4, 7, 0, 4, 6, 4, 4, 4, 9, 7, 7, 8, 0, 0, 5, 6, 0, 2, 1, 3, 3, 8, 0, 1, 3, 8, 4, 3, 1, 8, 8, 4, 4, 5, 1, 4, 0, 3, 8, 8, 8, 1, 1, 6, 8, 2, 8, 6, 3, 9, 8, 9, 8, 1, 3, 1, 2, 0, 8, 3, 5, 8, 5, 2, 2, 3, 0, 1, 1, 4, 8, 2, 2, 6, 0, 6, 5, 8, 4, 3, 3, 3, 2, 9, 5, 7, 4, 7, 2, 5, 9, 5, 4, 7, 8, 4, 3, 2, 3, 6, 9, 2, 6, 3, 4, 4, 6, 1, 9, 0, 3, 6, 2, 9, 0, 8, 7, 8, 0, 8, 6, 2, 3, 5, 8, 5, 4, 2, 6, 0, 9, 8, 5, 9, 6, 1, 9, 3, 7, 1, 3, 7, 4, 1, 1, 9, 6, 9, 5, 8, 0, 8, 5, 3, 8, 0, 1, 4, 8, 6, 6, 9, 5, 8, 0, 7, 3, 4, 4, 2, 9, 9, 3, 1, 0, 8, 8, 3, 2, 4, 5, 2, 1, 3, 8, 8, 4, 3, 7, 9, 3, 7, 0, 7, 7, 0, 9, 8, 7, 1, 2, 0, 0, 0, 7, 6, 6, 8, 6, 1, 3, 0, 2, 6, 3, 6, 8, 0, 5, 6, 3, 0, 2, 9, 9, 0, 2, 4, 3, 0, 8, 1, 9, 5, 4, 4, 2, 0, 1, 7, 6, 6, 7, 0, 6, 4, 9, 8, 8, 9, 8, 3, 1, 0, 4, 4, 7, 0, 5, 7, 6, 7, 8, 1, 3, 4, 6, 7, 0, 4, 3, 2, 5, 3, 7, 3, 7, 1, 9, 1, 3, 4, 0, 1, 7, 4, 8, 4, 3, 5, 4, 0, 7, 2, 2, 2, 9, 3, 3, 9, 9, 8, 1, 2, 1, 7, 8, 3, 1, 9, 2, 6, 4, 8, 4, 1, 7, 0, 0, 8, 8, 7, 4, 9, 9, 7, 0, 8, 1, 5, 8, 6, 8, 8, 6, 8, 6, 1, 1, 9, 6, 4, 3, 6, 8, 8, 5, 3, 9, 7, 2, 7, 1, 5, 9, 1, 3, 9, 5, 0, 4, 6, 3, 5, 3, 8, 6, 1, 8, 2, 3, 2, 2, 6, 8, 0, 1, 2, 7, 8, 5, 6, 2, 8, 4, 6, 8, 8, 8, 2, 9, 8, 7, 8, 6, 7, 3, 7, 7, 4, 0, 8, 3, 9, 2, 0, 0, 5, 4, 7, 8, 6, 8, 7, 8, 4, 3, 3, 1, 3, 1, 8, 6, 0, 3, 9, 0, 8, 7, 7, 8, 6, 3, 6, 4, 8, 9, 2, 1, 2, 3, 8, 2, 2, 2, 1, 3, 3, 5, 8, 7, 4, 3, 4, 2, 7, 1, 7, 8, 2, 2, 3, 9, 8, 5, 7, 3, 3, 9, 0, 8, 9, 6, 6, 9, 8, 6, 5, 9, 2, 0, 7, 9, 7, 7, 1, 2, 0, 3, 2, 0, 0, 3, 3, 6, 3, 0, 8, 2, 6, 6, 7, 8, 0, 1, 8, 7, 1, 2, 9, 2, 5, 7, 6, 3, 6, 1, 0, 4, 5, 1, 9, 4, 6, 0, 5, 8, 4, 0, 4, 3, 3, 1, 5, 1, 5, 3, 2, 1, 0, 9, 6, 7, 5, 9, 9, 8, 4, 4, 7, 5, 6, 3, 2, 0, 4, 4, 0, 8, 5, 8, 1, 8, 5, 9, 7, 8, 1, 0, 7, 0, 4, 4, 8, 5, 6, 4, 2, 8, 2, 6, 8, 1, 2, 3, 8, 9, 1, 3, 9, 9, 6, 7, 1, 2, 7, 7, 3, 3, 1, 1, 9, 7, 2, 1, 8, 8, 2, 7, 8, 4, 0, 4, 3, 1, 8, 4, 3, 3, 2, 9, 0, 7, 7, 1, 9, 0, 4, 2, 2, 8, 9, 4, 3, 9, 4, 8, 3, 6, 0, 5, 3, 3, 0, 1, 2, 5, 0, 7, 5, 7, 3, 7, 8, 7, 4, 9, 1, 5, 0, 8, 2, 9, 2, 1, 0, 1, 8, 6, 9, 2, 8, 3, 5, 3, 8, 9, 1, 4, 7, 1, 8, 1, 8, 8, 9, 4, 6, 1, 9, 9, 3, 4, 1, 2, 4, 3, 5, 9, 0, 7, 2, 8, 2, 9, 9, 9, 9, 0, 7, 8, 2, 3, 3, 1, 9, 9, 8, 8, 3, 5, 1, 2, 1, 7, 2, 0, 7, 3, 8, 1, 7, 0, 6, 4, 0, 8, 1, 8, 7, 4, 4, 7, 3, 2, 9, 6, 7, 8, 9, 7, 4, 8, 2, 9, 6, 9, 1, 3, 7, 0, 3, 1, 4, 7, 5, 2, 0, 4, 4, 9, 7, 4, 9, 0, 9, 0, 2, 1, 6, 6, 3, 6, 4, 9, 2, 2, 3, 1, 8, 0, 7, 1, 2, 7, 9, 0, 4, 0, 6, 7, 1, 0, 9, 7, 5, 0, 8, 4, 8, 7, 0, 5, 0, 3, 6, 0, 0, 8, 2, 7, 6, 0, 8, 5, 0, 2, 8, 9, 4, 2, 0, 9, 3, 8, 1, 0, 6, 7, 6, 7, 0, 3, 1, 9, 2, 1, 9, 7, 3, 0, 6, 4, 2, 2, 5, 3, 7, 8, 8, 6, 7, 4, 2, 7, 4, 4, 0, 3, 9, 9, 9, 2, 8, 8, 8, 0, 3, 1, 1, 1, 0, 9, 0, 4, 1, 7, 4, 7, 6, 1, 1, 4, 3, 7, 1, 8, 6, 9, 5, 8, 9, 3, 2, 9, 1, 3, 3, 8, 6, 3, 6, 7, 9, 1, 7, 3, 2, 5, 4, 9, 7, 2, 6, 2, 8, 6, 4, 7, 7, 3, 5, 8, 0, 0, 4, 2, 2, 5, 1, 9, 5, 9, 6, 8, 0, 8, 5, 3, 7, 6, 1, 8, 3, 8, 8, 0, 8, 4, 0, 7, 8, 6, 1, 4, 6, 5, 0, 4, 9, 7, 1, 9, 6, 6, 6, 8, 4, 8, 8, 7, 2, 4, 8, 7, 5, 0, 0, 0, 8, 0, 7, 7, 0, 2, 6, 9, 3, 9, 8, 3, 2, 9, 7, 3, 9, 5, 9, 9, 0, 7, 5, 8, 4, 5, 8, 7, 8, 9, 1, 6, 2, 7, 7, 4, 7, 0, 6, 3, 9, 2, 2, 5, 0, 1, 2, 9, 1, 3, 4, 0, 6, 4, 9, 5, 3, 0, 2, 0, 1, 4, 9, 8, 0, 5, 7, 4, 4, 7, 0, 2, 4, 2, 1, 8, 3, 3, 5, 8, 0, 4, 7, 6, 5, 0, 5, 6, 1, 0, 0, 0, 7, 0, 3, 1, 7, 3, 7, 9, 8, 4, 4, 8, 3, 3, 0, 6, 4, 1, 0, 0, 2, 8, 2, 1, 1, 7, 3, 7, 6, 8, 6, 3, 4, 6, 4, 4, 3, 3, 4, 2, 3, 1, 3, 6, 9, 1, 2, 4, 0, 3, 6, 2, 8, 8, 6, 9, 0, 6, 8, 2, 4, 1, 3, 9, 7, 6, 0, 4, 5, 8, 3, 7, 2, 3, 4, 4, 8, 4, 6, 8, 1, 7, 0, 9, 8, 1, 2, 8, 3, 5, 1, 6, 9, 0, 9, 4, 3, 1, 0, 7, 0, 9, 3, 7, 5, 6, 9, 9, 4, 6, 4, 8, 9, 7, 9, 7, 8, 7, 1, 2, 6, 7, 8, 0, 8, 7, 5, 9, 7, 1, 2, 6, 0, 2, 6, 6, 1, 0, 0, 0, 4, 9, 8, 9, 6, 8, 0, 2, 8, 4, 9, 7, 4, 1, 1, 7, 4, 1, 5, 7, 6, 2, 2, 3, 0, 7, 9, 0, 7, 2, 6, 0, 3, 6, 1, 2, 3, 3, 8, 4, 0, 5, 6, 2, 3, 6, 1, 4, 9, 0, 9, 8, 4, 8, 7, 4, 8, 4, 3, 9, 7, 8, 3, 8, 3, 6, 7, 3, 0, 1, 2, 3, 8, 2, 0, 8, 0, 8, 4, 2, 4, 8, 4, 0, 7, 3, 2, 2, 9, 4, 5, 1, 0, 8, 9, 6, 1, 5, 0, 7, 6, 4, 2, 8, 3, 7, 9, 3, 9, 1, 8, 1, 6, 8, 3, 4, 8, 2, 9, 1, 9, 4, 4, 6, 2, 6, 0, 0, 7, 0, 8, 7, 8, 9, 9, 0, 7, 8, 4, 2, 6, 0, 2, 6, 9, 5, 2, 1, 1, 1, 0, 1, 0, 8, 0, 6, 6, 4, 2, 8, 1, 9, 3, 9, 7, 8, 8, 4, 6, 2, 1, 7, 6, 8, 0, 7, 7, 0, 7, 2, 4, 9, 3, 6, 7, 6, 5, 9, 2, 9, 4, 4, 1, 0, 1, 4, 5, 4, 4, 6, 8, 8, 2, 3, 5, 2, 8, 5, 3, 3, 0, 8, 3, 3, 3, 9, 0, 3, 0, 3, 0, 3, 2, 9, 7, 0, 4, 9, 2, 4, 0, 1, 0, 6, 3, 0, 2, 8, 1, 3, 5, 5, 8, 9, 2, 7, 1, 6, 4, 6, 7, 4, 0, 4, 9, 6, 1, 8, 0, 4, 9, 5, 1, 6, 1, 1, 0, 9, 5, 9, 7, 9, 1, 6, 0, 0, 8, 7, 5, 8, 9, 7, 9, 9, 4, 6, 7, 7, 3, 6, 8, 0, 2, 0, 3, 1, 6, 6, 4, 6, 1, 8, 8, 1, 2, 8, 6, 1, 4, 7, 5, 2, 6, 0, 1, 9, 7, 8, 7, 3, 1, 6, 1, 0, 2, 5, 4, 2, 7, 3, 7, 3, 6, 4, 9, 8, 3, 1, 4, 6, 3, 9, 7, 8, 1, 8, 3, 9, 0, 8, 8, 5, 2, 8, 4, 1, 5, 4, 7, 5, 8, 3, 2, 1, 9, 2, 2, 5, 6, 1, 4, 8, 1, 1, 8, 1, 4, 7, 8, 3, 6, 8, 1, 5, 3, 7, 2, 4, 2, 5, 0, 4, 2, 1, 8, 4, 5, 4, 1, 6, 5, 5, 8, 2, 2, 9, 0, 7, 3, 8, 2, 8, 8, 4, 7, 4, 6, 7, 4, 4, 1, 5, 7, 9, 2, 6, 1, 0, 7, 1, 0, 9, 3, 7, 6, 7, 2, 3, 6, 7, 4, 8, 1, 7, 8, 5, 6, 7, 6, 6, 8, 7, 3, 4, 6, 0, 0, 8, 4, 2, 1, 4, 6, 3, 0, 9, 9, 5, 4, 7, 6, 0, 2, 4, 0, 1, 1, 0, 9, 9, 1, 1, 9, 2, 2, 4, 1, 0, 8, 3, 1, 8, 7, 2, 9, 8, 3, 0, 7, 9, 9, 2, 4, 1, 6, 9, 4, 8, 3, 6, 1, 3, 2, 3, 7, 5, 4, 3, 4, 2, 0, 7, 1, 6, 8, 1, 8, 1, 3, 0, 1, 0, 4, 8, 4, 5, 5, 2, 1, 8, 3, 8, 7, 8, 4, 2, 3, 6, 4, 5, 3, 3, 8, 0, 2, 7, 3, 7, 8, 5, 7, 6, 6, 3, 8, 8, 7, 1, 9, 6, 0, 5, 0, 3, 7, 9, 7, 8, 5, 5, 2, 1, 8, 9, 1, 7, 3, 5, 0, 0, 9, 6, 2, 6, 6, 2, 4, 9, 8, 6, 8, 2, 5, 8, 9, 5, 6, 2, 7, 1, 7, 8, 5, 3, 1, 3, 8, 9, 6, 4, 9, 1, 8, 0, 8, 6, 7, 8, 7, 2, 1, 7, 6, 3, 1, 7, 4, 0, 8, 3, 8, 7, 2, 9, 8, 1, 0, 7, 6, 7, 8, 4, 5, 3, 0, 8, 2, 8, 0, 5, 0, 5, 0, 1, 9, 2, 3, 7, 3, 9, 9, 3, 8, 1, 0, 2, 9, 3, 3, 2, 6, 6, 8, 7, 7, 0, 9, 1, 7, 3, 3, 7, 8, 8, 0, 4, 8, 8, 2, 3, 9, 3, 3, 4, 2, 4, 3, 9, 8, 4, 0, 2, 7, 5, 3, 1, 6, 1, 8, 4, 8, 7, 5, 2, 5, 1, 7, 4, 8, 0, 5, 7, 4, 8, 2, 5, 9, 3, 4, 8, 6, 7, 5, 4, 8, 3, 7, 7, 3, 2, 8, 8, 2, 0, 1, 0, 0, 4, 1, 8, 0, 1, 4, 3, 1, 9, 4, 4, 5, 4, 5, 8, 0, 5, 0, 0, 9, 3, 2, 5, 9, 7, 4, 8, 7, 8, 0, 9, 9, 3, 3, 0, 7, 6, 6, 8, 8, 2, 1, 4, 9, 6, 4, 7, 8, 0, 4, 2, 9, 2, 8, 6, 6, 8, 3, 2, 0, 9, 1, 5, 3, 1, 0, 4, 9, 5, 9, 6, 3, 0, 9, 6, 7, 2, 7, 3, 0, 3, 3, 1, 8, 7, 2, 8, 7, 1, 0, 0, 6, 2, 0, 1, 0, 5, 9, 2, 5, 9, 9, 4, 0, 4, 0, 8, 4, 3, 1, 6, 4, 4, 1, 0, 9, 8, 8, 1, 1, 9, 8, 6, 4, 1, 8, 8, 1, 5, 1, 6, 3, 3, 5, 5, 4, 1, 2, 3, 6, 8, 8, 6, 1, 3, 4, 7, 9, 1, 5, 7, 3, 0, 6, 3, 4, 8, 2, 8, 6, 1, 0, 8, 8, 3, 2, 1, 6, 9, 8, 9, 0, 9, 1, 5, 9, 4, 6, 2, 2, 8, 8, 1, 9, 4, 0, 1, 1, 3, 4, 0, 6, 9, 8, 6, 7, 6, 4, 0, 6, 8, 0, 8, 5, 1, 5, 4, 4, 7, 1, 1, 0, 7, 7, 0, 9, 9, 2, 6, 5, 9, 1, 9, 6, 7, 9, 9, 2, 8, 2, 6, 0, 8, 8, 3, 1, 7, 2, 3, 8, 9, 1, 9, 3, 4, 0, 3, 3, 5, 0, 4, 8, 0, 3, 6, 0, 1, 9, 3, 1, 8, 0, 4, 5, 2, 2, 8, 6, 7, 6, 8, 9, 7, 9, 7, 3, 9, 2]\n"
     ]
    }
   ],
   "source": [
    "# verifying this...\n",
    "print(labels)"
   ]
  },
  {
   "cell_type": "code",
   "execution_count": 117,
   "metadata": {},
   "outputs": [],
   "source": [
    "# converting the list to a csv file\n",
    "labels_df = pd.DataFrame(labels)\n",
    "\n",
    "labels_df.to_csv(\"submission_lr.csv\", index = True)"
   ]
  },
  {
   "cell_type": "markdown",
   "metadata": {},
   "source": [
    " So i just realised that the kaggle test dataset is different from the mnist test dataset\n",
    " So we need to convert the kaggel dataset to pytorch tensor and find out the accuracy\n",
    " The dataset is edited in the beginning and we will be using it now to make preds and find the accuracy"
   ]
  },
  {
   "cell_type": "markdown",
   "metadata": {},
   "source": [
    "# CNN Architecture "
   ]
  },
  {
   "cell_type": "code",
   "execution_count": 187,
   "metadata": {},
   "outputs": [],
   "source": [
    "class CNN_MNIST(nn.Module):\n",
    "    #initialising the initialiser/constructor\n",
    "    def __init__(self, input_size, out_size):\n",
    "        \n",
    "        # we construct a convolutional nn to classify the digits with multiple layers layer...\n",
    "        super().__init__()\n",
    "        \n",
    "        self.network = nn.Sequential(\n",
    "            nn.Conv2d(in_channels = 1, out_channels = 16, kernel_size = 3, padding = 1),\n",
    "            nn.MaxPool2d(2,2),  # output = (16, 14, 14)\n",
    "            nn.ReLU(),\n",
    "            nn.Conv2d(in_channels = 16, out_channels = 32, kernel_size = 3, stride = 1, padding = 1),\n",
    "            nn.ReLU(),\n",
    "            nn.MaxPool2d(2,2), # output = (32, 7, 7)\n",
    "            nn.Flatten(),\n",
    "            nn.Linear(32 * 7 * 7, 100),\n",
    "            nn.ReLU(),\n",
    "            nn.Linear(100, 10))\n",
    "    \n",
    "    # forming the cnn network\n",
    "    def forward(self, inputs):\n",
    "        return self.network(inputs)\n",
    "    \n",
    "    # training the model \n",
    "    def training_step(self, batch):\n",
    "        \n",
    "        images, labels = batch\n",
    "        out = self(images)\n",
    "        \n",
    "        # calculating the loss using the cross entropy function\n",
    "        loss = F.cross_entropy(out, labels)\n",
    "        \n",
    "        # returning the loss\n",
    "        return(loss)\n",
    "    \n",
    "    # validation step\n",
    "    def validation_step(self,batch):\n",
    "        \n",
    "        images, labels = batch\n",
    "        out = self(images)\n",
    "        \n",
    "        # getting the max prob label, i.e prediction\n",
    "        _, preds = torch.max(out, dim = 1)\n",
    "        \n",
    "        # finding the accuracy, total correct preds divided by total preds\n",
    "        acc = torch.tensor(torch.sum(preds == labels).item() / len(preds))\n",
    "        return(acc)\n",
    "    \n",
    "    # getting the results for the end of the epoch\n",
    "    def epoch_end(self, epoch, acc):\n",
    "        print(f\"Epoch:{epoch} , accuracy on test set : {acc}\")"
   ]
  },
  {
   "cell_type": "code",
   "execution_count": 188,
   "metadata": {},
   "outputs": [],
   "source": [
    "# using our gpu(cuda) to train the cnn\n",
    "\n",
    "def get_default_device():\n",
    "    \n",
    "    # Pick GPU if available, else CPU\n",
    "    if torch.cuda.is_available():\n",
    "        return torch.device('cuda')\n",
    "    \n",
    "    else:\n",
    "        return torch.device('cpu')\n",
    "    \n",
    "def to_device(data, device):\n",
    "    \n",
    "    # Move tensor(s) to chosen device\n",
    "    if isinstance(data, (list,tuple)):\n",
    "        return [to_device(x, device) for x in data]\n",
    "    \n",
    "    return data.to(device, non_blocking = True)\n",
    "\n",
    "class DeviceDataLoader():\n",
    "    \n",
    "    # Wrap a dataloader to move data to a device\n",
    "    def __init__(self, dl, device):\n",
    "        self.dl = dl\n",
    "        self.device = device\n",
    "        \n",
    "    def __iter__(self): \n",
    "        # Yield a batch of data after moving it to device\n",
    "        for b in self.dl: \n",
    "            yield to_device(b, self.device)\n",
    "\n",
    "    def __len__(self):\n",
    "        # Number of batches\n",
    "        return len(self.dl)"
   ]
  },
  {
   "cell_type": "code",
   "execution_count": 189,
   "metadata": {},
   "outputs": [
    {
     "data": {
      "text/plain": [
       "device(type='cuda')"
      ]
     },
     "execution_count": 189,
     "metadata": {},
     "output_type": "execute_result"
    }
   ],
   "source": [
    "# using CUDA\n",
    "device = get_default_device()\n",
    "device"
   ]
  },
  {
   "cell_type": "code",
   "execution_count": 190,
   "metadata": {},
   "outputs": [],
   "source": [
    "# defining the model\n",
    "model_cnn = CNN_MNIST(input_size, out_size)"
   ]
  },
  {
   "cell_type": "markdown",
   "metadata": {},
   "source": [
    "We move the train and validation loaders to the device(cuda)"
   ]
  },
  {
   "cell_type": "code",
   "execution_count": 191,
   "metadata": {},
   "outputs": [],
   "source": [
    "train_loader = DeviceDataLoader(train_loader, device)\n",
    "validation_loader = DeviceDataLoader(validation_loader, device)\n",
    "to_device(model_cnn, device)\n",
    "\n",
    "test_loader = DeviceDataLoader(test_loader, device)\n",
    "test_kaggle_Loader = DeviceDataLoader(test_kaggle_loader, device)"
   ]
  },
  {
   "cell_type": "markdown",
   "metadata": {},
   "source": [
    "## Training the CNN model"
   ]
  },
  {
   "cell_type": "code",
   "execution_count": 192,
   "metadata": {},
   "outputs": [
    {
     "name": "stdout",
     "output_type": "stream",
     "text": [
      "[tensor(0.1100)]\n"
     ]
    }
   ],
   "source": [
    "# evaluating using the random model with random weights\n",
    "history = [evaluation(model_cnn, validation_loader)]\n",
    "print(history)"
   ]
  },
  {
   "cell_type": "code",
   "execution_count": 193,
   "metadata": {},
   "outputs": [
    {
     "name": "stdout",
     "output_type": "stream",
     "text": [
      "Epoch:0 , accuracy on test set : 0.9424999952316284\n",
      "Epoch:1 , accuracy on test set : 0.9703124761581421\n",
      "Epoch:2 , accuracy on test set : 0.9778125286102295\n",
      "Epoch:3 , accuracy on test set : 0.9803125262260437\n",
      "Epoch:4 , accuracy on test set : 0.9818750023841858\n"
     ]
    }
   ],
   "source": [
    "# training the model using cross validation and with different learning rates...\n",
    "history = fit(model_cnn, 0.1, 5, train_loader, validation_loader)"
   ]
  },
  {
   "cell_type": "code",
   "execution_count": 194,
   "metadata": {},
   "outputs": [
    {
     "name": "stdout",
     "output_type": "stream",
     "text": [
      "Epoch:0 , accuracy on test set : 0.984375\n",
      "Epoch:1 , accuracy on test set : 0.9840624928474426\n",
      "Epoch:2 , accuracy on test set : 0.984375\n",
      "Epoch:3 , accuracy on test set : 0.9837499856948853\n",
      "Epoch:4 , accuracy on test set : 0.9859375357627869\n"
     ]
    }
   ],
   "source": [
    "history = fit(model_cnn, 0.01, 5, train_loader, validation_loader)"
   ]
  },
  {
   "cell_type": "code",
   "execution_count": 195,
   "metadata": {},
   "outputs": [
    {
     "name": "stdout",
     "output_type": "stream",
     "text": [
      "Epoch:0 , accuracy on test set : 0.9850000143051147\n",
      "Epoch:1 , accuracy on test set : 0.9850000143051147\n",
      "Epoch:2 , accuracy on test set : 0.9840624928474426\n",
      "Epoch:3 , accuracy on test set : 0.9846875071525574\n",
      "Epoch:4 , accuracy on test set : 0.984375\n"
     ]
    }
   ],
   "source": [
    "history = fit(model_cnn, 0.005, 5, train_loader, validation_loader)"
   ]
  },
  {
   "cell_type": "code",
   "execution_count": 196,
   "metadata": {},
   "outputs": [
    {
     "name": "stdout",
     "output_type": "stream",
     "text": [
      "Epoch:0 , accuracy on test set : 0.9853125214576721\n"
     ]
    }
   ],
   "source": [
    "history = fit(model_cnn, 0.001, 1, train_loader, validation_loader)"
   ]
  },
  {
   "cell_type": "code",
   "execution_count": 197,
   "metadata": {},
   "outputs": [
    {
     "data": {
      "text/plain": [
       "tensor(0.9872)"
      ]
     },
     "execution_count": 197,
     "metadata": {},
     "output_type": "execute_result"
    }
   ],
   "source": [
    "# getting the accuracy of our model on the test dataset(not kaggle)\n",
    "preds = evaluation(model_cnn, test_loader)\n",
    "preds"
   ]
  },
  {
   "cell_type": "code",
   "execution_count": 207,
   "metadata": {},
   "outputs": [],
   "source": [
    "# storing the predictions in a list\n",
    "labels_cnn = []\n",
    "\n",
    "for i in range(len(test_kag)):\n",
    "    \n",
    "    imag = test_kag[i]\n",
    "    \n",
    "    imge = to_device(imag.unsqueeze(0), device)\n",
    "    \n",
    "    image = torch.reshape(imge, (1, 28, 28))\n",
    "\n",
    "    labels_cnn.append(predict(image, model_cnn))\n",
    "    "
   ]
  },
  {
   "cell_type": "code",
   "execution_count": 208,
   "metadata": {},
   "outputs": [],
   "source": [
    "# converting the list to a csv file\n",
    "labels_df = pd.DataFrame(labels_cnn)\n",
    "\n",
    "labels_df.to_csv(\"submission_cnn.csv\", index = True)"
   ]
  }
 ],
 "metadata": {
  "kernelspec": {
   "display_name": "Python 3",
   "language": "python",
   "name": "python3"
  },
  "language_info": {
   "codemirror_mode": {
    "name": "ipython",
    "version": 3
   },
   "file_extension": ".py",
   "mimetype": "text/x-python",
   "name": "python",
   "nbconvert_exporter": "python",
   "pygments_lexer": "ipython3",
   "version": "3.7.6"
  }
 },
 "nbformat": 4,
 "nbformat_minor": 4
}
