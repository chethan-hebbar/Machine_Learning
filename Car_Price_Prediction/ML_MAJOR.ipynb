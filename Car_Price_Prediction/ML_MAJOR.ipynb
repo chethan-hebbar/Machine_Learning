{
 "cells": [
  {
   "cell_type": "markdown",
   "metadata": {},
   "source": [
    "# Major Project"
   ]
  },
  {
   "cell_type": "markdown",
   "metadata": {},
   "source": [
    "## Data Analysis"
   ]
  },
  {
   "cell_type": "code",
   "execution_count": 1,
   "metadata": {},
   "outputs": [],
   "source": [
    "# importing the necessary libraries\n",
    "import numpy as np\n",
    "import pandas as pd\n",
    "import matplotlib.pyplot as plt\n",
    "%matplotlib inline"
   ]
  },
  {
   "cell_type": "code",
   "execution_count": 2,
   "metadata": {},
   "outputs": [],
   "source": [
    "# converting the excel files to pandas dataframe\n",
    "train_df = pd.read_excel(\"train_data.xlsx\")\n",
    "\n",
    "test_df = pd.read_excel(\"test_data.xlsx\")"
   ]
  },
  {
   "cell_type": "code",
   "execution_count": 3,
   "metadata": {},
   "outputs": [
    {
     "data": {
      "text/html": [
       "<div>\n",
       "<style scoped>\n",
       "    .dataframe tbody tr th:only-of-type {\n",
       "        vertical-align: middle;\n",
       "    }\n",
       "\n",
       "    .dataframe tbody tr th {\n",
       "        vertical-align: top;\n",
       "    }\n",
       "\n",
       "    .dataframe thead th {\n",
       "        text-align: right;\n",
       "    }\n",
       "</style>\n",
       "<table border=\"1\" class=\"dataframe\">\n",
       "  <thead>\n",
       "    <tr style=\"text-align: right;\">\n",
       "      <th></th>\n",
       "      <th>Name</th>\n",
       "      <th>Location</th>\n",
       "      <th>Year</th>\n",
       "      <th>Kilometers_Driven</th>\n",
       "      <th>Fuel_Type</th>\n",
       "      <th>Transmission</th>\n",
       "      <th>Owner_Type</th>\n",
       "      <th>Mileage</th>\n",
       "      <th>Engine</th>\n",
       "      <th>Power</th>\n",
       "      <th>Seats</th>\n",
       "      <th>Price</th>\n",
       "    </tr>\n",
       "  </thead>\n",
       "  <tbody>\n",
       "    <tr>\n",
       "      <th>0</th>\n",
       "      <td>Maruti Wagon R LXI CNG</td>\n",
       "      <td>Mumbai</td>\n",
       "      <td>2010</td>\n",
       "      <td>72000</td>\n",
       "      <td>CNG</td>\n",
       "      <td>Manual</td>\n",
       "      <td>First</td>\n",
       "      <td>26.6 km/kg</td>\n",
       "      <td>998 CC</td>\n",
       "      <td>58.16 bhp</td>\n",
       "      <td>5.0</td>\n",
       "      <td>1.75</td>\n",
       "    </tr>\n",
       "    <tr>\n",
       "      <th>1</th>\n",
       "      <td>Hyundai Creta 1.6 CRDi SX Option</td>\n",
       "      <td>Pune</td>\n",
       "      <td>2015</td>\n",
       "      <td>41000</td>\n",
       "      <td>Diesel</td>\n",
       "      <td>Manual</td>\n",
       "      <td>First</td>\n",
       "      <td>19.67 kmpl</td>\n",
       "      <td>1582 CC</td>\n",
       "      <td>126.2 bhp</td>\n",
       "      <td>5.0</td>\n",
       "      <td>12.50</td>\n",
       "    </tr>\n",
       "    <tr>\n",
       "      <th>2</th>\n",
       "      <td>Honda Jazz V</td>\n",
       "      <td>Chennai</td>\n",
       "      <td>2011</td>\n",
       "      <td>46000</td>\n",
       "      <td>Petrol</td>\n",
       "      <td>Manual</td>\n",
       "      <td>First</td>\n",
       "      <td>18.2 kmpl</td>\n",
       "      <td>1199 CC</td>\n",
       "      <td>88.7 bhp</td>\n",
       "      <td>5.0</td>\n",
       "      <td>4.50</td>\n",
       "    </tr>\n",
       "    <tr>\n",
       "      <th>3</th>\n",
       "      <td>Maruti Ertiga VDI</td>\n",
       "      <td>Chennai</td>\n",
       "      <td>2012</td>\n",
       "      <td>87000</td>\n",
       "      <td>Diesel</td>\n",
       "      <td>Manual</td>\n",
       "      <td>First</td>\n",
       "      <td>20.77 kmpl</td>\n",
       "      <td>1248 CC</td>\n",
       "      <td>88.76 bhp</td>\n",
       "      <td>7.0</td>\n",
       "      <td>6.00</td>\n",
       "    </tr>\n",
       "    <tr>\n",
       "      <th>4</th>\n",
       "      <td>Audi A4 New 2.0 TDI Multitronic</td>\n",
       "      <td>Coimbatore</td>\n",
       "      <td>2013</td>\n",
       "      <td>40670</td>\n",
       "      <td>Diesel</td>\n",
       "      <td>Automatic</td>\n",
       "      <td>Second</td>\n",
       "      <td>15.2 kmpl</td>\n",
       "      <td>1968 CC</td>\n",
       "      <td>140.8 bhp</td>\n",
       "      <td>5.0</td>\n",
       "      <td>17.74</td>\n",
       "    </tr>\n",
       "  </tbody>\n",
       "</table>\n",
       "</div>"
      ],
      "text/plain": [
       "                               Name    Location  Year  Kilometers_Driven  \\\n",
       "0            Maruti Wagon R LXI CNG      Mumbai  2010              72000   \n",
       "1  Hyundai Creta 1.6 CRDi SX Option        Pune  2015              41000   \n",
       "2                      Honda Jazz V     Chennai  2011              46000   \n",
       "3                 Maruti Ertiga VDI     Chennai  2012              87000   \n",
       "4   Audi A4 New 2.0 TDI Multitronic  Coimbatore  2013              40670   \n",
       "\n",
       "  Fuel_Type Transmission Owner_Type     Mileage   Engine      Power  Seats  \\\n",
       "0       CNG       Manual      First  26.6 km/kg   998 CC  58.16 bhp    5.0   \n",
       "1    Diesel       Manual      First  19.67 kmpl  1582 CC  126.2 bhp    5.0   \n",
       "2    Petrol       Manual      First   18.2 kmpl  1199 CC   88.7 bhp    5.0   \n",
       "3    Diesel       Manual      First  20.77 kmpl  1248 CC  88.76 bhp    7.0   \n",
       "4    Diesel    Automatic     Second   15.2 kmpl  1968 CC  140.8 bhp    5.0   \n",
       "\n",
       "   Price  \n",
       "0   1.75  \n",
       "1  12.50  \n",
       "2   4.50  \n",
       "3   6.00  \n",
       "4  17.74  "
      ]
     },
     "execution_count": 3,
     "metadata": {},
     "output_type": "execute_result"
    }
   ],
   "source": [
    "# Examining the dataframes\n",
    "train_df.head()"
   ]
  },
  {
   "cell_type": "code",
   "execution_count": 4,
   "metadata": {},
   "outputs": [
    {
     "data": {
      "text/html": [
       "<div>\n",
       "<style scoped>\n",
       "    .dataframe tbody tr th:only-of-type {\n",
       "        vertical-align: middle;\n",
       "    }\n",
       "\n",
       "    .dataframe tbody tr th {\n",
       "        vertical-align: top;\n",
       "    }\n",
       "\n",
       "    .dataframe thead th {\n",
       "        text-align: right;\n",
       "    }\n",
       "</style>\n",
       "<table border=\"1\" class=\"dataframe\">\n",
       "  <thead>\n",
       "    <tr style=\"text-align: right;\">\n",
       "      <th></th>\n",
       "      <th>Name</th>\n",
       "      <th>Location</th>\n",
       "      <th>Year</th>\n",
       "      <th>Kilometers_Driven</th>\n",
       "      <th>Fuel_Type</th>\n",
       "      <th>Transmission</th>\n",
       "      <th>Owner_Type</th>\n",
       "      <th>Mileage</th>\n",
       "      <th>Engine</th>\n",
       "      <th>Power</th>\n",
       "      <th>Seats</th>\n",
       "    </tr>\n",
       "  </thead>\n",
       "  <tbody>\n",
       "    <tr>\n",
       "      <th>0</th>\n",
       "      <td>Maruti Alto K10 LXI CNG</td>\n",
       "      <td>Delhi</td>\n",
       "      <td>2014</td>\n",
       "      <td>40929</td>\n",
       "      <td>CNG</td>\n",
       "      <td>Manual</td>\n",
       "      <td>First</td>\n",
       "      <td>32.26 km/kg</td>\n",
       "      <td>998 CC</td>\n",
       "      <td>58.2 bhp</td>\n",
       "      <td>4.0</td>\n",
       "    </tr>\n",
       "    <tr>\n",
       "      <th>1</th>\n",
       "      <td>Maruti Alto 800 2016-2019 LXI</td>\n",
       "      <td>Coimbatore</td>\n",
       "      <td>2013</td>\n",
       "      <td>54493</td>\n",
       "      <td>Petrol</td>\n",
       "      <td>Manual</td>\n",
       "      <td>Second</td>\n",
       "      <td>24.7 kmpl</td>\n",
       "      <td>796 CC</td>\n",
       "      <td>47.3 bhp</td>\n",
       "      <td>5.0</td>\n",
       "    </tr>\n",
       "    <tr>\n",
       "      <th>2</th>\n",
       "      <td>Toyota Innova Crysta Touring Sport 2.4 MT</td>\n",
       "      <td>Mumbai</td>\n",
       "      <td>2017</td>\n",
       "      <td>34000</td>\n",
       "      <td>Diesel</td>\n",
       "      <td>Manual</td>\n",
       "      <td>First</td>\n",
       "      <td>13.68 kmpl</td>\n",
       "      <td>2393 CC</td>\n",
       "      <td>147.8 bhp</td>\n",
       "      <td>7.0</td>\n",
       "    </tr>\n",
       "    <tr>\n",
       "      <th>3</th>\n",
       "      <td>Toyota Etios Liva GD</td>\n",
       "      <td>Hyderabad</td>\n",
       "      <td>2012</td>\n",
       "      <td>139000</td>\n",
       "      <td>Diesel</td>\n",
       "      <td>Manual</td>\n",
       "      <td>First</td>\n",
       "      <td>23.59 kmpl</td>\n",
       "      <td>1364 CC</td>\n",
       "      <td>null bhp</td>\n",
       "      <td>5.0</td>\n",
       "    </tr>\n",
       "    <tr>\n",
       "      <th>4</th>\n",
       "      <td>Hyundai i20 Magna</td>\n",
       "      <td>Mumbai</td>\n",
       "      <td>2014</td>\n",
       "      <td>29000</td>\n",
       "      <td>Petrol</td>\n",
       "      <td>Manual</td>\n",
       "      <td>First</td>\n",
       "      <td>18.5 kmpl</td>\n",
       "      <td>1197 CC</td>\n",
       "      <td>82.85 bhp</td>\n",
       "      <td>5.0</td>\n",
       "    </tr>\n",
       "  </tbody>\n",
       "</table>\n",
       "</div>"
      ],
      "text/plain": [
       "                                        Name    Location  Year  \\\n",
       "0                    Maruti Alto K10 LXI CNG       Delhi  2014   \n",
       "1              Maruti Alto 800 2016-2019 LXI  Coimbatore  2013   \n",
       "2  Toyota Innova Crysta Touring Sport 2.4 MT      Mumbai  2017   \n",
       "3                       Toyota Etios Liva GD   Hyderabad  2012   \n",
       "4                          Hyundai i20 Magna      Mumbai  2014   \n",
       "\n",
       "   Kilometers_Driven Fuel_Type Transmission Owner_Type      Mileage   Engine  \\\n",
       "0              40929       CNG       Manual      First  32.26 km/kg   998 CC   \n",
       "1              54493    Petrol       Manual     Second    24.7 kmpl   796 CC   \n",
       "2              34000    Diesel       Manual      First   13.68 kmpl  2393 CC   \n",
       "3             139000    Diesel       Manual      First   23.59 kmpl  1364 CC   \n",
       "4              29000    Petrol       Manual      First    18.5 kmpl  1197 CC   \n",
       "\n",
       "       Power  Seats  \n",
       "0   58.2 bhp    4.0  \n",
       "1   47.3 bhp    5.0  \n",
       "2  147.8 bhp    7.0  \n",
       "3   null bhp    5.0  \n",
       "4  82.85 bhp    5.0  "
      ]
     },
     "execution_count": 4,
     "metadata": {},
     "output_type": "execute_result"
    }
   ],
   "source": [
    "test_df.head()"
   ]
  },
  {
   "cell_type": "markdown",
   "metadata": {},
   "source": [
    "As we can see, the name of the model of the car does not matter but the features do"
   ]
  },
  {
   "cell_type": "markdown",
   "metadata": {},
   "source": [
    "So we will delete this feature."
   ]
  },
  {
   "cell_type": "code",
   "execution_count": 5,
   "metadata": {},
   "outputs": [],
   "source": [
    "train_df.drop([\"Name\"], axis = 1, inplace = True)"
   ]
  },
  {
   "cell_type": "code",
   "execution_count": 6,
   "metadata": {},
   "outputs": [],
   "source": [
    "test_df.drop([\"Name\"], axis = 1, inplace = True)"
   ]
  },
  {
   "cell_type": "markdown",
   "metadata": {},
   "source": [
    "Let's look at the dataframes again"
   ]
  },
  {
   "cell_type": "code",
   "execution_count": 7,
   "metadata": {},
   "outputs": [
    {
     "data": {
      "text/html": [
       "<div>\n",
       "<style scoped>\n",
       "    .dataframe tbody tr th:only-of-type {\n",
       "        vertical-align: middle;\n",
       "    }\n",
       "\n",
       "    .dataframe tbody tr th {\n",
       "        vertical-align: top;\n",
       "    }\n",
       "\n",
       "    .dataframe thead th {\n",
       "        text-align: right;\n",
       "    }\n",
       "</style>\n",
       "<table border=\"1\" class=\"dataframe\">\n",
       "  <thead>\n",
       "    <tr style=\"text-align: right;\">\n",
       "      <th></th>\n",
       "      <th>Location</th>\n",
       "      <th>Year</th>\n",
       "      <th>Kilometers_Driven</th>\n",
       "      <th>Fuel_Type</th>\n",
       "      <th>Transmission</th>\n",
       "      <th>Owner_Type</th>\n",
       "      <th>Mileage</th>\n",
       "      <th>Engine</th>\n",
       "      <th>Power</th>\n",
       "      <th>Seats</th>\n",
       "      <th>Price</th>\n",
       "    </tr>\n",
       "  </thead>\n",
       "  <tbody>\n",
       "    <tr>\n",
       "      <th>0</th>\n",
       "      <td>Mumbai</td>\n",
       "      <td>2010</td>\n",
       "      <td>72000</td>\n",
       "      <td>CNG</td>\n",
       "      <td>Manual</td>\n",
       "      <td>First</td>\n",
       "      <td>26.6 km/kg</td>\n",
       "      <td>998 CC</td>\n",
       "      <td>58.16 bhp</td>\n",
       "      <td>5.0</td>\n",
       "      <td>1.75</td>\n",
       "    </tr>\n",
       "    <tr>\n",
       "      <th>1</th>\n",
       "      <td>Pune</td>\n",
       "      <td>2015</td>\n",
       "      <td>41000</td>\n",
       "      <td>Diesel</td>\n",
       "      <td>Manual</td>\n",
       "      <td>First</td>\n",
       "      <td>19.67 kmpl</td>\n",
       "      <td>1582 CC</td>\n",
       "      <td>126.2 bhp</td>\n",
       "      <td>5.0</td>\n",
       "      <td>12.50</td>\n",
       "    </tr>\n",
       "    <tr>\n",
       "      <th>2</th>\n",
       "      <td>Chennai</td>\n",
       "      <td>2011</td>\n",
       "      <td>46000</td>\n",
       "      <td>Petrol</td>\n",
       "      <td>Manual</td>\n",
       "      <td>First</td>\n",
       "      <td>18.2 kmpl</td>\n",
       "      <td>1199 CC</td>\n",
       "      <td>88.7 bhp</td>\n",
       "      <td>5.0</td>\n",
       "      <td>4.50</td>\n",
       "    </tr>\n",
       "    <tr>\n",
       "      <th>3</th>\n",
       "      <td>Chennai</td>\n",
       "      <td>2012</td>\n",
       "      <td>87000</td>\n",
       "      <td>Diesel</td>\n",
       "      <td>Manual</td>\n",
       "      <td>First</td>\n",
       "      <td>20.77 kmpl</td>\n",
       "      <td>1248 CC</td>\n",
       "      <td>88.76 bhp</td>\n",
       "      <td>7.0</td>\n",
       "      <td>6.00</td>\n",
       "    </tr>\n",
       "    <tr>\n",
       "      <th>4</th>\n",
       "      <td>Coimbatore</td>\n",
       "      <td>2013</td>\n",
       "      <td>40670</td>\n",
       "      <td>Diesel</td>\n",
       "      <td>Automatic</td>\n",
       "      <td>Second</td>\n",
       "      <td>15.2 kmpl</td>\n",
       "      <td>1968 CC</td>\n",
       "      <td>140.8 bhp</td>\n",
       "      <td>5.0</td>\n",
       "      <td>17.74</td>\n",
       "    </tr>\n",
       "  </tbody>\n",
       "</table>\n",
       "</div>"
      ],
      "text/plain": [
       "     Location  Year  Kilometers_Driven Fuel_Type Transmission Owner_Type  \\\n",
       "0      Mumbai  2010              72000       CNG       Manual      First   \n",
       "1        Pune  2015              41000    Diesel       Manual      First   \n",
       "2     Chennai  2011              46000    Petrol       Manual      First   \n",
       "3     Chennai  2012              87000    Diesel       Manual      First   \n",
       "4  Coimbatore  2013              40670    Diesel    Automatic     Second   \n",
       "\n",
       "      Mileage   Engine      Power  Seats  Price  \n",
       "0  26.6 km/kg   998 CC  58.16 bhp    5.0   1.75  \n",
       "1  19.67 kmpl  1582 CC  126.2 bhp    5.0  12.50  \n",
       "2   18.2 kmpl  1199 CC   88.7 bhp    5.0   4.50  \n",
       "3  20.77 kmpl  1248 CC  88.76 bhp    7.0   6.00  \n",
       "4   15.2 kmpl  1968 CC  140.8 bhp    5.0  17.74  "
      ]
     },
     "execution_count": 7,
     "metadata": {},
     "output_type": "execute_result"
    }
   ],
   "source": [
    "train_df.head()"
   ]
  },
  {
   "cell_type": "code",
   "execution_count": 8,
   "metadata": {
    "scrolled": true
   },
   "outputs": [
    {
     "data": {
      "text/html": [
       "<div>\n",
       "<style scoped>\n",
       "    .dataframe tbody tr th:only-of-type {\n",
       "        vertical-align: middle;\n",
       "    }\n",
       "\n",
       "    .dataframe tbody tr th {\n",
       "        vertical-align: top;\n",
       "    }\n",
       "\n",
       "    .dataframe thead th {\n",
       "        text-align: right;\n",
       "    }\n",
       "</style>\n",
       "<table border=\"1\" class=\"dataframe\">\n",
       "  <thead>\n",
       "    <tr style=\"text-align: right;\">\n",
       "      <th></th>\n",
       "      <th>Location</th>\n",
       "      <th>Year</th>\n",
       "      <th>Kilometers_Driven</th>\n",
       "      <th>Fuel_Type</th>\n",
       "      <th>Transmission</th>\n",
       "      <th>Owner_Type</th>\n",
       "      <th>Mileage</th>\n",
       "      <th>Engine</th>\n",
       "      <th>Power</th>\n",
       "      <th>Seats</th>\n",
       "    </tr>\n",
       "  </thead>\n",
       "  <tbody>\n",
       "    <tr>\n",
       "      <th>0</th>\n",
       "      <td>Delhi</td>\n",
       "      <td>2014</td>\n",
       "      <td>40929</td>\n",
       "      <td>CNG</td>\n",
       "      <td>Manual</td>\n",
       "      <td>First</td>\n",
       "      <td>32.26 km/kg</td>\n",
       "      <td>998 CC</td>\n",
       "      <td>58.2 bhp</td>\n",
       "      <td>4.0</td>\n",
       "    </tr>\n",
       "    <tr>\n",
       "      <th>1</th>\n",
       "      <td>Coimbatore</td>\n",
       "      <td>2013</td>\n",
       "      <td>54493</td>\n",
       "      <td>Petrol</td>\n",
       "      <td>Manual</td>\n",
       "      <td>Second</td>\n",
       "      <td>24.7 kmpl</td>\n",
       "      <td>796 CC</td>\n",
       "      <td>47.3 bhp</td>\n",
       "      <td>5.0</td>\n",
       "    </tr>\n",
       "    <tr>\n",
       "      <th>2</th>\n",
       "      <td>Mumbai</td>\n",
       "      <td>2017</td>\n",
       "      <td>34000</td>\n",
       "      <td>Diesel</td>\n",
       "      <td>Manual</td>\n",
       "      <td>First</td>\n",
       "      <td>13.68 kmpl</td>\n",
       "      <td>2393 CC</td>\n",
       "      <td>147.8 bhp</td>\n",
       "      <td>7.0</td>\n",
       "    </tr>\n",
       "    <tr>\n",
       "      <th>3</th>\n",
       "      <td>Hyderabad</td>\n",
       "      <td>2012</td>\n",
       "      <td>139000</td>\n",
       "      <td>Diesel</td>\n",
       "      <td>Manual</td>\n",
       "      <td>First</td>\n",
       "      <td>23.59 kmpl</td>\n",
       "      <td>1364 CC</td>\n",
       "      <td>null bhp</td>\n",
       "      <td>5.0</td>\n",
       "    </tr>\n",
       "    <tr>\n",
       "      <th>4</th>\n",
       "      <td>Mumbai</td>\n",
       "      <td>2014</td>\n",
       "      <td>29000</td>\n",
       "      <td>Petrol</td>\n",
       "      <td>Manual</td>\n",
       "      <td>First</td>\n",
       "      <td>18.5 kmpl</td>\n",
       "      <td>1197 CC</td>\n",
       "      <td>82.85 bhp</td>\n",
       "      <td>5.0</td>\n",
       "    </tr>\n",
       "  </tbody>\n",
       "</table>\n",
       "</div>"
      ],
      "text/plain": [
       "     Location  Year  Kilometers_Driven Fuel_Type Transmission Owner_Type  \\\n",
       "0       Delhi  2014              40929       CNG       Manual      First   \n",
       "1  Coimbatore  2013              54493    Petrol       Manual     Second   \n",
       "2      Mumbai  2017              34000    Diesel       Manual      First   \n",
       "3   Hyderabad  2012             139000    Diesel       Manual      First   \n",
       "4      Mumbai  2014              29000    Petrol       Manual      First   \n",
       "\n",
       "       Mileage   Engine      Power  Seats  \n",
       "0  32.26 km/kg   998 CC   58.2 bhp    4.0  \n",
       "1    24.7 kmpl   796 CC   47.3 bhp    5.0  \n",
       "2   13.68 kmpl  2393 CC  147.8 bhp    7.0  \n",
       "3   23.59 kmpl  1364 CC   null bhp    5.0  \n",
       "4    18.5 kmpl  1197 CC  82.85 bhp    5.0  "
      ]
     },
     "execution_count": 8,
     "metadata": {},
     "output_type": "execute_result"
    }
   ],
   "source": [
    "test_df.head()"
   ]
  },
  {
   "cell_type": "markdown",
   "metadata": {},
   "source": [
    "Let's look at the data types for the test and train dataframes"
   ]
  },
  {
   "cell_type": "code",
   "execution_count": 9,
   "metadata": {},
   "outputs": [
    {
     "name": "stdout",
     "output_type": "stream",
     "text": [
      "<class 'pandas.core.frame.DataFrame'>\n",
      "RangeIndex: 6019 entries, 0 to 6018\n",
      "Data columns (total 11 columns):\n",
      " #   Column             Non-Null Count  Dtype  \n",
      "---  ------             --------------  -----  \n",
      " 0   Location           6019 non-null   object \n",
      " 1   Year               6019 non-null   int64  \n",
      " 2   Kilometers_Driven  6019 non-null   int64  \n",
      " 3   Fuel_Type          6019 non-null   object \n",
      " 4   Transmission       6019 non-null   object \n",
      " 5   Owner_Type         6019 non-null   object \n",
      " 6   Mileage            6017 non-null   object \n",
      " 7   Engine             5983 non-null   object \n",
      " 8   Power              5983 non-null   object \n",
      " 9   Seats              5977 non-null   float64\n",
      " 10  Price              6019 non-null   float64\n",
      "dtypes: float64(2), int64(2), object(7)\n",
      "memory usage: 517.4+ KB\n"
     ]
    }
   ],
   "source": [
    "train_df.info()"
   ]
  },
  {
   "cell_type": "code",
   "execution_count": 10,
   "metadata": {},
   "outputs": [
    {
     "name": "stdout",
     "output_type": "stream",
     "text": [
      "<class 'pandas.core.frame.DataFrame'>\n",
      "RangeIndex: 1234 entries, 0 to 1233\n",
      "Data columns (total 10 columns):\n",
      " #   Column             Non-Null Count  Dtype  \n",
      "---  ------             --------------  -----  \n",
      " 0   Location           1234 non-null   object \n",
      " 1   Year               1234 non-null   int64  \n",
      " 2   Kilometers_Driven  1234 non-null   int64  \n",
      " 3   Fuel_Type          1234 non-null   object \n",
      " 4   Transmission       1234 non-null   object \n",
      " 5   Owner_Type         1234 non-null   object \n",
      " 6   Mileage            1234 non-null   object \n",
      " 7   Engine             1224 non-null   object \n",
      " 8   Power              1224 non-null   object \n",
      " 9   Seats              1223 non-null   float64\n",
      "dtypes: float64(1), int64(2), object(7)\n",
      "memory usage: 96.5+ KB\n"
     ]
    }
   ],
   "source": [
    "test_df.info()"
   ]
  },
  {
   "cell_type": "markdown",
   "metadata": {},
   "source": [
    "### Now let's look at the relation between the price of the car and the input features"
   ]
  },
  {
   "cell_type": "code",
   "execution_count": 11,
   "metadata": {},
   "outputs": [
    {
     "data": {
      "text/plain": [
       "<matplotlib.axes._subplots.AxesSubplot at 0x1a8966bed48>"
      ]
     },
     "execution_count": 11,
     "metadata": {},
     "output_type": "execute_result"
    },
    {
     "data": {
      "image/png": "[encoded data removed]",
      "text/plain": [
       "<Figure size 432x288 with 1 Axes>"
      ]
     },
     "metadata": {
      "needs_background": "light"
     },
     "output_type": "display_data"
    }
   ],
   "source": [
    "train_df.plot.scatter(x = \"Location\", y = \"Price\", color = \"r\", title = \"Price vs Location\")"
   ]
  },
  {
   "cell_type": "markdown",
   "metadata": {},
   "source": [
    "Almost all the cities are having a similar price."
   ]
  },
  {
   "cell_type": "code",
   "execution_count": 12,
   "metadata": {},
   "outputs": [
    {
     "data": {
      "text/plain": [
       "<matplotlib.axes._subplots.AxesSubplot at 0x1a898050388>"
      ]
     },
     "execution_count": 12,
     "metadata": {},
     "output_type": "execute_result"
    },
    {
     "data": {
      "image/png": "[encoded data removed]",
      "text/plain": [
       "<Figure size 432x288 with 1 Axes>"
      ]
     },
     "metadata": {
      "needs_background": "light"
     },
     "output_type": "display_data"
    }
   ],
   "source": [
    "train_df.plot.scatter(x = \"Year\", y = \"Price\", color = \"r\", title = \"Year vs Location\")"
   ]
  },
  {
   "cell_type": "markdown",
   "metadata": {},
   "source": [
    "The price seems to be increasing with every year"
   ]
  },
  {
   "cell_type": "code",
   "execution_count": 13,
   "metadata": {},
   "outputs": [
    {
     "data": {
      "text/plain": [
       "<matplotlib.axes._subplots.AxesSubplot at 0x1a8980bc908>"
      ]
     },
     "execution_count": 13,
     "metadata": {},
     "output_type": "execute_result"
    },
    {
     "data": {
      "image/png": "[encoded data removed]",
      "text/plain": [
       "<Figure size 432x288 with 1 Axes>"
      ]
     },
     "metadata": {
      "needs_background": "light"
     },
     "output_type": "display_data"
    }
   ],
   "source": [
    "train_df.plot.scatter(x = \"Kilometers_Driven\", y = \"Price\", color = \"r\", title = \"Price vs Kilometers\")"
   ]
  },
  {
   "cell_type": "code",
   "execution_count": 14,
   "metadata": {},
   "outputs": [
    {
     "data": {
      "text/plain": [
       "<matplotlib.axes._subplots.AxesSubplot at 0x1a898135288>"
      ]
     },
     "execution_count": 14,
     "metadata": {},
     "output_type": "execute_result"
    },
    {
     "data": {
      "image/png": "[encoded data removed]",
      "text/plain": [
       "<Figure size 432x288 with 1 Axes>"
      ]
     },
     "metadata": {
      "needs_background": "light"
     },
     "output_type": "display_data"
    }
   ],
   "source": [
    "train_df.plot.scatter(x = \"Fuel_Type\", y = \"Price\", color = \"g\", title = \"Price vs Fuel_Type\")"
   ]
  },
  {
   "cell_type": "markdown",
   "metadata": {},
   "source": [
    "We can ignore electric, CNG and LPG while making our final dataset"
   ]
  },
  {
   "cell_type": "code",
   "execution_count": 15,
   "metadata": {},
   "outputs": [
    {
     "data": {
      "text/plain": [
       "<matplotlib.axes._subplots.AxesSubplot at 0x1a89818f248>"
      ]
     },
     "execution_count": 15,
     "metadata": {},
     "output_type": "execute_result"
    },
    {
     "data": {
      "image/png": "[encoded data removed]",
      "text/plain": [
       "<Figure size 432x288 with 1 Axes>"
      ]
     },
     "metadata": {
      "needs_background": "light"
     },
     "output_type": "display_data"
    }
   ],
   "source": [
    "train_df.plot.scatter(x = \"Transmission\", y = \"Price\", color = \"g\", title = \"Price vs Transmission Type\")"
   ]
  },
  {
   "cell_type": "code",
   "execution_count": 16,
   "metadata": {},
   "outputs": [
    {
     "data": {
      "text/plain": [
       "<matplotlib.axes._subplots.AxesSubplot at 0x1a8981f1bc8>"
      ]
     },
     "execution_count": 16,
     "metadata": {},
     "output_type": "execute_result"
    },
    {
     "data": {
      "image/png": "[encoded data removed]",
      "text/plain": [
       "<Figure size 432x288 with 1 Axes>"
      ]
     },
     "metadata": {
      "needs_background": "light"
     },
     "output_type": "display_data"
    }
   ],
   "source": [
    "train_df.plot.scatter(x = \"Owner_Type\", y = \"Price\", color = \"g\", title = \"Price vs Owner Number\")"
   ]
  },
  {
   "cell_type": "code",
   "execution_count": 17,
   "metadata": {},
   "outputs": [
    {
     "name": "stdout",
     "output_type": "stream",
     "text": [
      "First             4929\n",
      "Second             968\n",
      "Third              113\n",
      "Fourth & Above       9\n",
      "Name: Owner_Type, dtype: int64\n",
      "First             1023\n",
      "Second             184\n",
      "Third               24\n",
      "Fourth & Above       3\n",
      "Name: Owner_Type, dtype: int64\n"
     ]
    }
   ],
   "source": [
    "print(train_df[\"Owner_Type\"].value_counts())\n",
    "print(test_df[\"Owner_Type\"].value_counts())"
   ]
  },
  {
   "cell_type": "markdown",
   "metadata": {},
   "source": [
    " We see that the first and second hand cars are more expensive"
   ]
  },
  {
   "cell_type": "markdown",
   "metadata": {},
   "source": [
    "Fourth and above are too little in number to make a difference"
   ]
  },
  {
   "cell_type": "code",
   "execution_count": 18,
   "metadata": {},
   "outputs": [
    {
     "data": {
      "text/plain": [
       "<matplotlib.axes._subplots.AxesSubplot at 0x1a89825b608>"
      ]
     },
     "execution_count": 18,
     "metadata": {},
     "output_type": "execute_result"
    },
    {
     "data": {
      "image/png": "[encoded data removed]",
      "text/plain": [
       "<Figure size 432x288 with 1 Axes>"
      ]
     },
     "metadata": {
      "needs_background": "light"
     },
     "output_type": "display_data"
    }
   ],
   "source": [
    "train_df.plot.scatter(x = \"Seats\", y = \"Price\", color = \"g\", title = \"Price vs Number of Seats\")"
   ]
  },
  {
   "cell_type": "markdown",
   "metadata": {},
   "source": [
    "## Feature Engineering and dealing with missing values"
   ]
  },
  {
   "cell_type": "markdown",
   "metadata": {},
   "source": [
    "Categorical Features"
   ]
  },
  {
   "cell_type": "code",
   "execution_count": 19,
   "metadata": {},
   "outputs": [],
   "source": [
    "# We now use one-hot encoding for categorical features with non-ascending, non-binary values\n",
    "# get_dummies() does this for us\n",
    "\n",
    "train_df = pd.get_dummies(train_df, columns = [\"Location\", \"Fuel_Type\", \"Transmission\", \"Owner_Type\"])\n",
    "\n",
    "test_df = pd.get_dummies(test_df, columns = [\"Location\", \"Fuel_Type\", \"Transmission\", \"Owner_Type\"])"
   ]
  },
  {
   "cell_type": "code",
   "execution_count": 20,
   "metadata": {},
   "outputs": [
    {
     "name": "stdout",
     "output_type": "stream",
     "text": [
      "<class 'pandas.core.frame.DataFrame'>\n",
      "RangeIndex: 6019 entries, 0 to 6018\n",
      "Data columns (total 29 columns):\n",
      " #   Column                     Non-Null Count  Dtype  \n",
      "---  ------                     --------------  -----  \n",
      " 0   Year                       6019 non-null   int64  \n",
      " 1   Kilometers_Driven          6019 non-null   int64  \n",
      " 2   Mileage                    6017 non-null   object \n",
      " 3   Engine                     5983 non-null   object \n",
      " 4   Power                      5983 non-null   object \n",
      " 5   Seats                      5977 non-null   float64\n",
      " 6   Price                      6019 non-null   float64\n",
      " 7   Location_Ahmedabad         6019 non-null   uint8  \n",
      " 8   Location_Bangalore         6019 non-null   uint8  \n",
      " 9   Location_Chennai           6019 non-null   uint8  \n",
      " 10  Location_Coimbatore        6019 non-null   uint8  \n",
      " 11  Location_Delhi             6019 non-null   uint8  \n",
      " 12  Location_Hyderabad         6019 non-null   uint8  \n",
      " 13  Location_Jaipur            6019 non-null   uint8  \n",
      " 14  Location_Kochi             6019 non-null   uint8  \n",
      " 15  Location_Kolkata           6019 non-null   uint8  \n",
      " 16  Location_Mumbai            6019 non-null   uint8  \n",
      " 17  Location_Pune              6019 non-null   uint8  \n",
      " 18  Fuel_Type_CNG              6019 non-null   uint8  \n",
      " 19  Fuel_Type_Diesel           6019 non-null   uint8  \n",
      " 20  Fuel_Type_Electric         6019 non-null   uint8  \n",
      " 21  Fuel_Type_LPG              6019 non-null   uint8  \n",
      " 22  Fuel_Type_Petrol           6019 non-null   uint8  \n",
      " 23  Transmission_Automatic     6019 non-null   uint8  \n",
      " 24  Transmission_Manual        6019 non-null   uint8  \n",
      " 25  Owner_Type_First           6019 non-null   uint8  \n",
      " 26  Owner_Type_Fourth & Above  6019 non-null   uint8  \n",
      " 27  Owner_Type_Second          6019 non-null   uint8  \n",
      " 28  Owner_Type_Third           6019 non-null   uint8  \n",
      "dtypes: float64(2), int64(2), object(3), uint8(22)\n",
      "memory usage: 458.6+ KB\n"
     ]
    }
   ],
   "source": [
    "train_df.info()"
   ]
  },
  {
   "cell_type": "code",
   "execution_count": 21,
   "metadata": {},
   "outputs": [],
   "source": [
    "# now we need to drop the unecessary columns\n",
    "train_df.drop([\"Fuel_Type_CNG\", \"Fuel_Type_LPG\", \"Fuel_Type_Electric\", \"Owner_Type_Fourth & Above\"], axis = 1, inplace = True)"
   ]
  },
  {
   "cell_type": "code",
   "execution_count": 22,
   "metadata": {},
   "outputs": [],
   "source": [
    "test_df.drop([\"Fuel_Type_CNG\", \"Fuel_Type_LPG\", \"Owner_Type_Fourth & Above\"], axis = 1, inplace = True)"
   ]
  },
  {
   "cell_type": "code",
   "execution_count": 23,
   "metadata": {},
   "outputs": [
    {
     "name": "stdout",
     "output_type": "stream",
     "text": [
      "<class 'pandas.core.frame.DataFrame'>\n",
      "RangeIndex: 6019 entries, 0 to 6018\n",
      "Data columns (total 25 columns):\n",
      " #   Column                  Non-Null Count  Dtype  \n",
      "---  ------                  --------------  -----  \n",
      " 0   Year                    6019 non-null   int64  \n",
      " 1   Kilometers_Driven       6019 non-null   int64  \n",
      " 2   Mileage                 6017 non-null   object \n",
      " 3   Engine                  5983 non-null   object \n",
      " 4   Power                   5983 non-null   object \n",
      " 5   Seats                   5977 non-null   float64\n",
      " 6   Price                   6019 non-null   float64\n",
      " 7   Location_Ahmedabad      6019 non-null   uint8  \n",
      " 8   Location_Bangalore      6019 non-null   uint8  \n",
      " 9   Location_Chennai        6019 non-null   uint8  \n",
      " 10  Location_Coimbatore     6019 non-null   uint8  \n",
      " 11  Location_Delhi          6019 non-null   uint8  \n",
      " 12  Location_Hyderabad      6019 non-null   uint8  \n",
      " 13  Location_Jaipur         6019 non-null   uint8  \n",
      " 14  Location_Kochi          6019 non-null   uint8  \n",
      " 15  Location_Kolkata        6019 non-null   uint8  \n",
      " 16  Location_Mumbai         6019 non-null   uint8  \n",
      " 17  Location_Pune           6019 non-null   uint8  \n",
      " 18  Fuel_Type_Diesel        6019 non-null   uint8  \n",
      " 19  Fuel_Type_Petrol        6019 non-null   uint8  \n",
      " 20  Transmission_Automatic  6019 non-null   uint8  \n",
      " 21  Transmission_Manual     6019 non-null   uint8  \n",
      " 22  Owner_Type_First        6019 non-null   uint8  \n",
      " 23  Owner_Type_Second       6019 non-null   uint8  \n",
      " 24  Owner_Type_Third        6019 non-null   uint8  \n",
      "dtypes: float64(2), int64(2), object(3), uint8(18)\n",
      "memory usage: 435.1+ KB\n"
     ]
    }
   ],
   "source": [
    "train_df.info()"
   ]
  },
  {
   "cell_type": "markdown",
   "metadata": {},
   "source": [
    "### Handling Missing values and Outliers"
   ]
  },
  {
   "cell_type": "markdown",
   "metadata": {},
   "source": [
    "Seats"
   ]
  },
  {
   "cell_type": "code",
   "execution_count": 24,
   "metadata": {},
   "outputs": [],
   "source": [
    "median_no_seats = train_df[\"Seats\"].median()\n",
    "train_df[\"Seats\"].fillna(median_no_seats, inplace = True)"
   ]
  },
  {
   "cell_type": "code",
   "execution_count": 25,
   "metadata": {},
   "outputs": [],
   "source": [
    "median_no_seats = test_df[\"Seats\"].median()\n",
    "test_df[\"Seats\"].fillna(median_no_seats, inplace = True)"
   ]
  },
  {
   "cell_type": "code",
   "execution_count": 26,
   "metadata": {},
   "outputs": [
    {
     "name": "stdout",
     "output_type": "stream",
     "text": [
      "<class 'pandas.core.frame.DataFrame'>\n",
      "RangeIndex: 6019 entries, 0 to 6018\n",
      "Data columns (total 25 columns):\n",
      " #   Column                  Non-Null Count  Dtype  \n",
      "---  ------                  --------------  -----  \n",
      " 0   Year                    6019 non-null   int64  \n",
      " 1   Kilometers_Driven       6019 non-null   int64  \n",
      " 2   Mileage                 6017 non-null   object \n",
      " 3   Engine                  5983 non-null   object \n",
      " 4   Power                   5983 non-null   object \n",
      " 5   Seats                   6019 non-null   float64\n",
      " 6   Price                   6019 non-null   float64\n",
      " 7   Location_Ahmedabad      6019 non-null   uint8  \n",
      " 8   Location_Bangalore      6019 non-null   uint8  \n",
      " 9   Location_Chennai        6019 non-null   uint8  \n",
      " 10  Location_Coimbatore     6019 non-null   uint8  \n",
      " 11  Location_Delhi          6019 non-null   uint8  \n",
      " 12  Location_Hyderabad      6019 non-null   uint8  \n",
      " 13  Location_Jaipur         6019 non-null   uint8  \n",
      " 14  Location_Kochi          6019 non-null   uint8  \n",
      " 15  Location_Kolkata        6019 non-null   uint8  \n",
      " 16  Location_Mumbai         6019 non-null   uint8  \n",
      " 17  Location_Pune           6019 non-null   uint8  \n",
      " 18  Fuel_Type_Diesel        6019 non-null   uint8  \n",
      " 19  Fuel_Type_Petrol        6019 non-null   uint8  \n",
      " 20  Transmission_Automatic  6019 non-null   uint8  \n",
      " 21  Transmission_Manual     6019 non-null   uint8  \n",
      " 22  Owner_Type_First        6019 non-null   uint8  \n",
      " 23  Owner_Type_Second       6019 non-null   uint8  \n",
      " 24  Owner_Type_Third        6019 non-null   uint8  \n",
      "dtypes: float64(2), int64(2), object(3), uint8(18)\n",
      "memory usage: 435.1+ KB\n"
     ]
    }
   ],
   "source": [
    "train_df.info()"
   ]
  },
  {
   "cell_type": "markdown",
   "metadata": {},
   "source": [
    "Outliers in Kilometers Driven"
   ]
  },
  {
   "cell_type": "code",
   "execution_count": 27,
   "metadata": {},
   "outputs": [
    {
     "data": {
      "text/plain": [
       "<matplotlib.axes._subplots.AxesSubplot at 0x1a8982b0a08>"
      ]
     },
     "execution_count": 27,
     "metadata": {},
     "output_type": "execute_result"
    },
    {
     "data": {
      "image/png": "[encoded data removed]",
      "text/plain": [
       "<Figure size 432x288 with 1 Axes>"
      ]
     },
     "metadata": {
      "needs_background": "light"
     },
     "output_type": "display_data"
    }
   ],
   "source": [
    "# histogram for kilometers driven\n",
    "\n",
    "train_df.Kilometers_Driven.plot(kind = \"hist\", bins = 20, color = \"c\")"
   ]
  },
  {
   "cell_type": "code",
   "execution_count": 28,
   "metadata": {},
   "outputs": [
    {
     "data": {
      "text/html": [
       "<div>\n",
       "<style scoped>\n",
       "    .dataframe tbody tr th:only-of-type {\n",
       "        vertical-align: middle;\n",
       "    }\n",
       "\n",
       "    .dataframe tbody tr th {\n",
       "        vertical-align: top;\n",
       "    }\n",
       "\n",
       "    .dataframe thead th {\n",
       "        text-align: right;\n",
       "    }\n",
       "</style>\n",
       "<table border=\"1\" class=\"dataframe\">\n",
       "  <thead>\n",
       "    <tr style=\"text-align: right;\">\n",
       "      <th></th>\n",
       "      <th>Year</th>\n",
       "      <th>Kilometers_Driven</th>\n",
       "      <th>Mileage</th>\n",
       "      <th>Engine</th>\n",
       "      <th>Power</th>\n",
       "      <th>Seats</th>\n",
       "      <th>Price</th>\n",
       "      <th>Location_Ahmedabad</th>\n",
       "      <th>Location_Bangalore</th>\n",
       "      <th>Location_Chennai</th>\n",
       "      <th>...</th>\n",
       "      <th>Location_Kolkata</th>\n",
       "      <th>Location_Mumbai</th>\n",
       "      <th>Location_Pune</th>\n",
       "      <th>Fuel_Type_Diesel</th>\n",
       "      <th>Fuel_Type_Petrol</th>\n",
       "      <th>Transmission_Automatic</th>\n",
       "      <th>Transmission_Manual</th>\n",
       "      <th>Owner_Type_First</th>\n",
       "      <th>Owner_Type_Second</th>\n",
       "      <th>Owner_Type_Third</th>\n",
       "    </tr>\n",
       "  </thead>\n",
       "  <tbody>\n",
       "    <tr>\n",
       "      <th>2328</th>\n",
       "      <td>2017</td>\n",
       "      <td>6500000</td>\n",
       "      <td>15.97 kmpl</td>\n",
       "      <td>2993 CC</td>\n",
       "      <td>258 bhp</td>\n",
       "      <td>5.0</td>\n",
       "      <td>65.0</td>\n",
       "      <td>0</td>\n",
       "      <td>0</td>\n",
       "      <td>1</td>\n",
       "      <td>...</td>\n",
       "      <td>0</td>\n",
       "      <td>0</td>\n",
       "      <td>0</td>\n",
       "      <td>1</td>\n",
       "      <td>0</td>\n",
       "      <td>1</td>\n",
       "      <td>0</td>\n",
       "      <td>1</td>\n",
       "      <td>0</td>\n",
       "      <td>0</td>\n",
       "    </tr>\n",
       "  </tbody>\n",
       "</table>\n",
       "<p>1 rows × 25 columns</p>\n",
       "</div>"
      ],
      "text/plain": [
       "      Year  Kilometers_Driven     Mileage   Engine    Power  Seats  Price  \\\n",
       "2328  2017            6500000  15.97 kmpl  2993 CC  258 bhp    5.0   65.0   \n",
       "\n",
       "      Location_Ahmedabad  Location_Bangalore  Location_Chennai  ...  \\\n",
       "2328                   0                   0                 1  ...   \n",
       "\n",
       "      Location_Kolkata  Location_Mumbai  Location_Pune  Fuel_Type_Diesel  \\\n",
       "2328                 0                0              0                 1   \n",
       "\n",
       "      Fuel_Type_Petrol  Transmission_Automatic  Transmission_Manual  \\\n",
       "2328                 0                       1                    0   \n",
       "\n",
       "      Owner_Type_First  Owner_Type_Second  Owner_Type_Third  \n",
       "2328                 1                  0                 0  \n",
       "\n",
       "[1 rows x 25 columns]"
      ]
     },
     "execution_count": 28,
     "metadata": {},
     "output_type": "execute_result"
    }
   ],
   "source": [
    "# look into the outliers\n",
    "train_df.loc[train_df.Kilometers_Driven == train_df.Kilometers_Driven.max()]"
   ]
  },
  {
   "cell_type": "code",
   "execution_count": 29,
   "metadata": {},
   "outputs": [],
   "source": [
    "# create the kilometers_driven bin data feature, that we will use later...\n",
    "train_df[\"Kilometers_Bin\"] = pd.qcut(train_df.Kilometers_Driven, 4, labels = [\"very_low\", \"low\", \"high\", \"very_high\"])\n",
    "\n",
    "test_df[\"Kilometers_Bin\"] = pd.qcut(test_df.Kilometers_Driven, 4, labels = [\"very_low\", \"low\", \"high\", \"very_high\"])"
   ]
  },
  {
   "cell_type": "code",
   "execution_count": 30,
   "metadata": {},
   "outputs": [
    {
     "name": "stdout",
     "output_type": "stream",
     "text": [
      "<class 'pandas.core.frame.DataFrame'>\n",
      "RangeIndex: 6019 entries, 0 to 6018\n",
      "Data columns (total 26 columns):\n",
      " #   Column                  Non-Null Count  Dtype   \n",
      "---  ------                  --------------  -----   \n",
      " 0   Year                    6019 non-null   int64   \n",
      " 1   Kilometers_Driven       6019 non-null   int64   \n",
      " 2   Mileage                 6017 non-null   object  \n",
      " 3   Engine                  5983 non-null   object  \n",
      " 4   Power                   5983 non-null   object  \n",
      " 5   Seats                   6019 non-null   float64 \n",
      " 6   Price                   6019 non-null   float64 \n",
      " 7   Location_Ahmedabad      6019 non-null   uint8   \n",
      " 8   Location_Bangalore      6019 non-null   uint8   \n",
      " 9   Location_Chennai        6019 non-null   uint8   \n",
      " 10  Location_Coimbatore     6019 non-null   uint8   \n",
      " 11  Location_Delhi          6019 non-null   uint8   \n",
      " 12  Location_Hyderabad      6019 non-null   uint8   \n",
      " 13  Location_Jaipur         6019 non-null   uint8   \n",
      " 14  Location_Kochi          6019 non-null   uint8   \n",
      " 15  Location_Kolkata        6019 non-null   uint8   \n",
      " 16  Location_Mumbai         6019 non-null   uint8   \n",
      " 17  Location_Pune           6019 non-null   uint8   \n",
      " 18  Fuel_Type_Diesel        6019 non-null   uint8   \n",
      " 19  Fuel_Type_Petrol        6019 non-null   uint8   \n",
      " 20  Transmission_Automatic  6019 non-null   uint8   \n",
      " 21  Transmission_Manual     6019 non-null   uint8   \n",
      " 22  Owner_Type_First        6019 non-null   uint8   \n",
      " 23  Owner_Type_Second       6019 non-null   uint8   \n",
      " 24  Owner_Type_Third        6019 non-null   uint8   \n",
      " 25  Kilometers_Bin          6019 non-null   category\n",
      "dtypes: category(1), float64(2), int64(2), object(3), uint8(18)\n",
      "memory usage: 441.2+ KB\n"
     ]
    }
   ],
   "source": [
    "train_df.info()"
   ]
  },
  {
   "cell_type": "markdown",
   "metadata": {},
   "source": [
    "Now we want to one-hot encode the Kilometers_Bin feature"
   ]
  },
  {
   "cell_type": "code",
   "execution_count": 31,
   "metadata": {},
   "outputs": [],
   "source": [
    "train_df = pd.get_dummies(train_df, columns = [\"Kilometers_Bin\"])\n",
    "\n",
    "test_df = pd.get_dummies(test_df, columns = [\"Kilometers_Bin\"])"
   ]
  },
  {
   "cell_type": "code",
   "execution_count": 32,
   "metadata": {},
   "outputs": [],
   "source": [
    "# Now let's drop the useless columns\n",
    "train_df.drop([\"Kilometers_Driven\"], axis = 1, inplace = True)\n",
    "\n",
    "test_df.drop([\"Kilometers_Driven\"], axis = 1, inplace = True)"
   ]
  },
  {
   "cell_type": "code",
   "execution_count": 33,
   "metadata": {},
   "outputs": [
    {
     "name": "stdout",
     "output_type": "stream",
     "text": [
      "<class 'pandas.core.frame.DataFrame'>\n",
      "RangeIndex: 6019 entries, 0 to 6018\n",
      "Data columns (total 28 columns):\n",
      " #   Column                    Non-Null Count  Dtype  \n",
      "---  ------                    --------------  -----  \n",
      " 0   Year                      6019 non-null   int64  \n",
      " 1   Mileage                   6017 non-null   object \n",
      " 2   Engine                    5983 non-null   object \n",
      " 3   Power                     5983 non-null   object \n",
      " 4   Seats                     6019 non-null   float64\n",
      " 5   Price                     6019 non-null   float64\n",
      " 6   Location_Ahmedabad        6019 non-null   uint8  \n",
      " 7   Location_Bangalore        6019 non-null   uint8  \n",
      " 8   Location_Chennai          6019 non-null   uint8  \n",
      " 9   Location_Coimbatore       6019 non-null   uint8  \n",
      " 10  Location_Delhi            6019 non-null   uint8  \n",
      " 11  Location_Hyderabad        6019 non-null   uint8  \n",
      " 12  Location_Jaipur           6019 non-null   uint8  \n",
      " 13  Location_Kochi            6019 non-null   uint8  \n",
      " 14  Location_Kolkata          6019 non-null   uint8  \n",
      " 15  Location_Mumbai           6019 non-null   uint8  \n",
      " 16  Location_Pune             6019 non-null   uint8  \n",
      " 17  Fuel_Type_Diesel          6019 non-null   uint8  \n",
      " 18  Fuel_Type_Petrol          6019 non-null   uint8  \n",
      " 19  Transmission_Automatic    6019 non-null   uint8  \n",
      " 20  Transmission_Manual       6019 non-null   uint8  \n",
      " 21  Owner_Type_First          6019 non-null   uint8  \n",
      " 22  Owner_Type_Second         6019 non-null   uint8  \n",
      " 23  Owner_Type_Third          6019 non-null   uint8  \n",
      " 24  Kilometers_Bin_very_low   6019 non-null   uint8  \n",
      " 25  Kilometers_Bin_low        6019 non-null   uint8  \n",
      " 26  Kilometers_Bin_high       6019 non-null   uint8  \n",
      " 27  Kilometers_Bin_very_high  6019 non-null   uint8  \n",
      "dtypes: float64(2), int64(1), object(3), uint8(22)\n",
      "memory usage: 411.6+ KB\n"
     ]
    }
   ],
   "source": [
    "train_df.info()"
   ]
  },
  {
   "cell_type": "markdown",
   "metadata": {},
   "source": [
    "#### Modifying the \"Engine\" feature"
   ]
  },
  {
   "cell_type": "code",
   "execution_count": 34,
   "metadata": {},
   "outputs": [],
   "source": [
    "train_df[\"Engine\"].fillna(\"0 0\", inplace = True)"
   ]
  },
  {
   "cell_type": "code",
   "execution_count": 35,
   "metadata": {},
   "outputs": [
    {
     "name": "stdout",
     "output_type": "stream",
     "text": [
      "<class 'pandas.core.frame.DataFrame'>\n",
      "RangeIndex: 6019 entries, 0 to 6018\n",
      "Data columns (total 28 columns):\n",
      " #   Column                    Non-Null Count  Dtype  \n",
      "---  ------                    --------------  -----  \n",
      " 0   Year                      6019 non-null   int64  \n",
      " 1   Mileage                   6017 non-null   object \n",
      " 2   Engine                    6019 non-null   object \n",
      " 3   Power                     5983 non-null   object \n",
      " 4   Seats                     6019 non-null   float64\n",
      " 5   Price                     6019 non-null   float64\n",
      " 6   Location_Ahmedabad        6019 non-null   uint8  \n",
      " 7   Location_Bangalore        6019 non-null   uint8  \n",
      " 8   Location_Chennai          6019 non-null   uint8  \n",
      " 9   Location_Coimbatore       6019 non-null   uint8  \n",
      " 10  Location_Delhi            6019 non-null   uint8  \n",
      " 11  Location_Hyderabad        6019 non-null   uint8  \n",
      " 12  Location_Jaipur           6019 non-null   uint8  \n",
      " 13  Location_Kochi            6019 non-null   uint8  \n",
      " 14  Location_Kolkata          6019 non-null   uint8  \n",
      " 15  Location_Mumbai           6019 non-null   uint8  \n",
      " 16  Location_Pune             6019 non-null   uint8  \n",
      " 17  Fuel_Type_Diesel          6019 non-null   uint8  \n",
      " 18  Fuel_Type_Petrol          6019 non-null   uint8  \n",
      " 19  Transmission_Automatic    6019 non-null   uint8  \n",
      " 20  Transmission_Manual       6019 non-null   uint8  \n",
      " 21  Owner_Type_First          6019 non-null   uint8  \n",
      " 22  Owner_Type_Second         6019 non-null   uint8  \n",
      " 23  Owner_Type_Third          6019 non-null   uint8  \n",
      " 24  Kilometers_Bin_very_low   6019 non-null   uint8  \n",
      " 25  Kilometers_Bin_low        6019 non-null   uint8  \n",
      " 26  Kilometers_Bin_high       6019 non-null   uint8  \n",
      " 27  Kilometers_Bin_very_high  6019 non-null   uint8  \n",
      "dtypes: float64(2), int64(1), object(3), uint8(22)\n",
      "memory usage: 411.6+ KB\n"
     ]
    }
   ],
   "source": [
    "train_df.info()"
   ]
  },
  {
   "cell_type": "code",
   "execution_count": 36,
   "metadata": {},
   "outputs": [
    {
     "name": "stdout",
     "output_type": "stream",
     "text": [
      "<class 'pandas.core.frame.DataFrame'>\n",
      "RangeIndex: 1234 entries, 0 to 1233\n",
      "Data columns (total 27 columns):\n",
      " #   Column                    Non-Null Count  Dtype  \n",
      "---  ------                    --------------  -----  \n",
      " 0   Year                      1234 non-null   int64  \n",
      " 1   Mileage                   1234 non-null   object \n",
      " 2   Engine                    1224 non-null   object \n",
      " 3   Power                     1224 non-null   object \n",
      " 4   Seats                     1234 non-null   float64\n",
      " 5   Location_Ahmedabad        1234 non-null   uint8  \n",
      " 6   Location_Bangalore        1234 non-null   uint8  \n",
      " 7   Location_Chennai          1234 non-null   uint8  \n",
      " 8   Location_Coimbatore       1234 non-null   uint8  \n",
      " 9   Location_Delhi            1234 non-null   uint8  \n",
      " 10  Location_Hyderabad        1234 non-null   uint8  \n",
      " 11  Location_Jaipur           1234 non-null   uint8  \n",
      " 12  Location_Kochi            1234 non-null   uint8  \n",
      " 13  Location_Kolkata          1234 non-null   uint8  \n",
      " 14  Location_Mumbai           1234 non-null   uint8  \n",
      " 15  Location_Pune             1234 non-null   uint8  \n",
      " 16  Fuel_Type_Diesel          1234 non-null   uint8  \n",
      " 17  Fuel_Type_Petrol          1234 non-null   uint8  \n",
      " 18  Transmission_Automatic    1234 non-null   uint8  \n",
      " 19  Transmission_Manual       1234 non-null   uint8  \n",
      " 20  Owner_Type_First          1234 non-null   uint8  \n",
      " 21  Owner_Type_Second         1234 non-null   uint8  \n",
      " 22  Owner_Type_Third          1234 non-null   uint8  \n",
      " 23  Kilometers_Bin_very_low   1234 non-null   uint8  \n",
      " 24  Kilometers_Bin_low        1234 non-null   uint8  \n",
      " 25  Kilometers_Bin_high       1234 non-null   uint8  \n",
      " 26  Kilometers_Bin_very_high  1234 non-null   uint8  \n",
      "dtypes: float64(1), int64(1), object(3), uint8(22)\n",
      "memory usage: 74.8+ KB\n"
     ]
    }
   ],
   "source": [
    "test_df.info()"
   ]
  },
  {
   "cell_type": "markdown",
   "metadata": {},
   "source": [
    "Extracting only the number(engine volume)"
   ]
  },
  {
   "cell_type": "code",
   "execution_count": 37,
   "metadata": {},
   "outputs": [],
   "source": [
    "for i in train_df[\"Engine\"]:\n",
    "    \n",
    "    if type(i) == float:\n",
    "        continue\n",
    "    \n",
    "    else:\n",
    "        p = i.split(' ')\n",
    "    \n",
    "        train_df.loc[train_df[\"Engine\"] == i, \"Engine\"] = float(p[0])"
   ]
  },
  {
   "cell_type": "code",
   "execution_count": 38,
   "metadata": {},
   "outputs": [],
   "source": [
    "for i in test_df[\"Engine\"]:\n",
    "    \n",
    "    if type(i) == float:\n",
    "        continue\n",
    "    \n",
    "    else:\n",
    "        p = i.split(' ')\n",
    "    \n",
    "        test_df.loc[test_df[\"Engine\"] == i, \"Engine\"] = float(p[0])"
   ]
  },
  {
   "cell_type": "code",
   "execution_count": 39,
   "metadata": {},
   "outputs": [
    {
     "data": {
      "text/plain": [
       "0        998\n",
       "1       1582\n",
       "2       1199\n",
       "3       1248\n",
       "4       1968\n",
       "        ... \n",
       "6014    1248\n",
       "6015    1120\n",
       "6016    2498\n",
       "6017     998\n",
       "6018     936\n",
       "Name: Engine, Length: 6019, dtype: object"
      ]
     },
     "execution_count": 39,
     "metadata": {},
     "output_type": "execute_result"
    }
   ],
   "source": [
    "train_df[\"Engine\"]"
   ]
  },
  {
   "cell_type": "code",
   "execution_count": 40,
   "metadata": {},
   "outputs": [
    {
     "data": {
      "text/plain": [
       "0        998\n",
       "1        796\n",
       "2       2393\n",
       "3       1364\n",
       "4       1197\n",
       "        ... \n",
       "1229    1598\n",
       "1230    1197\n",
       "1231    1461\n",
       "1232    1197\n",
       "1233    2148\n",
       "Name: Engine, Length: 1234, dtype: object"
      ]
     },
     "execution_count": 40,
     "metadata": {},
     "output_type": "execute_result"
    }
   ],
   "source": [
    "test_df[\"Engine\"]"
   ]
  },
  {
   "cell_type": "markdown",
   "metadata": {},
   "source": [
    "Filling the empty(0) values with median"
   ]
  },
  {
   "cell_type": "code",
   "execution_count": 41,
   "metadata": {},
   "outputs": [],
   "source": [
    "train_df.loc[train_df[\"Engine\"] == 0, \"Engine\"] = train_df[\"Engine\"].median()"
   ]
  },
  {
   "cell_type": "code",
   "execution_count": 42,
   "metadata": {},
   "outputs": [
    {
     "data": {
      "text/html": [
       "<div>\n",
       "<style scoped>\n",
       "    .dataframe tbody tr th:only-of-type {\n",
       "        vertical-align: middle;\n",
       "    }\n",
       "\n",
       "    .dataframe tbody tr th {\n",
       "        vertical-align: top;\n",
       "    }\n",
       "\n",
       "    .dataframe thead th {\n",
       "        text-align: right;\n",
       "    }\n",
       "</style>\n",
       "<table border=\"1\" class=\"dataframe\">\n",
       "  <thead>\n",
       "    <tr style=\"text-align: right;\">\n",
       "      <th></th>\n",
       "      <th>Year</th>\n",
       "      <th>Mileage</th>\n",
       "      <th>Engine</th>\n",
       "      <th>Power</th>\n",
       "      <th>Seats</th>\n",
       "      <th>Price</th>\n",
       "      <th>Location_Ahmedabad</th>\n",
       "      <th>Location_Bangalore</th>\n",
       "      <th>Location_Chennai</th>\n",
       "      <th>Location_Coimbatore</th>\n",
       "      <th>...</th>\n",
       "      <th>Fuel_Type_Petrol</th>\n",
       "      <th>Transmission_Automatic</th>\n",
       "      <th>Transmission_Manual</th>\n",
       "      <th>Owner_Type_First</th>\n",
       "      <th>Owner_Type_Second</th>\n",
       "      <th>Owner_Type_Third</th>\n",
       "      <th>Kilometers_Bin_very_low</th>\n",
       "      <th>Kilometers_Bin_low</th>\n",
       "      <th>Kilometers_Bin_high</th>\n",
       "      <th>Kilometers_Bin_very_high</th>\n",
       "    </tr>\n",
       "  </thead>\n",
       "  <tbody>\n",
       "  </tbody>\n",
       "</table>\n",
       "<p>0 rows × 28 columns</p>\n",
       "</div>"
      ],
      "text/plain": [
       "Empty DataFrame\n",
       "Columns: [Year, Mileage, Engine, Power, Seats, Price, Location_Ahmedabad, Location_Bangalore, Location_Chennai, Location_Coimbatore, Location_Delhi, Location_Hyderabad, Location_Jaipur, Location_Kochi, Location_Kolkata, Location_Mumbai, Location_Pune, Fuel_Type_Diesel, Fuel_Type_Petrol, Transmission_Automatic, Transmission_Manual, Owner_Type_First, Owner_Type_Second, Owner_Type_Third, Kilometers_Bin_very_low, Kilometers_Bin_low, Kilometers_Bin_high, Kilometers_Bin_very_high]\n",
       "Index: []\n",
       "\n",
       "[0 rows x 28 columns]"
      ]
     },
     "execution_count": 42,
     "metadata": {},
     "output_type": "execute_result"
    }
   ],
   "source": [
    "train_df.loc[train_df['Engine'].isnull()]"
   ]
  },
  {
   "cell_type": "code",
   "execution_count": 43,
   "metadata": {},
   "outputs": [
    {
     "data": {
      "text/html": [
       "<div>\n",
       "<style scoped>\n",
       "    .dataframe tbody tr th:only-of-type {\n",
       "        vertical-align: middle;\n",
       "    }\n",
       "\n",
       "    .dataframe tbody tr th {\n",
       "        vertical-align: top;\n",
       "    }\n",
       "\n",
       "    .dataframe thead th {\n",
       "        text-align: right;\n",
       "    }\n",
       "</style>\n",
       "<table border=\"1\" class=\"dataframe\">\n",
       "  <thead>\n",
       "    <tr style=\"text-align: right;\">\n",
       "      <th></th>\n",
       "      <th>Year</th>\n",
       "      <th>Mileage</th>\n",
       "      <th>Engine</th>\n",
       "      <th>Power</th>\n",
       "      <th>Seats</th>\n",
       "      <th>Location_Ahmedabad</th>\n",
       "      <th>Location_Bangalore</th>\n",
       "      <th>Location_Chennai</th>\n",
       "      <th>Location_Coimbatore</th>\n",
       "      <th>Location_Delhi</th>\n",
       "      <th>...</th>\n",
       "      <th>Fuel_Type_Petrol</th>\n",
       "      <th>Transmission_Automatic</th>\n",
       "      <th>Transmission_Manual</th>\n",
       "      <th>Owner_Type_First</th>\n",
       "      <th>Owner_Type_Second</th>\n",
       "      <th>Owner_Type_Third</th>\n",
       "      <th>Kilometers_Bin_very_low</th>\n",
       "      <th>Kilometers_Bin_low</th>\n",
       "      <th>Kilometers_Bin_high</th>\n",
       "      <th>Kilometers_Bin_very_high</th>\n",
       "    </tr>\n",
       "  </thead>\n",
       "  <tbody>\n",
       "  </tbody>\n",
       "</table>\n",
       "<p>0 rows × 27 columns</p>\n",
       "</div>"
      ],
      "text/plain": [
       "Empty DataFrame\n",
       "Columns: [Year, Mileage, Engine, Power, Seats, Location_Ahmedabad, Location_Bangalore, Location_Chennai, Location_Coimbatore, Location_Delhi, Location_Hyderabad, Location_Jaipur, Location_Kochi, Location_Kolkata, Location_Mumbai, Location_Pune, Fuel_Type_Diesel, Fuel_Type_Petrol, Transmission_Automatic, Transmission_Manual, Owner_Type_First, Owner_Type_Second, Owner_Type_Third, Kilometers_Bin_very_low, Kilometers_Bin_low, Kilometers_Bin_high, Kilometers_Bin_very_high]\n",
       "Index: []\n",
       "\n",
       "[0 rows x 27 columns]"
      ]
     },
     "execution_count": 43,
     "metadata": {},
     "output_type": "execute_result"
    }
   ],
   "source": [
    "test_df.loc[test_df['Mileage'].isnull()]"
   ]
  },
  {
   "cell_type": "markdown",
   "metadata": {},
   "source": [
    "#### Modifying the Mileage feature"
   ]
  },
  {
   "cell_type": "code",
   "execution_count": 44,
   "metadata": {},
   "outputs": [],
   "source": [
    "train_df[\"Mileage\"].fillna(\"0 0\", inplace = True)"
   ]
  },
  {
   "cell_type": "code",
   "execution_count": 45,
   "metadata": {},
   "outputs": [
    {
     "name": "stdout",
     "output_type": "stream",
     "text": [
      "<class 'pandas.core.frame.DataFrame'>\n",
      "RangeIndex: 6019 entries, 0 to 6018\n",
      "Data columns (total 28 columns):\n",
      " #   Column                    Non-Null Count  Dtype  \n",
      "---  ------                    --------------  -----  \n",
      " 0   Year                      6019 non-null   int64  \n",
      " 1   Mileage                   6019 non-null   object \n",
      " 2   Engine                    6019 non-null   object \n",
      " 3   Power                     5983 non-null   object \n",
      " 4   Seats                     6019 non-null   float64\n",
      " 5   Price                     6019 non-null   float64\n",
      " 6   Location_Ahmedabad        6019 non-null   uint8  \n",
      " 7   Location_Bangalore        6019 non-null   uint8  \n",
      " 8   Location_Chennai          6019 non-null   uint8  \n",
      " 9   Location_Coimbatore       6019 non-null   uint8  \n",
      " 10  Location_Delhi            6019 non-null   uint8  \n",
      " 11  Location_Hyderabad        6019 non-null   uint8  \n",
      " 12  Location_Jaipur           6019 non-null   uint8  \n",
      " 13  Location_Kochi            6019 non-null   uint8  \n",
      " 14  Location_Kolkata          6019 non-null   uint8  \n",
      " 15  Location_Mumbai           6019 non-null   uint8  \n",
      " 16  Location_Pune             6019 non-null   uint8  \n",
      " 17  Fuel_Type_Diesel          6019 non-null   uint8  \n",
      " 18  Fuel_Type_Petrol          6019 non-null   uint8  \n",
      " 19  Transmission_Automatic    6019 non-null   uint8  \n",
      " 20  Transmission_Manual       6019 non-null   uint8  \n",
      " 21  Owner_Type_First          6019 non-null   uint8  \n",
      " 22  Owner_Type_Second         6019 non-null   uint8  \n",
      " 23  Owner_Type_Third          6019 non-null   uint8  \n",
      " 24  Kilometers_Bin_very_low   6019 non-null   uint8  \n",
      " 25  Kilometers_Bin_low        6019 non-null   uint8  \n",
      " 26  Kilometers_Bin_high       6019 non-null   uint8  \n",
      " 27  Kilometers_Bin_very_high  6019 non-null   uint8  \n",
      "dtypes: float64(2), int64(1), object(3), uint8(22)\n",
      "memory usage: 411.6+ KB\n"
     ]
    }
   ],
   "source": [
    "train_df.info()"
   ]
  },
  {
   "cell_type": "code",
   "execution_count": 46,
   "metadata": {},
   "outputs": [
    {
     "name": "stdout",
     "output_type": "stream",
     "text": [
      "<class 'pandas.core.frame.DataFrame'>\n",
      "RangeIndex: 1234 entries, 0 to 1233\n",
      "Data columns (total 27 columns):\n",
      " #   Column                    Non-Null Count  Dtype  \n",
      "---  ------                    --------------  -----  \n",
      " 0   Year                      1234 non-null   int64  \n",
      " 1   Mileage                   1234 non-null   object \n",
      " 2   Engine                    1224 non-null   object \n",
      " 3   Power                     1224 non-null   object \n",
      " 4   Seats                     1234 non-null   float64\n",
      " 5   Location_Ahmedabad        1234 non-null   uint8  \n",
      " 6   Location_Bangalore        1234 non-null   uint8  \n",
      " 7   Location_Chennai          1234 non-null   uint8  \n",
      " 8   Location_Coimbatore       1234 non-null   uint8  \n",
      " 9   Location_Delhi            1234 non-null   uint8  \n",
      " 10  Location_Hyderabad        1234 non-null   uint8  \n",
      " 11  Location_Jaipur           1234 non-null   uint8  \n",
      " 12  Location_Kochi            1234 non-null   uint8  \n",
      " 13  Location_Kolkata          1234 non-null   uint8  \n",
      " 14  Location_Mumbai           1234 non-null   uint8  \n",
      " 15  Location_Pune             1234 non-null   uint8  \n",
      " 16  Fuel_Type_Diesel          1234 non-null   uint8  \n",
      " 17  Fuel_Type_Petrol          1234 non-null   uint8  \n",
      " 18  Transmission_Automatic    1234 non-null   uint8  \n",
      " 19  Transmission_Manual       1234 non-null   uint8  \n",
      " 20  Owner_Type_First          1234 non-null   uint8  \n",
      " 21  Owner_Type_Second         1234 non-null   uint8  \n",
      " 22  Owner_Type_Third          1234 non-null   uint8  \n",
      " 23  Kilometers_Bin_very_low   1234 non-null   uint8  \n",
      " 24  Kilometers_Bin_low        1234 non-null   uint8  \n",
      " 25  Kilometers_Bin_high       1234 non-null   uint8  \n",
      " 26  Kilometers_Bin_very_high  1234 non-null   uint8  \n",
      "dtypes: float64(1), int64(1), object(3), uint8(22)\n",
      "memory usage: 74.8+ KB\n"
     ]
    }
   ],
   "source": [
    "test_df.info()"
   ]
  },
  {
   "cell_type": "markdown",
   "metadata": {},
   "source": [
    "Extracting the number(mileage)"
   ]
  },
  {
   "cell_type": "code",
   "execution_count": 47,
   "metadata": {},
   "outputs": [],
   "source": [
    "for i in train_df[\"Mileage\"]:\n",
    "    \n",
    "    if type(i) == float:\n",
    "        continue\n",
    "        \n",
    "    else:\n",
    "        p = i.split(' ')\n",
    "    \n",
    "        train_df.loc[train_df[\"Mileage\"] == i, \"Mileage\"] = float(p[0])"
   ]
  },
  {
   "cell_type": "code",
   "execution_count": 48,
   "metadata": {},
   "outputs": [],
   "source": [
    "for i in test_df[\"Mileage\"]:\n",
    "    \n",
    "    if type(i) == float:\n",
    "        continue\n",
    "        \n",
    "    else:\n",
    "        p = i.split(' ')\n",
    "    \n",
    "        test_df.loc[test_df[\"Mileage\"] == i, \"Mileage\"] = float(p[0])"
   ]
  },
  {
   "cell_type": "code",
   "execution_count": 49,
   "metadata": {},
   "outputs": [
    {
     "data": {
      "text/plain": [
       "0        26.6\n",
       "1       19.67\n",
       "2        18.2\n",
       "3       20.77\n",
       "4        15.2\n",
       "        ...  \n",
       "6014     28.4\n",
       "6015     24.4\n",
       "6016       14\n",
       "6017     18.9\n",
       "6018    25.44\n",
       "Name: Mileage, Length: 6019, dtype: object"
      ]
     },
     "execution_count": 49,
     "metadata": {},
     "output_type": "execute_result"
    }
   ],
   "source": [
    "train_df[\"Mileage\"]"
   ]
  },
  {
   "cell_type": "code",
   "execution_count": 50,
   "metadata": {},
   "outputs": [
    {
     "data": {
      "text/plain": [
       "0       32.26\n",
       "1        24.7\n",
       "2       13.68\n",
       "3       23.59\n",
       "4        18.5\n",
       "        ...  \n",
       "1229    20.54\n",
       "1230    17.21\n",
       "1231    23.08\n",
       "1232     17.2\n",
       "1233       10\n",
       "Name: Mileage, Length: 1234, dtype: object"
      ]
     },
     "execution_count": 50,
     "metadata": {},
     "output_type": "execute_result"
    }
   ],
   "source": [
    "test_df[\"Mileage\"]"
   ]
  },
  {
   "cell_type": "markdown",
   "metadata": {},
   "source": [
    "Filling the empty(0) values with median"
   ]
  },
  {
   "cell_type": "code",
   "execution_count": 51,
   "metadata": {},
   "outputs": [],
   "source": [
    "train_df.loc[train_df[\"Mileage\"] == 0, \"Mileage\"] = train_df[\"Mileage\"].median()"
   ]
  },
  {
   "cell_type": "code",
   "execution_count": 52,
   "metadata": {},
   "outputs": [
    {
     "data": {
      "text/html": [
       "<div>\n",
       "<style scoped>\n",
       "    .dataframe tbody tr th:only-of-type {\n",
       "        vertical-align: middle;\n",
       "    }\n",
       "\n",
       "    .dataframe tbody tr th {\n",
       "        vertical-align: top;\n",
       "    }\n",
       "\n",
       "    .dataframe thead th {\n",
       "        text-align: right;\n",
       "    }\n",
       "</style>\n",
       "<table border=\"1\" class=\"dataframe\">\n",
       "  <thead>\n",
       "    <tr style=\"text-align: right;\">\n",
       "      <th></th>\n",
       "      <th>Year</th>\n",
       "      <th>Mileage</th>\n",
       "      <th>Engine</th>\n",
       "      <th>Power</th>\n",
       "      <th>Seats</th>\n",
       "      <th>Price</th>\n",
       "      <th>Location_Ahmedabad</th>\n",
       "      <th>Location_Bangalore</th>\n",
       "      <th>Location_Chennai</th>\n",
       "      <th>Location_Coimbatore</th>\n",
       "      <th>...</th>\n",
       "      <th>Fuel_Type_Petrol</th>\n",
       "      <th>Transmission_Automatic</th>\n",
       "      <th>Transmission_Manual</th>\n",
       "      <th>Owner_Type_First</th>\n",
       "      <th>Owner_Type_Second</th>\n",
       "      <th>Owner_Type_Third</th>\n",
       "      <th>Kilometers_Bin_very_low</th>\n",
       "      <th>Kilometers_Bin_low</th>\n",
       "      <th>Kilometers_Bin_high</th>\n",
       "      <th>Kilometers_Bin_very_high</th>\n",
       "    </tr>\n",
       "  </thead>\n",
       "  <tbody>\n",
       "  </tbody>\n",
       "</table>\n",
       "<p>0 rows × 28 columns</p>\n",
       "</div>"
      ],
      "text/plain": [
       "Empty DataFrame\n",
       "Columns: [Year, Mileage, Engine, Power, Seats, Price, Location_Ahmedabad, Location_Bangalore, Location_Chennai, Location_Coimbatore, Location_Delhi, Location_Hyderabad, Location_Jaipur, Location_Kochi, Location_Kolkata, Location_Mumbai, Location_Pune, Fuel_Type_Diesel, Fuel_Type_Petrol, Transmission_Automatic, Transmission_Manual, Owner_Type_First, Owner_Type_Second, Owner_Type_Third, Kilometers_Bin_very_low, Kilometers_Bin_low, Kilometers_Bin_high, Kilometers_Bin_very_high]\n",
       "Index: []\n",
       "\n",
       "[0 rows x 28 columns]"
      ]
     },
     "execution_count": 52,
     "metadata": {},
     "output_type": "execute_result"
    }
   ],
   "source": [
    "train_df.loc[train_df['Mileage'].isnull()]"
   ]
  },
  {
   "cell_type": "code",
   "execution_count": 53,
   "metadata": {},
   "outputs": [
    {
     "data": {
      "text/html": [
       "<div>\n",
       "<style scoped>\n",
       "    .dataframe tbody tr th:only-of-type {\n",
       "        vertical-align: middle;\n",
       "    }\n",
       "\n",
       "    .dataframe tbody tr th {\n",
       "        vertical-align: top;\n",
       "    }\n",
       "\n",
       "    .dataframe thead th {\n",
       "        text-align: right;\n",
       "    }\n",
       "</style>\n",
       "<table border=\"1\" class=\"dataframe\">\n",
       "  <thead>\n",
       "    <tr style=\"text-align: right;\">\n",
       "      <th></th>\n",
       "      <th>Year</th>\n",
       "      <th>Mileage</th>\n",
       "      <th>Engine</th>\n",
       "      <th>Power</th>\n",
       "      <th>Seats</th>\n",
       "      <th>Location_Ahmedabad</th>\n",
       "      <th>Location_Bangalore</th>\n",
       "      <th>Location_Chennai</th>\n",
       "      <th>Location_Coimbatore</th>\n",
       "      <th>Location_Delhi</th>\n",
       "      <th>...</th>\n",
       "      <th>Fuel_Type_Petrol</th>\n",
       "      <th>Transmission_Automatic</th>\n",
       "      <th>Transmission_Manual</th>\n",
       "      <th>Owner_Type_First</th>\n",
       "      <th>Owner_Type_Second</th>\n",
       "      <th>Owner_Type_Third</th>\n",
       "      <th>Kilometers_Bin_very_low</th>\n",
       "      <th>Kilometers_Bin_low</th>\n",
       "      <th>Kilometers_Bin_high</th>\n",
       "      <th>Kilometers_Bin_very_high</th>\n",
       "    </tr>\n",
       "  </thead>\n",
       "  <tbody>\n",
       "  </tbody>\n",
       "</table>\n",
       "<p>0 rows × 27 columns</p>\n",
       "</div>"
      ],
      "text/plain": [
       "Empty DataFrame\n",
       "Columns: [Year, Mileage, Engine, Power, Seats, Location_Ahmedabad, Location_Bangalore, Location_Chennai, Location_Coimbatore, Location_Delhi, Location_Hyderabad, Location_Jaipur, Location_Kochi, Location_Kolkata, Location_Mumbai, Location_Pune, Fuel_Type_Diesel, Fuel_Type_Petrol, Transmission_Automatic, Transmission_Manual, Owner_Type_First, Owner_Type_Second, Owner_Type_Third, Kilometers_Bin_very_low, Kilometers_Bin_low, Kilometers_Bin_high, Kilometers_Bin_very_high]\n",
       "Index: []\n",
       "\n",
       "[0 rows x 27 columns]"
      ]
     },
     "execution_count": 53,
     "metadata": {},
     "output_type": "execute_result"
    }
   ],
   "source": [
    "test_df.loc[test_df['Mileage'].isnull()]"
   ]
  },
  {
   "cell_type": "markdown",
   "metadata": {},
   "source": [
    "#### Modifying the Power feature"
   ]
  },
  {
   "cell_type": "markdown",
   "metadata": {},
   "source": [
    "The power feature is directly proportional to the engine feature"
   ]
  },
  {
   "cell_type": "markdown",
   "metadata": {},
   "source": [
    "So we can get rid of the Power feature"
   ]
  },
  {
   "cell_type": "code",
   "execution_count": 54,
   "metadata": {},
   "outputs": [],
   "source": [
    "train_df.drop([\"Power\"], axis = 1, inplace = True)\n",
    "test_df.drop([\"Power\"], axis = 1, inplace = True)"
   ]
  },
  {
   "cell_type": "markdown",
   "metadata": {},
   "source": [
    "#### Converting the object data type to numeric"
   ]
  },
  {
   "cell_type": "code",
   "execution_count": 55,
   "metadata": {},
   "outputs": [],
   "source": [
    "train_df[\"Engine\"] = train_df.Engine.astype(float)\n",
    "train_df[\"Mileage\"] = train_df.Mileage.astype(float)\n",
    "\n",
    "test_df[\"Engine\"] = train_df.Engine.astype(float)\n",
    "test_df[\"Mileage\"] = train_df.Mileage.astype(float)"
   ]
  },
  {
   "cell_type": "code",
   "execution_count": 56,
   "metadata": {},
   "outputs": [
    {
     "name": "stdout",
     "output_type": "stream",
     "text": [
      "<class 'pandas.core.frame.DataFrame'>\n",
      "RangeIndex: 6019 entries, 0 to 6018\n",
      "Data columns (total 27 columns):\n",
      " #   Column                    Non-Null Count  Dtype  \n",
      "---  ------                    --------------  -----  \n",
      " 0   Year                      6019 non-null   int64  \n",
      " 1   Mileage                   6019 non-null   float64\n",
      " 2   Engine                    6019 non-null   float64\n",
      " 3   Seats                     6019 non-null   float64\n",
      " 4   Price                     6019 non-null   float64\n",
      " 5   Location_Ahmedabad        6019 non-null   uint8  \n",
      " 6   Location_Bangalore        6019 non-null   uint8  \n",
      " 7   Location_Chennai          6019 non-null   uint8  \n",
      " 8   Location_Coimbatore       6019 non-null   uint8  \n",
      " 9   Location_Delhi            6019 non-null   uint8  \n",
      " 10  Location_Hyderabad        6019 non-null   uint8  \n",
      " 11  Location_Jaipur           6019 non-null   uint8  \n",
      " 12  Location_Kochi            6019 non-null   uint8  \n",
      " 13  Location_Kolkata          6019 non-null   uint8  \n",
      " 14  Location_Mumbai           6019 non-null   uint8  \n",
      " 15  Location_Pune             6019 non-null   uint8  \n",
      " 16  Fuel_Type_Diesel          6019 non-null   uint8  \n",
      " 17  Fuel_Type_Petrol          6019 non-null   uint8  \n",
      " 18  Transmission_Automatic    6019 non-null   uint8  \n",
      " 19  Transmission_Manual       6019 non-null   uint8  \n",
      " 20  Owner_Type_First          6019 non-null   uint8  \n",
      " 21  Owner_Type_Second         6019 non-null   uint8  \n",
      " 22  Owner_Type_Third          6019 non-null   uint8  \n",
      " 23  Kilometers_Bin_very_low   6019 non-null   uint8  \n",
      " 24  Kilometers_Bin_low        6019 non-null   uint8  \n",
      " 25  Kilometers_Bin_high       6019 non-null   uint8  \n",
      " 26  Kilometers_Bin_very_high  6019 non-null   uint8  \n",
      "dtypes: float64(4), int64(1), uint8(22)\n",
      "memory usage: 364.6 KB\n"
     ]
    }
   ],
   "source": [
    "train_df.info()"
   ]
  },
  {
   "cell_type": "code",
   "execution_count": 57,
   "metadata": {},
   "outputs": [
    {
     "name": "stdout",
     "output_type": "stream",
     "text": [
      "<class 'pandas.core.frame.DataFrame'>\n",
      "RangeIndex: 1234 entries, 0 to 1233\n",
      "Data columns (total 26 columns):\n",
      " #   Column                    Non-Null Count  Dtype  \n",
      "---  ------                    --------------  -----  \n",
      " 0   Year                      1234 non-null   int64  \n",
      " 1   Mileage                   1234 non-null   float64\n",
      " 2   Engine                    1234 non-null   float64\n",
      " 3   Seats                     1234 non-null   float64\n",
      " 4   Location_Ahmedabad        1234 non-null   uint8  \n",
      " 5   Location_Bangalore        1234 non-null   uint8  \n",
      " 6   Location_Chennai          1234 non-null   uint8  \n",
      " 7   Location_Coimbatore       1234 non-null   uint8  \n",
      " 8   Location_Delhi            1234 non-null   uint8  \n",
      " 9   Location_Hyderabad        1234 non-null   uint8  \n",
      " 10  Location_Jaipur           1234 non-null   uint8  \n",
      " 11  Location_Kochi            1234 non-null   uint8  \n",
      " 12  Location_Kolkata          1234 non-null   uint8  \n",
      " 13  Location_Mumbai           1234 non-null   uint8  \n",
      " 14  Location_Pune             1234 non-null   uint8  \n",
      " 15  Fuel_Type_Diesel          1234 non-null   uint8  \n",
      " 16  Fuel_Type_Petrol          1234 non-null   uint8  \n",
      " 17  Transmission_Automatic    1234 non-null   uint8  \n",
      " 18  Transmission_Manual       1234 non-null   uint8  \n",
      " 19  Owner_Type_First          1234 non-null   uint8  \n",
      " 20  Owner_Type_Second         1234 non-null   uint8  \n",
      " 21  Owner_Type_Third          1234 non-null   uint8  \n",
      " 22  Kilometers_Bin_very_low   1234 non-null   uint8  \n",
      " 23  Kilometers_Bin_low        1234 non-null   uint8  \n",
      " 24  Kilometers_Bin_high       1234 non-null   uint8  \n",
      " 25  Kilometers_Bin_very_high  1234 non-null   uint8  \n",
      "dtypes: float64(3), int64(1), uint8(22)\n",
      "memory usage: 65.2 KB\n"
     ]
    }
   ],
   "source": [
    "test_df.info()"
   ]
  },
  {
   "cell_type": "markdown",
   "metadata": {},
   "source": [
    "## Model Creation and Training"
   ]
  },
  {
   "cell_type": "code",
   "execution_count": 58,
   "metadata": {},
   "outputs": [],
   "source": [
    "import sklearn\n",
    "from sklearn.model_selection import train_test_split\n",
    "from sklearn import linear_model"
   ]
  },
  {
   "cell_type": "code",
   "execution_count": 59,
   "metadata": {},
   "outputs": [],
   "source": [
    "# creating the numpy data arrays\n",
    "Y = train_df[\"Price\"].ravel()\n",
    "\n",
    "train_df.drop([\"Price\"], axis = 1, inplace = True)\n",
    "\n",
    "X = train_df.to_numpy().astype(\"float\")\n",
    "\n",
    "x_pred = test_df.to_numpy().astype(\"float\")"
   ]
  },
  {
   "cell_type": "code",
   "execution_count": 60,
   "metadata": {},
   "outputs": [
    {
     "name": "stdout",
     "output_type": "stream",
     "text": [
      "(6019, 26)\n",
      "(6019,)\n",
      "[ 1.75 12.5   4.5  ...  2.9   2.65  2.5 ]\n"
     ]
    }
   ],
   "source": [
    "print(X.shape)\n",
    "print(Y.shape)\n",
    "print(Y)"
   ]
  },
  {
   "cell_type": "code",
   "execution_count": 161,
   "metadata": {},
   "outputs": [
    {
     "name": "stdout",
     "output_type": "stream",
     "text": [
      "(4514, 26)\n",
      "(4514,)\n",
      "(1505, 26)\n",
      "(1505,)\n"
     ]
    }
   ],
   "source": [
    "# test_size = 0.2 tells us that validation occurs with 20% of the data\n",
    "X_train, X_test, Y_train, Y_test = train_test_split(X, Y, test_size = 0.25, random_state = 42) \n",
    "\n",
    "print(X_train.shape)\n",
    "print(Y_train.shape)\n",
    "print(X_test.shape)\n",
    "print(Y_test.shape)"
   ]
  },
  {
   "cell_type": "code",
   "execution_count": 162,
   "metadata": {},
   "outputs": [
    {
     "name": "stdout",
     "output_type": "stream",
     "text": [
      "[28.   13.5   2.6  ...  9.    4.95  5.5 ]\n"
     ]
    }
   ],
   "source": [
    "print(Y_train)"
   ]
  },
  {
   "cell_type": "markdown",
   "metadata": {},
   "source": [
    "### Logistic Regression Model"
   ]
  },
  {
   "cell_type": "code",
   "execution_count": 163,
   "metadata": {},
   "outputs": [],
   "source": [
    "# create the model\n",
    "model_lr_1 = linear_model.RidgeCV(alphas = [1e-3, 1e-2, 1e-1, 1])"
   ]
  },
  {
   "cell_type": "markdown",
   "metadata": {},
   "source": [
    "#### Feature Normalization and Scaling"
   ]
  },
  {
   "cell_type": "code",
   "execution_count": 164,
   "metadata": {},
   "outputs": [],
   "source": [
    "# getting the necessary functions\n",
    "from sklearn.preprocessing import MinMaxScaler, StandardScaler"
   ]
  },
  {
   "cell_type": "code",
   "execution_count": 165,
   "metadata": {},
   "outputs": [],
   "source": [
    "# we scale all the values to (0.0, 1.0) range\n",
    "scaler = MinMaxScaler()\n",
    "X_train_scaled = scaler.fit_transform(X_train)"
   ]
  },
  {
   "cell_type": "markdown",
   "metadata": {},
   "source": [
    "Looking at the max and min values"
   ]
  },
  {
   "cell_type": "code",
   "execution_count": 166,
   "metadata": {},
   "outputs": [
    {
     "data": {
      "text/plain": [
       "(0.0, 1.0)"
      ]
     },
     "execution_count": 166,
     "metadata": {},
     "output_type": "execute_result"
    }
   ],
   "source": [
    "X_train_scaled[:, 0].min(), X_train_scaled[:, 0].max()"
   ]
  },
  {
   "cell_type": "code",
   "execution_count": 167,
   "metadata": {},
   "outputs": [],
   "source": [
    "#normalise the test data\n",
    "X_test_scaled = scaler.transform(X_test)"
   ]
  },
  {
   "cell_type": "code",
   "execution_count": 168,
   "metadata": {},
   "outputs": [
    {
     "data": {
      "text/plain": [
       "RidgeCV(alphas=array([0.001, 0.01 , 0.1  , 1.   ]), cv=None, fit_intercept=True,\n",
       "        gcv_mode=None, normalize=False, scoring=None, store_cv_values=False)"
      ]
     },
     "execution_count": 168,
     "metadata": {},
     "output_type": "execute_result"
    }
   ],
   "source": [
    "# training the model\n",
    "model_lr_1.fit(X_train_scaled, Y_train)"
   ]
  },
  {
   "cell_type": "code",
   "execution_count": 169,
   "metadata": {},
   "outputs": [
    {
     "name": "stdout",
     "output_type": "stream",
     "text": [
      "0.659946350002182\n"
     ]
    }
   ],
   "source": [
    "print(model_lr_1.score(X_test_scaled, Y_test))"
   ]
  },
  {
   "cell_type": "code",
   "execution_count": 171,
   "metadata": {},
   "outputs": [
    {
     "name": "stdout",
     "output_type": "stream",
     "text": [
      "[ 91830.76073057 126050.04685423 103613.76963812 ... 161048.73787226\n",
      "  98950.01104882 158985.78342547]\n"
     ]
    }
   ],
   "source": [
    "predictions = model_lr_1.predict(x_pred)\n",
    "print(predictions)"
   ]
  },
  {
   "cell_type": "code",
   "execution_count": 173,
   "metadata": {},
   "outputs": [],
   "source": [
    "#submissions data frame\n",
    "df_submission = pd.DataFrame({\"Car number\" : test_df.index, \"Price\" : predictions})"
   ]
  },
  {
   "cell_type": "code",
   "execution_count": 174,
   "metadata": {},
   "outputs": [],
   "source": [
    "df_submission.to_csv(\"predictions.csv\", index = False)"
   ]
  }
 ],
 "metadata": {
  "kernelspec": {
   "display_name": "Python 3",
   "language": "python",
   "name": "python3"
  },
  "language_info": {
   "codemirror_mode": {
    "name": "ipython",
    "version": 3
   },
   "file_extension": ".py",
   "mimetype": "text/x-python",
   "name": "python",
   "nbconvert_exporter": "python",
   "pygments_lexer": "ipython3",
   "version": "3.7.6"
  }
 },
 "nbformat": 4,
 "nbformat_minor": 4
}
